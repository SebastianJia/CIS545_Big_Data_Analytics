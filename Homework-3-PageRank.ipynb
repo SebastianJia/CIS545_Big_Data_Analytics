{
 "cells": [
  {
   "cell_type": "code",
   "execution_count": 1,
   "metadata": {},
   "outputs": [],
   "source": [
    "# CIS 545"
   ]
  },
  {
   "cell_type": "code",
   "execution_count": null,
   "metadata": {},
   "outputs": [],
   "source": []
  },
  {
   "cell_type": "markdown",
   "metadata": {
    "deletable": false,
    "editable": false,
    "nbgrader": {
     "checksum": "f2970a7316581f510edb947bab4f3db2",
     "grade": false,
     "grade_id": "note-hw3-2",
     "locked": true,
     "schema_version": 1,
     "solution": false
    }
   },
   "source": [
    "\n",
    "\n",
    "\n",
    "\n",
    "# Homework 3, Part 2: PageRank (75 Points)\n",
    "\n",
    "## Section 1: Computing PageRank (35 points)\n",
    "\n",
    "For this part of the homework, you will use Jupyter on your local machine to understand and analyze graphs, first using some basic NetworkX packages and then by implementing matrix-based PageRank. \n",
    "\n",
    "After calculating PageRank for a large graph, you will explore how PageRank is affected by adding and deleting certain links in the graph and will gain insight into connectivity.\n"
   ]
  },
  {
   "cell_type": "markdown",
   "metadata": {
    "deletable": false,
    "editable": false,
    "nbgrader": {
     "checksum": "306eec8944d6789358efe3394cfb939f",
     "grade": false,
     "grade_id": "note-pagerank",
     "locked": true,
     "schema_version": 1,
     "solution": false
    }
   },
   "source": [
    "Recall that PageRank can be modeled using matrix operations as follows.  Let $M$ be a _weight transfer matrix_ in which:\n",
    "\n",
    "$M[i,j] = \\frac{1}{n_j}$, if $n_j > 0$ and \n",
    "\n",
    "$M[i,j] = 0$ otherwise\n",
    "\n",
    "where page $i$ is pointed to by page $j$ and page $j$ has $n_j$ outgoing links. And define a _dampening factor_ $\\alpha = 0.85$ and a corresponding $\\beta = 1 - \\alpha$.  Initialize the PageRank vector\n",
    "\n",
    "$PR^{(0)}=[1,1,1,\\ldots]^T$\n",
    "\n",
    "(i.e., a matrix with m rows by 1 column, filled with ones).  Then we can compute the PageRank $PR$ for each iteration as:\n",
    "\n",
    "$PR^{(i)}= \\alpha \\cdot M \\cdot PR^{(i-1)} + \\beta \\cdot [1,1,1,\\ldots]^T$"
   ]
  },
  {
   "cell_type": "code",
   "execution_count": 2,
   "metadata": {
    "deletable": false,
    "editable": false,
    "nbgrader": {
     "checksum": "0ae045864116982da28ac88d350e33b1",
     "grade": false,
     "grade_id": "hw3-test2-pad1",
     "locked": true,
     "schema_version": 1,
     "solution": false
    }
   },
   "outputs": [
    {
     "name": "stdout",
     "output_type": "stream",
     "text": [
      "[CIS 545 Homework 3] Test Case Padding\n"
     ]
    }
   ],
   "source": [
    "# [hw3-pad]\n",
    "# This cell is for grading purposes only!\n",
    "# \"score\" cells you may ignore, please don't interpret them as your grade!\n",
    "\n",
    "score = 0 # for manual grading\n",
    "\n",
    "print(\"[CIS 545 Homework 3] Test Case Padding\")"
   ]
  },
  {
   "cell_type": "code",
   "execution_count": 3,
   "metadata": {
    "deletable": false,
    "editable": false,
    "nbgrader": {
     "checksum": "e2c75cea02ca0c254e814645a18943dc",
     "grade": false,
     "grade_id": "hw3-import-packages",
     "locked": true,
     "schema_version": 1,
     "solution": false
    }
   },
   "outputs": [],
   "source": [
    "import pandas as pd\n",
    "import numpy as np\n",
    "\n",
    "import matplotlib.pyplot as plt\n",
    "%matplotlib inline"
   ]
  },
  {
   "cell_type": "markdown",
   "metadata": {
    "deletable": false,
    "editable": false,
    "nbgrader": {
     "checksum": "5650a19ade128575e573ee3318ad2f60",
     "grade": false,
     "grade_id": "step2-1",
     "locked": true,
     "schema_version": 1,
     "solution": false
    }
   },
   "source": [
    "### Step 2.1 Download a web graph and store in a dataframe\n",
    "The following code retrieves a web graph from https://snap.stanford.edu/data/web-NotreDame.txt.gz, which is a reasonably sized Web crawl done by Notre Dame University, and extracts it into `web-NotreDame.txt`.  Run the program to acquire your Web graph.\n"
   ]
  },
  {
   "cell_type": "code",
   "execution_count": 4,
   "metadata": {
    "deletable": false,
    "editable": false,
    "nbgrader": {
     "checksum": "0d59bfb036f6091b024efe6acc22e095",
     "grade": false,
     "grade_id": "hw3-downloadnotredame",
     "locked": true,
     "schema_version": 1,
     "solution": false
    }
   },
   "outputs": [
    {
     "name": "stdout",
     "output_type": "stream",
     "text": [
      "Downloading compressed image of web-NotreDame.txt\n",
      "Saved web-NotreDame.txt\n"
     ]
    }
   ],
   "source": [
    "# Download and decompress data into your Jupyter environment\n",
    "# Note this dataset is the same as the one Homework 3-1!\n",
    "\n",
    "import urllib.request\n",
    "import io\n",
    "import gzip\n",
    "\n",
    "\n",
    "for file in ['web-NotreDame.txt']:\n",
    "    print ('Downloading compressed image of', file)\n",
    "    source = urllib.request.urlopen(\"https://snap.stanford.edu/data/\" + file + \".gz\")\n",
    "    compressedFile = io.BytesIO(source.read())\n",
    "    decompressedFile = gzip.GzipFile(fileobj=compressedFile)\n",
    "\n",
    "    with open(file, 'wb') as outfile:\n",
    "        outfile.write(decompressedFile.read())\n",
    "        outfile.close()\n",
    "        print ('Saved', file)"
   ]
  },
  {
   "cell_type": "markdown",
   "metadata": {
    "deletable": false,
    "editable": false,
    "nbgrader": {
     "checksum": "2ececc422561d61fe9541b63138f7084",
     "grade": false,
     "grade_id": "note-readcsv",
     "locked": true,
     "schema_version": 1,
     "solution": false
    }
   },
   "source": [
    "Next, write Python code to take the data from `web-NotreDame.txt`, and read and parse the rows in a Pandas DataFrame (not a Spark DataFrame!) called `graph_df`.  Restrict the node IDs to values less than 5,000.  You will see that the resulting dataset is still quite large (16,665 rows).\n",
    "\n",
    "**Hint**: If you use_ `read_csv`_, you may need to look at the_ `sep` _and_ `skiprows` _options.  Also take a look at the raw data and make sure you know how many rows don't contain data, and how the items are separated.  "
   ]
  },
  {
   "cell_type": "code",
   "execution_count": 5,
   "metadata": {
    "deletable": false,
    "nbgrader": {
     "checksum": "bf079536d075cf02cbdcdc19c3ea5286",
     "grade": false,
     "grade_id": "hw3-readcsv",
     "locked": false,
     "schema_version": 1,
     "solution": true
    }
   },
   "outputs": [
    {
     "data": {
      "text/html": [
       "<div>\n",
       "<style scoped>\n",
       "    .dataframe tbody tr th:only-of-type {\n",
       "        vertical-align: middle;\n",
       "    }\n",
       "\n",
       "    .dataframe tbody tr th {\n",
       "        vertical-align: top;\n",
       "    }\n",
       "\n",
       "    .dataframe thead th {\n",
       "        text-align: right;\n",
       "    }\n",
       "</style>\n",
       "<table border=\"1\" class=\"dataframe\">\n",
       "  <thead>\n",
       "    <tr style=\"text-align: right;\">\n",
       "      <th></th>\n",
       "      <th>from_node</th>\n",
       "      <th>to_node</th>\n",
       "    </tr>\n",
       "  </thead>\n",
       "  <tbody>\n",
       "    <tr>\n",
       "      <th>0</th>\n",
       "      <td>0</td>\n",
       "      <td>0</td>\n",
       "    </tr>\n",
       "    <tr>\n",
       "      <th>1</th>\n",
       "      <td>0</td>\n",
       "      <td>1</td>\n",
       "    </tr>\n",
       "    <tr>\n",
       "      <th>2</th>\n",
       "      <td>0</td>\n",
       "      <td>2</td>\n",
       "    </tr>\n",
       "    <tr>\n",
       "      <th>3</th>\n",
       "      <td>0</td>\n",
       "      <td>3</td>\n",
       "    </tr>\n",
       "    <tr>\n",
       "      <th>4</th>\n",
       "      <td>0</td>\n",
       "      <td>4</td>\n",
       "    </tr>\n",
       "    <tr>\n",
       "      <th>5</th>\n",
       "      <td>0</td>\n",
       "      <td>5</td>\n",
       "    </tr>\n",
       "    <tr>\n",
       "      <th>6</th>\n",
       "      <td>0</td>\n",
       "      <td>6</td>\n",
       "    </tr>\n",
       "    <tr>\n",
       "      <th>7</th>\n",
       "      <td>0</td>\n",
       "      <td>7</td>\n",
       "    </tr>\n",
       "    <tr>\n",
       "      <th>8</th>\n",
       "      <td>0</td>\n",
       "      <td>8</td>\n",
       "    </tr>\n",
       "    <tr>\n",
       "      <th>9</th>\n",
       "      <td>0</td>\n",
       "      <td>9</td>\n",
       "    </tr>\n",
       "    <tr>\n",
       "      <th>10</th>\n",
       "      <td>0</td>\n",
       "      <td>10</td>\n",
       "    </tr>\n",
       "    <tr>\n",
       "      <th>11</th>\n",
       "      <td>0</td>\n",
       "      <td>11</td>\n",
       "    </tr>\n",
       "    <tr>\n",
       "      <th>12</th>\n",
       "      <td>0</td>\n",
       "      <td>12</td>\n",
       "    </tr>\n",
       "    <tr>\n",
       "      <th>13</th>\n",
       "      <td>0</td>\n",
       "      <td>13</td>\n",
       "    </tr>\n",
       "    <tr>\n",
       "      <th>14</th>\n",
       "      <td>0</td>\n",
       "      <td>14</td>\n",
       "    </tr>\n",
       "    <tr>\n",
       "      <th>15</th>\n",
       "      <td>0</td>\n",
       "      <td>15</td>\n",
       "    </tr>\n",
       "    <tr>\n",
       "      <th>16</th>\n",
       "      <td>0</td>\n",
       "      <td>16</td>\n",
       "    </tr>\n",
       "    <tr>\n",
       "      <th>17</th>\n",
       "      <td>1</td>\n",
       "      <td>0</td>\n",
       "    </tr>\n",
       "    <tr>\n",
       "      <th>18</th>\n",
       "      <td>1</td>\n",
       "      <td>7</td>\n",
       "    </tr>\n",
       "    <tr>\n",
       "      <th>19</th>\n",
       "      <td>1</td>\n",
       "      <td>17</td>\n",
       "    </tr>\n",
       "  </tbody>\n",
       "</table>\n",
       "</div>"
      ],
      "text/plain": [
       "    from_node  to_node\n",
       "0           0        0\n",
       "1           0        1\n",
       "2           0        2\n",
       "3           0        3\n",
       "4           0        4\n",
       "5           0        5\n",
       "6           0        6\n",
       "7           0        7\n",
       "8           0        8\n",
       "9           0        9\n",
       "10          0       10\n",
       "11          0       11\n",
       "12          0       12\n",
       "13          0       13\n",
       "14          0       14\n",
       "15          0       15\n",
       "16          0       16\n",
       "17          1        0\n",
       "18          1        7\n",
       "19          1       17"
      ]
     },
     "execution_count": 5,
     "metadata": {},
     "output_type": "execute_result"
    }
   ],
   "source": [
    "# [hw3-readcsv]\n",
    "# TODO: In this cell, store the data from web-NotreDame.txt \n",
    "# in a dataframe called graph_df. \n",
    "# Note this is NOT 'graph_sdf' (we aren't using Spark!)\n",
    "# (5 points)\n",
    "\n",
    "graph_df = ''\n",
    "\n",
    "graph_df = pd.read_csv('web-NotreDame.txt', sep ='\\t', skiprows=range(3))\n",
    "graph_df.columns = ['from_node', 'to_node']\n",
    "graph_df = graph_df[graph_df['from_node']<5000]\n",
    "graph_df = graph_df[graph_df['to_node']<5000]\n",
    "graph_df.head(20)"
   ]
  },
  {
   "cell_type": "code",
   "execution_count": null,
   "metadata": {},
   "outputs": [],
   "source": []
  },
  {
   "cell_type": "code",
   "execution_count": 6,
   "metadata": {
    "deletable": false,
    "editable": false,
    "nbgrader": {
     "checksum": "77eae32768848d7ae95babb37c102d2d",
     "grade": false,
     "grade_id": "test-graphset",
     "locked": true,
     "schema_version": 1,
     "solution": false
    }
   },
   "outputs": [],
   "source": [
    "# [test-graphset]\n",
    "# [CIS 545 Homework 3] Test Case\n",
    "\n",
    "if (graph_df.shape[1] != 2):\n",
    "    raise ValueError('Incorrect number of columns')"
   ]
  },
  {
   "cell_type": "code",
   "execution_count": 7,
   "metadata": {
    "deletable": false,
    "editable": false,
    "nbgrader": {
     "checksum": "a7e92ad69a1fb064760681307f7a3b5e",
     "grade": false,
     "grade_id": "test-pad6",
     "locked": true,
     "schema_version": 1,
     "solution": false
    }
   },
   "outputs": [
    {
     "name": "stdout",
     "output_type": "stream",
     "text": [
      "[CIS 545 Homework 3] Test Case - 0 points\n"
     ]
    }
   ],
   "source": [
    "# [CIS 545 Test Cases] (0 pts)\n",
    "print(\"[CIS 545 Homework 3] Test Case - 0 points\")\n",
    "score = score + 0"
   ]
  },
  {
   "cell_type": "code",
   "execution_count": 8,
   "metadata": {
    "deletable": false,
    "editable": false,
    "nbgrader": {
     "checksum": "4a3f16fe707a99b5cd067d0c1c20932d",
     "grade": true,
     "grade_id": "test-graphshape",
     "locked": true,
     "points": 5,
     "schema_version": 1,
     "solution": false
    }
   },
   "outputs": [],
   "source": [
    "# [test-graphshape]\n",
    "# [CIS 545 Homework 3] Test Case\n"
   ]
  },
  {
   "cell_type": "code",
   "execution_count": 9,
   "metadata": {
    "deletable": false,
    "editable": false,
    "nbgrader": {
     "checksum": "2bc8a01c80ff08c2271161c3a8dc75e5",
     "grade": false,
     "grade_id": "test-pad7",
     "locked": true,
     "schema_version": 1,
     "solution": false
    }
   },
   "outputs": [
    {
     "name": "stdout",
     "output_type": "stream",
     "text": [
      "[CIS 545 Homework 3] Test Case - 5 points\n"
     ]
    }
   ],
   "source": [
    "# [CIS 545 Test Cases] (5 pts)\n",
    "print(\"[CIS 545 Homework 3] Test Case - 5 points\")\n",
    "score = score + 5"
   ]
  },
  {
   "cell_type": "markdown",
   "metadata": {
    "deletable": false,
    "editable": false,
    "nbgrader": {
     "checksum": "a3d92f4da19648f18cd6f8b573fb4509",
     "grade": false,
     "grade_id": "step2-2",
     "locked": true,
     "schema_version": 1,
     "solution": false
    }
   },
   "source": [
    "### Step 2.2 Load the web graph into a matrix\n",
    "\n",
    "We will now return to `graph_df` and use it to create a __weight transfer matrix M__, with edges whose weights are scaled as desribed at the beginning of this homework.  This will used as input to your PageRank algorithm.  Note that the dataset already includes node IDs that go from $0,\\ldots,m$, so you can directly use the node IDs as indices in your matrix.  You should not use for loops, and instead, use the DataFrame and array functions that Pandas and NumPy provide as they are much more efficient.\n",
    "\n",
    "When building $M$, you may need to build some \"auxiliary\" data structures to speed up performance, e.g., to quickly look up weights associated with node edges.  Note that lookup in an array is typically faster than lookup in a DataFrame.  Finally, you might want to use the_ `apply` _function for Pandas DataFrames or Numpy Matrices as they are orders of magnitude faster than trying to iterate through every row.  However, this is not a requirement -- just make sure you aren’t using for loops!_"
   ]
  },
  {
   "cell_type": "code",
   "execution_count": 10,
   "metadata": {
    "deletable": false,
    "nbgrader": {
     "checksum": "396bdf38e51e808041ae8b0b44cbd5b3",
     "grade": false,
     "grade_id": "hw3-transfermatrix",
     "locked": false,
     "schema_version": 1,
     "solution": true
    }
   },
   "outputs": [
    {
     "name": "stderr",
     "output_type": "stream",
     "text": [
      "/opt/conda/lib/python3.6/site-packages/ipykernel_launcher.py:5: RuntimeWarning: divide by zero encountered in true_divide\n",
      "  \"\"\"\n",
      "/opt/conda/lib/python3.6/site-packages/ipykernel_launcher.py:5: RuntimeWarning: invalid value encountered in multiply\n",
      "  \"\"\"\n"
     ]
    }
   ],
   "source": [
    "# [hw3-transfermatrix]\n",
    "# TODO: Create the weight transfer matrix M matrix for graph_df\n",
    "# (15 points)\n",
    "def my_fun(a):\n",
    "    return np.multiply(a, 1.0/count)\n",
    "a = graph_df['from_node'].unique()\n",
    "b = graph_df['to_node'].unique()\n",
    "a = np.union1d(a,b)\n",
    "size = a.shape[0]\n",
    "M = np.zeros((size,size))\n",
    "from_node = np.array(graph_df['from_node'])\n",
    "to_node = np.array(graph_df['to_node'])\n",
    "count = np.zeros(size)\n",
    "nodes, counts = np.unique(from_node, return_counts = True)\n",
    "count[nodes] = counts\n",
    "M[to_node, from_node] = 1\n",
    "M = np.apply_along_axis(my_fun, 1, M)\n",
    "M[M== float('Inf') ] =0\n",
    "where_are_NaNs = np.isnan(M)\n",
    "M[where_are_NaNs] = 0\n"
   ]
  },
  {
   "cell_type": "code",
   "execution_count": 11,
   "metadata": {
    "deletable": false,
    "editable": false,
    "nbgrader": {
     "checksum": "5ee9b6245d3d7de6fa4e145b5ad380bb",
     "grade": false,
     "grade_id": "test-Mshape",
     "locked": true,
     "schema_version": 1,
     "solution": false
    }
   },
   "outputs": [],
   "source": [
    "# [test-Mshape]\n",
    "# [CIS 545 Homework 3] Test Case\n",
    "\n",
    "if (M.shape != (5000,5000)):\n",
    "    raise ValueError(\"Incorrect Matrix dimensions\")"
   ]
  },
  {
   "cell_type": "code",
   "execution_count": 12,
   "metadata": {
    "deletable": false,
    "editable": false,
    "nbgrader": {
     "checksum": "a1f3faa6cfa6cbe24fe6df8535f34b0c",
     "grade": false,
     "grade_id": "test-pad8",
     "locked": true,
     "schema_version": 1,
     "solution": false
    }
   },
   "outputs": [
    {
     "name": "stdout",
     "output_type": "stream",
     "text": [
      "[CIS 545 Homework 3] Test Case - 0 points\n"
     ]
    }
   ],
   "source": [
    "# [CIS 545 Test Cases] (0 pts)\n",
    "print(\"[CIS 545 Homework 3] Test Case - 0 points\")\n",
    "score = score + 0"
   ]
  },
  {
   "cell_type": "code",
   "execution_count": 13,
   "metadata": {
    "deletable": false,
    "editable": false,
    "nbgrader": {
     "checksum": "1c4c159ff179e508d9efced1507118ba",
     "grade": true,
     "grade_id": "test-weightTX1",
     "locked": true,
     "points": 4,
     "schema_version": 1,
     "solution": false
    }
   },
   "outputs": [],
   "source": [
    "# [test-weightTX1]\n",
    "# [CIS 545 Homework 3] Test Case\n",
    "# Testing the values in M\n"
   ]
  },
  {
   "cell_type": "code",
   "execution_count": 14,
   "metadata": {
    "deletable": false,
    "editable": false,
    "nbgrader": {
     "checksum": "ef45dd7854bd4c7417c97dd33f4f79ff",
     "grade": false,
     "grade_id": "test-pad9",
     "locked": true,
     "schema_version": 1,
     "solution": false
    }
   },
   "outputs": [
    {
     "name": "stdout",
     "output_type": "stream",
     "text": [
      "[CIS 545 Homework 3] Test Case - 4 points\n"
     ]
    }
   ],
   "source": [
    "# [CIS 545 Test Cases] (4 pts)\n",
    "print(\"[CIS 545 Homework 3] Test Case - 4 points\")\n",
    "score = score + 4"
   ]
  },
  {
   "cell_type": "code",
   "execution_count": 15,
   "metadata": {
    "deletable": false,
    "editable": false,
    "nbgrader": {
     "checksum": "c302a7937c494b59bc2679b1fb6658a7",
     "grade": true,
     "grade_id": "test-weightTX2",
     "locked": true,
     "points": 4,
     "schema_version": 1,
     "solution": false
    }
   },
   "outputs": [],
   "source": [
    "# [test-weightTX1]\n",
    "# [CIS 545 Homework 3] Test Case\n",
    "# Testing the values in M\n"
   ]
  },
  {
   "cell_type": "code",
   "execution_count": 16,
   "metadata": {
    "deletable": false,
    "editable": false,
    "nbgrader": {
     "checksum": "73a0cb716c5c6043f1bfeadfbcfd9a05",
     "grade": false,
     "grade_id": "test-pad10",
     "locked": true,
     "schema_version": 1,
     "solution": false
    }
   },
   "outputs": [
    {
     "name": "stdout",
     "output_type": "stream",
     "text": [
      "[CIS 545 Homework 3] Test Case - 4 points\n"
     ]
    }
   ],
   "source": [
    "# [CIS 545 Test Cases] (4 pts)\n",
    "print(\"[CIS 545 Homework 3] Test Case - 4 points\")\n",
    "score = score + 4"
   ]
  },
  {
   "cell_type": "code",
   "execution_count": 17,
   "metadata": {
    "deletable": false,
    "editable": false,
    "nbgrader": {
     "checksum": "3384a919bd8b363081c5a2f9d40dcd6d",
     "grade": true,
     "grade_id": "test-weightsum1",
     "locked": true,
     "points": 4,
     "schema_version": 1,
     "solution": false
    }
   },
   "outputs": [],
   "source": [
    "# [test-weightsum1]\n",
    "# [CIS 545 Homework 3] Test Case\n",
    "# Testing the sum of certain setups in M\n"
   ]
  },
  {
   "cell_type": "code",
   "execution_count": 18,
   "metadata": {
    "deletable": false,
    "editable": false,
    "nbgrader": {
     "checksum": "45b8f89a32d03641d5ff5d7f364fdc4b",
     "grade": false,
     "grade_id": "test-pad11",
     "locked": true,
     "schema_version": 1,
     "solution": false
    }
   },
   "outputs": [
    {
     "name": "stdout",
     "output_type": "stream",
     "text": [
      "[CIS 545 Homework 3] Test Case - 4 points\n"
     ]
    }
   ],
   "source": [
    "# [CIS 545 Test Cases] (4 pts)\n",
    "print(\"[CIS 545 Homework 3] Test Case - 4 points\")\n",
    "score = score + 4"
   ]
  },
  {
   "cell_type": "code",
   "execution_count": 19,
   "metadata": {
    "deletable": false,
    "editable": false,
    "nbgrader": {
     "checksum": "afdb2521c13babb345d9b6e441a31a68",
     "grade": true,
     "grade_id": "test-weightsum2",
     "locked": true,
     "points": 3,
     "schema_version": 1,
     "solution": false
    }
   },
   "outputs": [],
   "source": [
    "# [test-weightsum2]\n",
    "# [CIS 545 Homework 3] Test Case\n",
    "# Testing the sum of certain setups in M\n"
   ]
  },
  {
   "cell_type": "code",
   "execution_count": 20,
   "metadata": {
    "deletable": false,
    "editable": false,
    "nbgrader": {
     "checksum": "3520f9223150ef9368b143c76279130c",
     "grade": false,
     "grade_id": "test-pad12",
     "locked": true,
     "schema_version": 1,
     "solution": false
    }
   },
   "outputs": [
    {
     "name": "stdout",
     "output_type": "stream",
     "text": [
      "[CIS 545 Homework 3] Test Case - 3 points\n"
     ]
    }
   ],
   "source": [
    "# [CIS 545 Test Cases] (3 pts)\n",
    "print(\"[CIS 545 Homework 3] Test Case - 3 points\")\n",
    "score = score + 3"
   ]
  },
  {
   "cell_type": "markdown",
   "metadata": {
    "deletable": false,
    "editable": false,
    "nbgrader": {
     "checksum": "2217d09eeabf220d2c24e0fd47beaaee",
     "grade": false,
     "grade_id": "step2-3",
     "locked": true,
     "schema_version": 1,
     "solution": false
    }
   },
   "source": [
    "### Step 2.3 Compute matrix-based PageRank\n",
    "Implement a function `pagerank(M, alpha, num_iter)` that, when given a square $m \\times m$ transition matrix $M$ from Step 2.2, initializes the PageRank vector to $m$ 1’s, sets $\\alpha$ = `alpha`, sets $\\beta$ appropriately given $\\alpha$, and iterates `num_iter` times.  Return an $m$-element vector that consists of the final PageRank scores."
   ]
  },
  {
   "cell_type": "code",
   "execution_count": 21,
   "metadata": {
    "deletable": false,
    "nbgrader": {
     "checksum": "153562ca0d50a11c3b3e91da4d54e8e9",
     "grade": false,
     "grade_id": "hw3-pagerank",
     "locked": false,
     "schema_version": 1,
     "solution": true
    }
   },
   "outputs": [],
   "source": [
    "# [hw3-pagerank]\n",
    "# TODO: Write your pagerank function in this cell\n",
    "# Read the above carefully!\n",
    "# (12 points)\n",
    "\n",
    "def pagerank(M, alpha, num_iter):\n",
    "    size = M.shape[0]\n",
    "    PR = np.ones(size).T\n",
    "    for i in range(num_iter):\n",
    "        PR = alpha * M.dot(PR)+ (1-alpha)*np.ones(size).T\n",
    "    return PR\n",
    "        \n"
   ]
  },
  {
   "cell_type": "code",
   "execution_count": 22,
   "metadata": {
    "deletable": false,
    "editable": false,
    "nbgrader": {
     "checksum": "5bd9277832744337472d60a23b0c9858",
     "grade": false,
     "grade_id": "hw3-execute",
     "locked": true,
     "schema_version": 1,
     "solution": false
    }
   },
   "outputs": [
    {
     "data": {
      "text/plain": [
       "array([110.31241416,  20.62536353,   5.67712058, ...,   0.15248362,\n",
       "         0.15248362,   0.15248362])"
      ]
     },
     "execution_count": 22,
     "metadata": {},
     "output_type": "execute_result"
    }
   ],
   "source": [
    "# [hw3-execute]\n",
    "# This cell executes pagerank() and displays your output\n",
    "\n",
    "pr = pagerank(M, 0.85, 15)\n",
    "pr"
   ]
  },
  {
   "cell_type": "markdown",
   "metadata": {
    "deletable": false,
    "editable": false,
    "nbgrader": {
     "checksum": "7fcba7f00424792c9ed2f960878790a6",
     "grade": false,
     "grade_id": "note-bestpages",
     "locked": true,
     "schema_version": 1,
     "solution": false
    }
   },
   "source": [
    "Output a DataFrame called `best_pages_df` with the schema `(id, pagerank)` containing the original IDs and PageRanks of the nodes with top-100 highest PageRank, in descending order."
   ]
  },
  {
   "cell_type": "code",
   "execution_count": 23,
   "metadata": {
    "deletable": false,
    "nbgrader": {
     "checksum": "699f968678ecfa2e34e4161c2f61d231",
     "grade": false,
     "grade_id": "hw3-bestpages",
     "locked": false,
     "schema_version": 1,
     "solution": true
    }
   },
   "outputs": [],
   "source": [
    "# [hw3-bestpages]\n",
    "# TODO: Output (id, pagerank) of all nodes, sorted by pagerank.\n",
    "# The output should be a dataframe\n",
    "# (3 points)\n",
    "best_pages_df = pd.DataFrame()\n",
    "best_pages_df['id'] = list(range(5000))\n",
    "best_pages_df['pagerank'] = pr\n",
    "best_pages_df = best_pages_df.sort_values(by=['pagerank'], ascending=False)\n",
    "\n",
    "#best_pages_df =best_pages_df[0:100]"
   ]
  },
  {
   "cell_type": "code",
   "execution_count": 24,
   "metadata": {},
   "outputs": [
    {
     "data": {
      "text/html": [
       "<div>\n",
       "<style scoped>\n",
       "    .dataframe tbody tr th:only-of-type {\n",
       "        vertical-align: middle;\n",
       "    }\n",
       "\n",
       "    .dataframe tbody tr th {\n",
       "        vertical-align: top;\n",
       "    }\n",
       "\n",
       "    .dataframe thead th {\n",
       "        text-align: right;\n",
       "    }\n",
       "</style>\n",
       "<table border=\"1\" class=\"dataframe\">\n",
       "  <thead>\n",
       "    <tr style=\"text-align: right;\">\n",
       "      <th></th>\n",
       "      <th>id</th>\n",
       "      <th>pagerank</th>\n",
       "    </tr>\n",
       "  </thead>\n",
       "  <tbody>\n",
       "    <tr>\n",
       "      <th>0</th>\n",
       "      <td>0</td>\n",
       "      <td>110.312414</td>\n",
       "    </tr>\n",
       "    <tr>\n",
       "      <th>1</th>\n",
       "      <td>1</td>\n",
       "      <td>20.625364</td>\n",
       "    </tr>\n",
       "    <tr>\n",
       "      <th>140</th>\n",
       "      <td>140</td>\n",
       "      <td>18.483226</td>\n",
       "    </tr>\n",
       "    <tr>\n",
       "      <th>162</th>\n",
       "      <td>162</td>\n",
       "      <td>16.096038</td>\n",
       "    </tr>\n",
       "    <tr>\n",
       "      <th>238</th>\n",
       "      <td>238</td>\n",
       "      <td>14.848632</td>\n",
       "    </tr>\n",
       "    <tr>\n",
       "      <th>214</th>\n",
       "      <td>214</td>\n",
       "      <td>14.096148</td>\n",
       "    </tr>\n",
       "    <tr>\n",
       "      <th>16</th>\n",
       "      <td>16</td>\n",
       "      <td>12.654063</td>\n",
       "    </tr>\n",
       "    <tr>\n",
       "      <th>14</th>\n",
       "      <td>14</td>\n",
       "      <td>12.296607</td>\n",
       "    </tr>\n",
       "    <tr>\n",
       "      <th>1973</th>\n",
       "      <td>1973</td>\n",
       "      <td>12.292720</td>\n",
       "    </tr>\n",
       "    <tr>\n",
       "      <th>237</th>\n",
       "      <td>237</td>\n",
       "      <td>9.049141</td>\n",
       "    </tr>\n",
       "    <tr>\n",
       "      <th>64</th>\n",
       "      <td>64</td>\n",
       "      <td>8.678406</td>\n",
       "    </tr>\n",
       "    <tr>\n",
       "      <th>3479</th>\n",
       "      <td>3479</td>\n",
       "      <td>8.402963</td>\n",
       "    </tr>\n",
       "    <tr>\n",
       "      <th>3478</th>\n",
       "      <td>3478</td>\n",
       "      <td>8.402963</td>\n",
       "    </tr>\n",
       "    <tr>\n",
       "      <th>15</th>\n",
       "      <td>15</td>\n",
       "      <td>8.183307</td>\n",
       "    </tr>\n",
       "    <tr>\n",
       "      <th>4</th>\n",
       "      <td>4</td>\n",
       "      <td>7.917491</td>\n",
       "    </tr>\n",
       "    <tr>\n",
       "      <th>35</th>\n",
       "      <td>35</td>\n",
       "      <td>7.201349</td>\n",
       "    </tr>\n",
       "    <tr>\n",
       "      <th>13</th>\n",
       "      <td>13</td>\n",
       "      <td>6.944189</td>\n",
       "    </tr>\n",
       "    <tr>\n",
       "      <th>11</th>\n",
       "      <td>11</td>\n",
       "      <td>6.693484</td>\n",
       "    </tr>\n",
       "    <tr>\n",
       "      <th>7</th>\n",
       "      <td>7</td>\n",
       "      <td>6.668330</td>\n",
       "    </tr>\n",
       "    <tr>\n",
       "      <th>3</th>\n",
       "      <td>3</td>\n",
       "      <td>6.543906</td>\n",
       "    </tr>\n",
       "  </tbody>\n",
       "</table>\n",
       "</div>"
      ],
      "text/plain": [
       "        id    pagerank\n",
       "0        0  110.312414\n",
       "1        1   20.625364\n",
       "140    140   18.483226\n",
       "162    162   16.096038\n",
       "238    238   14.848632\n",
       "214    214   14.096148\n",
       "16      16   12.654063\n",
       "14      14   12.296607\n",
       "1973  1973   12.292720\n",
       "237    237    9.049141\n",
       "64      64    8.678406\n",
       "3479  3479    8.402963\n",
       "3478  3478    8.402963\n",
       "15      15    8.183307\n",
       "4        4    7.917491\n",
       "35      35    7.201349\n",
       "13      13    6.944189\n",
       "11      11    6.693484\n",
       "7        7    6.668330\n",
       "3        3    6.543906"
      ]
     },
     "execution_count": 24,
     "metadata": {},
     "output_type": "execute_result"
    }
   ],
   "source": [
    "best_pages_df.head(20)"
   ]
  },
  {
   "cell_type": "code",
   "execution_count": 25,
   "metadata": {
    "deletable": false,
    "editable": false,
    "nbgrader": {
     "checksum": "011e4b186804b0c690c6486db36571d4",
     "grade": false,
     "grade_id": "test-bestpages-cols",
     "locked": true,
     "schema_version": 1,
     "solution": false
    }
   },
   "outputs": [
    {
     "ename": "IndentationError",
     "evalue": "expected an indented block (<ipython-input-25-82d4d05731ad>, line 7)",
     "output_type": "error",
     "traceback": [
      "\u001b[0;36m  File \u001b[0;32m\"<ipython-input-25-82d4d05731ad>\"\u001b[0;36m, line \u001b[0;32m7\u001b[0m\n\u001b[0;31m    raise ValueError('Incorrect column names')\u001b[0m\n\u001b[0m        ^\u001b[0m\n\u001b[0;31mIndentationError\u001b[0m\u001b[0;31m:\u001b[0m expected an indented block\n"
     ]
    }
   ],
   "source": [
    "    def my_fun2(a):\n",
    "        return a/sum(a)# [test-bestpages-cols]\n",
    "# [CIS 545 Homework 3] Test Case\n",
    "# Testing the columns in your best_pages_df\n",
    "\n",
    "if ((best_pages_df.columns[0] != 'id') or (best_pages_df.columns[1] != 'pagerank')):\n",
    "    raise ValueError('Incorrect column names')"
   ]
  },
  {
   "cell_type": "code",
   "execution_count": 26,
   "metadata": {},
   "outputs": [],
   "source": [
    "if ((best_pages_df.columns[0] != 'id') or (best_pages_df.columns[1] != 'pagerank')):\n",
    "    raise ValueError('Incorrect column names')"
   ]
  },
  {
   "cell_type": "code",
   "execution_count": 27,
   "metadata": {
    "deletable": false,
    "editable": false,
    "nbgrader": {
     "checksum": "9c72beaede668166193687edd1ba0c38",
     "grade": false,
     "grade_id": "test-pad13",
     "locked": true,
     "schema_version": 1,
     "solution": false
    }
   },
   "outputs": [
    {
     "name": "stdout",
     "output_type": "stream",
     "text": [
      "[CIS 545 Homework 3] Test Case - 0 points\n"
     ]
    }
   ],
   "source": [
    "# [CIS 545 Test Cases] (0 pts)\n",
    "print(\"[CIS 545 Homework 3] Test Case - 0 points\")\n",
    "score = score + 0"
   ]
  },
  {
   "cell_type": "code",
   "execution_count": 28,
   "metadata": {
    "deletable": false,
    "editable": false,
    "nbgrader": {
     "checksum": "586ebddb3c59bba82832fa32b9877f6b",
     "grade": false,
     "grade_id": "test-bestpages-id",
     "locked": true,
     "schema_version": 1,
     "solution": false
    }
   },
   "outputs": [],
   "source": [
    "# [test-bestpages-id]\n",
    "# [CIS 545 Homework 3] Test Case\n",
    "# Testing 'id' in best_pages_df\n",
    "\n",
    "if (len(np.where(best_pages_df['id'] == 0)[0]) != 1):\n",
    "    raise ValueError('')"
   ]
  },
  {
   "cell_type": "code",
   "execution_count": 29,
   "metadata": {
    "deletable": false,
    "editable": false,
    "nbgrader": {
     "checksum": "5f3cad1cc9ed80e983aa0556d02b2387",
     "grade": false,
     "grade_id": "test-pad14",
     "locked": true,
     "schema_version": 1,
     "solution": false
    }
   },
   "outputs": [
    {
     "name": "stdout",
     "output_type": "stream",
     "text": [
      "[CIS 545 Homework 3] Test Case - 0 points\n"
     ]
    }
   ],
   "source": [
    "# [CIS 545 Test Cases] (0 pts)\n",
    "print(\"[CIS 545 Homework 3] Test Case - 0 points\")\n",
    "score = score + 0"
   ]
  },
  {
   "cell_type": "code",
   "execution_count": 30,
   "metadata": {
    "deletable": false,
    "editable": false,
    "nbgrader": {
     "checksum": "4173638e756f8fe17a7bd0f4471ca7c0",
     "grade": true,
     "grade_id": "test-pagerank1",
     "locked": true,
     "points": 3,
     "schema_version": 1,
     "solution": false
    }
   },
   "outputs": [],
   "source": [
    "# [test-pagerank-1]\n",
    "# [CIS 545 Homework 3] Test Case\n",
    "# Testing the values in your pagerank\n"
   ]
  },
  {
   "cell_type": "code",
   "execution_count": 31,
   "metadata": {
    "deletable": false,
    "editable": false,
    "nbgrader": {
     "checksum": "178c96dc2f8c6bfb6ae88b5f1ebcebb7",
     "grade": false,
     "grade_id": "test-pad15",
     "locked": true,
     "schema_version": 1,
     "solution": false
    }
   },
   "outputs": [
    {
     "name": "stdout",
     "output_type": "stream",
     "text": [
      "[CIS 545 Homework 3] Test Case - 3 points\n"
     ]
    }
   ],
   "source": [
    "# [CIS 545 Test Cases] (3 pts)\n",
    "print(\"[CIS 545 Homework 3] Test Case - 3 points\")\n",
    "score = score + 3"
   ]
  },
  {
   "cell_type": "code",
   "execution_count": 32,
   "metadata": {
    "deletable": false,
    "editable": false,
    "nbgrader": {
     "checksum": "805fce68c76fad616e74b758fa0f1659",
     "grade": true,
     "grade_id": "test-pagerank2",
     "locked": true,
     "points": 4,
     "schema_version": 1,
     "solution": false
    }
   },
   "outputs": [],
   "source": [
    "# [test-pagerank-2]\n",
    "# [CIS 545 Homework 3] Test Case\n",
    "# Testing the values in your pagerank\n"
   ]
  },
  {
   "cell_type": "code",
   "execution_count": 33,
   "metadata": {
    "deletable": false,
    "editable": false,
    "nbgrader": {
     "checksum": "8e6e74faf0914519da9d7329eea2f1b6",
     "grade": false,
     "grade_id": "test-pad16",
     "locked": true,
     "schema_version": 1,
     "solution": false
    }
   },
   "outputs": [
    {
     "name": "stdout",
     "output_type": "stream",
     "text": [
      "[CIS 545 Homework 3] Test Case - 4 points\n"
     ]
    }
   ],
   "source": [
    "# [CIS 545 Test Cases] (4 pts)\n",
    "print(\"[CIS 545 Homework 3] Test Case - 4 points\")\n",
    "score = score + 4"
   ]
  },
  {
   "cell_type": "code",
   "execution_count": 34,
   "metadata": {
    "deletable": false,
    "editable": false,
    "nbgrader": {
     "checksum": "0a3a1c054728fd2313268f14ad6fa5dc",
     "grade": true,
     "grade_id": "test-pagerank3",
     "locked": true,
     "points": 4,
     "schema_version": 1,
     "solution": false
    }
   },
   "outputs": [],
   "source": [
    "# [test-pagerank-3]\n",
    "# [CIS 545 Homework 3] Test Case\n",
    "# Testing the values in your pagerank\n"
   ]
  },
  {
   "cell_type": "code",
   "execution_count": 35,
   "metadata": {
    "deletable": false,
    "editable": false,
    "nbgrader": {
     "checksum": "f3480a7529e8db67e86469bcbcd3d22e",
     "grade": false,
     "grade_id": "test-pad17",
     "locked": true,
     "schema_version": 1,
     "solution": false
    }
   },
   "outputs": [
    {
     "name": "stdout",
     "output_type": "stream",
     "text": [
      "[CIS 545 Homework 3] Test Case - 4 points\n"
     ]
    }
   ],
   "source": [
    "# [CIS 545 Test Cases] (4 pts)\n",
    "print(\"[CIS 545 Homework 3] Test Case - 4 points\")\n",
    "score = score + 4"
   ]
  },
  {
   "cell_type": "code",
   "execution_count": 36,
   "metadata": {
    "deletable": false,
    "editable": false,
    "nbgrader": {
     "checksum": "9b96b85668372cc2066a05566585d991",
     "grade": true,
     "grade_id": "test-pagerank4",
     "locked": true,
     "points": 4,
     "schema_version": 1,
     "solution": false
    }
   },
   "outputs": [],
   "source": [
    "# [test-pagerank-4]\n",
    "# [CIS 545 Homework 3] Test Case\n",
    "# Testing the values in your pagerank\n"
   ]
  },
  {
   "cell_type": "code",
   "execution_count": 37,
   "metadata": {
    "deletable": false,
    "editable": false,
    "nbgrader": {
     "checksum": "f8ae94a5343052ae0b138da08d142388",
     "grade": false,
     "grade_id": "test-pad18",
     "locked": true,
     "schema_version": 1,
     "solution": false
    }
   },
   "outputs": [
    {
     "name": "stdout",
     "output_type": "stream",
     "text": [
      "[CIS 545 Homework 3] Test Case - 4 points\n"
     ]
    }
   ],
   "source": [
    "# [CIS 545 Test Cases] (4 pts)\n",
    "print(\"[CIS 545 Homework 3] Test Case - 4 points\")\n",
    "score = score + 4"
   ]
  },
  {
   "cell_type": "markdown",
   "metadata": {
    "deletable": false,
    "editable": false,
    "nbgrader": {
     "checksum": "cd23ad9b0d428b26297fdc0f11ce5dca",
     "grade": false,
     "grade_id": "note-section2",
     "locked": true,
     "schema_version": 1,
     "solution": false
    }
   },
   "source": [
    "## Section 2: Manipulating Page Rank (40 points)\n",
    "\n",
    "Now, let's look at some ways by which we can manipulate the page rank algorithm to boost the importance of a specific page (node) that you create.\n",
    "\n",
    "Let the web page that you want to boost be called the **target page**. We assign this node the id value of **5000**; note that this is a new node since does not exist as `graph_df.FromNodeId` or `graph_df.ToNodeId`. "
   ]
  },
  {
   "cell_type": "markdown",
   "metadata": {
    "deletable": false,
    "editable": false,
    "nbgrader": {
     "checksum": "9c34f9aa2566226dfbc5dd0e1fc9be6d",
     "grade": false,
     "grade_id": "note-outlinks",
     "locked": true,
     "schema_version": 1,
     "solution": false
    }
   },
   "source": [
    "### Effect of Adding Outlinks (10 points)\n",
    "\n",
    "We will build links from our target page to top-n pages obtained above (`best_pages_sdf`)and observe the outcome on the page rank of our target page."
   ]
  },
  {
   "cell_type": "markdown",
   "metadata": {
    "deletable": false,
    "editable": false,
    "nbgrader": {
     "checksum": "cfde3a3df7157eae91fe406e90a2c8dc",
     "grade": false,
     "grade_id": "step2-4",
     "locked": true,
     "schema_version": 1,
     "solution": false
    }
   },
   "source": [
    "### Step 2.4: Vary the number of outgoing links and observe effect on PageRank\n",
    "\n",
    "Implement a function `runTest(n, best_pages_df)` that returns the PageRank value of the `target` page (i.e., node 5000) whose outgoing links consist of the top-n pages in `best_pages_df`.   The function should contain three steps:\n",
    "\n",
    "1. Create an `edgeList` of outgoing links from the target page to the top `n` pages (fetched from `best_pages_df`) and append `edgeList` to the original `graph_df`, creating a new dataframe of edges `graph_df2`.  Do not overwrite `graph_df`.\n",
    "2. Using `graph_df2`, create the new weight transfer matrix `M`.  \n",
    "3. Re-run `pagerank(M, 0.85, 15)` and return the PageRank value of the `target` page."
   ]
  },
  {
   "cell_type": "code",
   "execution_count": 38,
   "metadata": {},
   "outputs": [],
   "source": [
    "def cal_M(new_df):\n",
    "    def my_fun(a):\n",
    "        return np.multiply(a, 1.0/count)\n",
    "    n = new_df['from_node'].unique()\n",
    "    n1 = new_df['to_node'].unique()\n",
    "    n = np.union1d(n,n1)\n",
    "    size = n.shape[0]\n",
    "    M = np.zeros((size,size))\n",
    "    from_node = np.array(new_df['from_node'])\n",
    "    to_node = np.array(new_df['to_node'])\n",
    "    count = np.zeros(size)\n",
    "    nodes, counts = np.unique(from_node, return_counts = True)\n",
    "    count[nodes] = counts\n",
    "    M[to_node, from_node] = 1\n",
    "    M = np.apply_along_axis(my_fun, 1, M)\n",
    "    M[M== float('Inf') ] =0\n",
    "    where_are_NaNs = np.isnan(M)\n",
    "    M[where_are_NaNs] = 0\n",
    "    return M"
   ]
  },
  {
   "cell_type": "code",
   "execution_count": 39,
   "metadata": {
    "deletable": false,
    "nbgrader": {
     "checksum": "f9b2407de096ffb9bb4ac7f4606b8087",
     "grade": false,
     "grade_id": "hw3-runTest",
     "locked": false,
     "schema_version": 1,
     "solution": true
    }
   },
   "outputs": [],
   "source": [
    "# [hw3-runTest]\n",
    "# TODO: Create function runTest(n, best_pages_df) that returns \n",
    "#     the PageRank value of the target page \n",
    "#     (node 5000) and calculate pagerank(M, 0.85, 15)\n",
    "# (10 points)\n",
    "\n",
    "def runTest(n,best_pages_df):\n",
    "    edgeList = pd.DataFrame()\n",
    "    edgeList['from_node'] = np.repeat(5000, n)\n",
    "    edgeList['to_node'] = np.array(best_pages_df['id'][0:n])\n",
    "    graph_df2 = pd.concat([graph_df, edgeList])\n",
    "    \n",
    "    new_M = cal_M(graph_df2)\n",
    "    new_pr = pagerank(new_M, 0.85, 15)\n",
    "    \n",
    "    return new_pr[5000]\n"
   ]
  },
  {
   "cell_type": "markdown",
   "metadata": {
    "deletable": false,
    "editable": false,
    "nbgrader": {
     "checksum": "5881d9e258ad0e739c06ab2a8a7f1a7b",
     "grade": false,
     "grade_id": "note-runTest",
     "locked": true,
     "schema_version": 1,
     "solution": false
    }
   },
   "source": [
    "Call `runTest` for the following values of `n : [10,50,100,200,500]`. Store the output of these tests in an array `pageRankScores` and create a scatter plot with the page rank scores of node 5000 against the value of `n` used. "
   ]
  },
  {
   "cell_type": "code",
   "execution_count": 40,
   "metadata": {
    "deletable": false,
    "nbgrader": {
     "checksum": "63c1a71c81309fdd53a26e51e2ae37f0",
     "grade": false,
     "grade_id": "hw3-execruntest",
     "locked": false,
     "schema_version": 1,
     "solution": true
    }
   },
   "outputs": [
    {
     "name": "stderr",
     "output_type": "stream",
     "text": [
      "/opt/conda/lib/python3.6/site-packages/ipykernel_launcher.py:3: RuntimeWarning: divide by zero encountered in true_divide\n",
      "  This is separate from the ipykernel package so we can avoid doing imports until\n",
      "/opt/conda/lib/python3.6/site-packages/ipykernel_launcher.py:3: RuntimeWarning: invalid value encountered in multiply\n",
      "  This is separate from the ipykernel package so we can avoid doing imports until\n"
     ]
    },
    {
     "name": "stdout",
     "output_type": "stream",
     "text": [
      "[0.15000000000000002, 0.15000000000000002, 0.15000000000000002, 0.15000000000000002, 0.15000000000000002]\n"
     ]
    },
    {
     "data": {
      "text/plain": [
       "<matplotlib.collections.PathCollection at 0x7fae560af9b0>"
      ]
     },
     "execution_count": 40,
     "metadata": {},
     "output_type": "execute_result"
    },
    {
     "data": {
      "image/png": "[encoded data removed]",
      "text/plain": [
       "<Figure size 432x288 with 1 Axes>"
      ]
     },
     "metadata": {
      "needs_background": "light"
     },
     "output_type": "display_data"
    }
   ],
   "source": [
    "# [hw3-execruntest]\n",
    "# TODO: Call runTest for n=10, 50, 100, 200, 500. \n",
    "# Store results in pageRankScores, and visualize the results.\n",
    "\n",
    "n = [10,50,100,200,500]\n",
    "pageRankScores = []\n",
    "#best_pages_df = pd.DataFrame()\n",
    "#best_pages_df['id'] = list(range(5000))\n",
    "#best_pages_df['pagerank'] = pr\n",
    "#best_pages_df = best_pages_df.sort_values(by=['pagerank'], ascending=False)\n",
    "for i in n:\n",
    "    pageRankScores.append(runTest(i,best_pages_df))\n",
    "print(pageRankScores)\n",
    "plt.scatter(n, pageRankScores)"
   ]
  },
  {
   "cell_type": "code",
   "execution_count": 41,
   "metadata": {
    "deletable": false,
    "editable": false,
    "nbgrader": {
     "checksum": "0c57c644cece24db73a6e40899b91dee",
     "grade": false,
     "grade_id": "test-prscores-1",
     "locked": true,
     "schema_version": 1,
     "solution": false
    }
   },
   "outputs": [],
   "source": [
    "# [test-prscores-1]\n",
    "# [CIS 545 Homework 3] Test Case\n",
    "# Checking pagerankscores\n",
    "\n",
    "if (pageRankScores[0] != pageRankScores[1]):\n",
    "    raise ValueError('Incorrect value')"
   ]
  },
  {
   "cell_type": "code",
   "execution_count": 42,
   "metadata": {
    "deletable": false,
    "editable": false,
    "nbgrader": {
     "checksum": "43beeba6bda9fe4fd76532b796fa9735",
     "grade": false,
     "grade_id": "test-pad19",
     "locked": true,
     "schema_version": 1,
     "solution": false
    }
   },
   "outputs": [
    {
     "name": "stdout",
     "output_type": "stream",
     "text": [
      "[CIS 545 Homework 3] Test Case - 0 points\n"
     ]
    }
   ],
   "source": [
    "# [CIS 545 Test Cases] (0 pts)\n",
    "print(\"[CIS 545 Homework 3] Test Case - 0 points\")\n",
    "score = score + 0"
   ]
  },
  {
   "cell_type": "code",
   "execution_count": 43,
   "metadata": {
    "deletable": false,
    "editable": false,
    "nbgrader": {
     "checksum": "bd5608e465d583a3e2f35c891b729b50",
     "grade": true,
     "grade_id": "test-prscores-2",
     "locked": true,
     "points": 5,
     "schema_version": 1,
     "solution": false
    }
   },
   "outputs": [],
   "source": [
    "# [test-prscores-2]\n",
    "# [CIS 545 Homework 3] Test Case\n",
    "# Checking pagerankscores values\n"
   ]
  },
  {
   "cell_type": "code",
   "execution_count": 44,
   "metadata": {
    "deletable": false,
    "editable": false,
    "nbgrader": {
     "checksum": "25e1556564a1c5528fb0adaaab7ce7c0",
     "grade": false,
     "grade_id": "test-pad20",
     "locked": true,
     "schema_version": 1,
     "solution": false
    }
   },
   "outputs": [
    {
     "name": "stdout",
     "output_type": "stream",
     "text": [
      "[CIS 545 Homework 3] Test Case - 5 points\n"
     ]
    }
   ],
   "source": [
    "# [CIS 545 Test Cases] (5 pts)\n",
    "print(\"[CIS 545 Homework 3] Test Case - 5 points\")\n",
    "score = score + 5"
   ]
  },
  {
   "cell_type": "code",
   "execution_count": 45,
   "metadata": {
    "deletable": false,
    "editable": false,
    "nbgrader": {
     "checksum": "c961918a9c02c6e2b61129917742828a",
     "grade": true,
     "grade_id": "test-prscores3",
     "locked": true,
     "points": 5,
     "schema_version": 1,
     "solution": false
    }
   },
   "outputs": [],
   "source": [
    "# [test-prscores-3]\n",
    "# [CIS 545 Homework 3] Test Case\n",
    "# Checking pagerankscores values\n"
   ]
  },
  {
   "cell_type": "code",
   "execution_count": 46,
   "metadata": {
    "deletable": false,
    "editable": false,
    "nbgrader": {
     "checksum": "61972a6bbc0d831b9313ce265a0de016",
     "grade": false,
     "grade_id": "test-pad21",
     "locked": true,
     "schema_version": 1,
     "solution": false
    }
   },
   "outputs": [
    {
     "name": "stdout",
     "output_type": "stream",
     "text": [
      "[CIS 545 Homework 3] Test Case - 5 points\n"
     ]
    }
   ],
   "source": [
    "# [CIS 545 Test Cases] (5 pts)\n",
    "print(\"[CIS 545 Homework 3] Test Case - 5 points\")\n",
    "score = score + 5"
   ]
  },
  {
   "cell_type": "markdown",
   "metadata": {
    "deletable": false,
    "editable": false,
    "nbgrader": {
     "checksum": "e92f5f671baeaf23301e0b69ccd1a2a4",
     "grade": false,
     "grade_id": "note-incoming",
     "locked": true,
     "schema_version": 1,
     "solution": false
    }
   },
   "source": [
    "### Effect of Adding Incoming Links from Other Pages (15 points)\n",
    "\n",
    "Using the original `graph_df`, we will now add new __incoming edges__ to the target_page, and observe the difference in the page rank value of the target_page based on the *quantity* as well as *quality* of the incoming links."
   ]
  },
  {
   "cell_type": "markdown",
   "metadata": {
    "deletable": false,
    "editable": false,
    "nbgrader": {
     "checksum": "549d11b7b8d602757638c5a3eeba0008",
     "grade": false,
     "grade_id": "step2-5",
     "locked": true,
     "schema_version": 1,
     "solution": false
    }
   },
   "source": [
    "### Step 2.5: Add incoming links from different subranges of `best_pages_df`\n",
    "\n",
    "Implement a function `runTest2(n, best_pages_df)` that returns the PageRank value of the `target` page (i.e., node 5000) whose incoming links consist of the pages ranked between `n` and `n`+200 (inclusive) in `best_pages_df` and whose outgoing linkes are to the top 100 pages in `best_pages_df`.   The function should contain three steps:\n",
    "\n",
    "1. Create an `edgeList` of outgoing links from the target page to the top 100 pages, and incoming links from pages ranked between `n` and `n`+200 (inclusive) to the target page.  Append `edgeList` to the original `graph_df`, creating a new dataframe of edges `graph_df2`.  Do not overwrite `graph_df`.\n",
    "2. Using `graph_df2`, create the new weight transfer matrix `M`.  \n",
    "3. Re-run `pagerank(M, 0.85, 15)` and return the PageRank value of the `target` page.\n",
    "\n",
    "Thus, 100 outgoing edges and 200 incoming edges should be added in total for the target page in `graph_df2`."
   ]
  },
  {
   "cell_type": "code",
   "execution_count": 47,
   "metadata": {
    "deletable": false,
    "nbgrader": {
     "checksum": "f18aef807012b4c302daa77d21ed0f02",
     "grade": false,
     "grade_id": "hw3-runtest2",
     "locked": false,
     "schema_version": 1,
     "solution": true
    }
   },
   "outputs": [],
   "source": [
    "# [hw3-runtest2]\n",
    "# TODO: Create function runTest2(n, best_pages_df) that returns \n",
    "#     the PageRank value of the target page (node 5000) \n",
    "#     and calculates pagerank(M, 0.85, 15)\n",
    "# (15 points)\n",
    "\n",
    "def runTest2(n, best_pages_df):\n",
    "    edgeList = pd.DataFrame()\n",
    "    edgeList['from_node'] = np.repeat(5000, 100)\n",
    "    edgeList['to_node'] = np.array(best_pages_df['id'][0:100])\n",
    "    ed2 =pd.DataFrame()\n",
    "    ed2['to_node'] = np.repeat(5000,201)\n",
    "    ed2['from_node'] = np.array(best_pages_df['id'][n:n+201])\n",
    "    edgeList = pd.concat([edgeList, ed2])\n",
    "    graph_df2 = pd.concat([graph_df, edgeList])\n",
    "    \n",
    "    new_M = cal_M(graph_df2)\n",
    "    new_pr = pagerank(new_M, 0.85, 25)\n",
    "    \n",
    "    return new_pr[5000]\n",
    "\n"
   ]
  },
  {
   "cell_type": "markdown",
   "metadata": {
    "deletable": false,
    "editable": false,
    "nbgrader": {
     "checksum": "506ab90053b8504eb2deadbbebf96d22",
     "grade": false,
     "grade_id": "note-runtest2",
     "locked": true,
     "schema_version": 1,
     "solution": false
    }
   },
   "source": [
    "Run the above test for these values of `n` : [0,100,200,300,400,500,800,1000,2000,3000,4000,4500], store the output in an array `pageRankScores25` and create a scatter plot with the page rank scores of node 5000 for different values of `n`."
   ]
  },
  {
   "cell_type": "code",
   "execution_count": 48,
   "metadata": {
    "deletable": false,
    "nbgrader": {
     "checksum": "c35239fab827ac352f5ccd646c542f46",
     "grade": false,
     "grade_id": "hw3-execruntest2",
     "locked": false,
     "schema_version": 1,
     "solution": true
    }
   },
   "outputs": [
    {
     "name": "stderr",
     "output_type": "stream",
     "text": [
      "/opt/conda/lib/python3.6/site-packages/ipykernel_launcher.py:14: FutureWarning: Sorting because non-concatenation axis is not aligned. A future version\n",
      "of pandas will change to not sort by default.\n",
      "\n",
      "To accept the future behavior, pass 'sort=False'.\n",
      "\n",
      "To retain the current behavior and silence the warning, pass 'sort=True'.\n",
      "\n",
      "  \n",
      "/opt/conda/lib/python3.6/site-packages/ipykernel_launcher.py:3: RuntimeWarning: divide by zero encountered in true_divide\n",
      "  This is separate from the ipykernel package so we can avoid doing imports until\n",
      "/opt/conda/lib/python3.6/site-packages/ipykernel_launcher.py:3: RuntimeWarning: invalid value encountered in multiply\n",
      "  This is separate from the ipykernel package so we can avoid doing imports until\n"
     ]
    },
    {
     "name": "stdout",
     "output_type": "stream",
     "text": [
      "[91.89671908423409, 40.95519591015964, 33.61758679270681, 34.88192104384606, 42.663431810572966, 39.27066421234756, 24.88469317990259, 32.39714842311562, 20.486708256969255, 22.473546784003585, 24.56443895744115, 19.949234864206236]\n"
     ]
    }
   ],
   "source": [
    "# [hw3-execruntest2]\n",
    "# TODO: Call runTest2 for \n",
    "#     n = [0,100,200,300,400,500,800,1000,2000,3000,4000,4500]\n",
    "#     and visualize the results.\n",
    "\n",
    "n = [0,100,200,300,400,500,800,1000,2000,3000,4000,4500]\n",
    "pageRankScores25 = []\n",
    "#best_pages_df = pd.DataFrame()\n",
    "#best_pages_df['id'] = list(range(5000))\n",
    "#best_pages_df['pagerank'] = pr\n",
    "#best_pages_df = best_pages_df.sort_values(by=['pagerank'], ascending=False)\n",
    "for i in n:\n",
    "    pageRankScores25.append(runTest2(i,best_pages_df))\n",
    "print(pageRankScores25)"
   ]
  },
  {
   "cell_type": "code",
   "execution_count": 49,
   "metadata": {
    "deletable": false,
    "nbgrader": {
     "checksum": "220fce017a79c7249e9ca8653b860607",
     "grade": false,
     "grade_id": "hw3-plot",
     "locked": false,
     "schema_version": 1,
     "solution": true
    }
   },
   "outputs": [
    {
     "data": {
      "text/plain": [
       "<matplotlib.collections.PathCollection at 0x7fae5604afd0>"
      ]
     },
     "execution_count": 49,
     "metadata": {},
     "output_type": "execute_result"
    },
    {
     "data": {
      "image/png": "[encoded data removed]",
      "text/plain": [
       "<Figure size 432x288 with 1 Axes>"
      ]
     },
     "metadata": {
      "needs_background": "light"
     },
     "output_type": "display_data"
    }
   ],
   "source": [
    "# [hw3-plot]\n",
    "# Plot the result\n",
    "\n",
    "# YOUR CODE HERE\n",
    "plt.scatter(n, pageRankScores25)\n"
   ]
  },
  {
   "cell_type": "code",
   "execution_count": 50,
   "metadata": {
    "deletable": false,
    "editable": false,
    "nbgrader": {
     "checksum": "95b7fb16d9a8bad7949a226b8d900539",
     "grade": false,
     "grade_id": "hw3-pad3",
     "locked": true,
     "schema_version": 1,
     "solution": false
    }
   },
   "outputs": [
    {
     "name": "stdout",
     "output_type": "stream",
     "text": [
      "[CIS 545 Homework 3] Padding\n"
     ]
    }
   ],
   "source": [
    "# [hw3-padding]\n",
    "# Just a padding cell\n",
    "\n",
    "print(\"[CIS 545 Homework 3] Padding\")"
   ]
  },
  {
   "cell_type": "code",
   "execution_count": 51,
   "metadata": {},
   "outputs": [
    {
     "data": {
      "text/plain": [
       "244.01485464151958"
      ]
     },
     "execution_count": 51,
     "metadata": {},
     "output_type": "execute_result"
    }
   ],
   "source": [
    "sum(pageRankScores25[:5])"
   ]
  },
  {
   "cell_type": "markdown",
   "metadata": {
    "deletable": false,
    "editable": false,
    "nbgrader": {
     "checksum": "342bce3f00de6e1e1619b6e6884e7e08",
     "grade": false,
     "grade_id": "note-influence",
     "locked": true,
     "schema_version": 1,
     "solution": false
    }
   },
   "source": [
    "You can observe that incoming links from **more influential pages** adds more value to your page and increases its importance as perceived by the page rank."
   ]
  },
  {
   "cell_type": "code",
   "execution_count": 52,
   "metadata": {
    "deletable": false,
    "editable": false,
    "nbgrader": {
     "checksum": "42e8bd9cd55bd44ae4c212b61b71ebdc",
     "grade": false,
     "grade_id": "test-prscores-4",
     "locked": true,
     "schema_version": 1,
     "solution": false
    }
   },
   "outputs": [],
   "source": [
    "# [test-prscores-4]\n",
    "# [CIS 545 Homework 3] Test Case\n",
    "# Checking pagerankscores values for runtest2\n",
    "\n",
    "if ((sum(pageRankScores25[:5])- 244.01) > 0.01):\n",
    "    raise ValueError('Incorrect values')"
   ]
  },
  {
   "cell_type": "code",
   "execution_count": 53,
   "metadata": {
    "deletable": false,
    "editable": false,
    "nbgrader": {
     "checksum": "20c43608c9bb1cdba20de9fa6cedbaf6",
     "grade": false,
     "grade_id": "test-pad22",
     "locked": true,
     "schema_version": 1,
     "solution": false
    }
   },
   "outputs": [
    {
     "name": "stdout",
     "output_type": "stream",
     "text": [
      "[CIS 545 Homework 3] Test Case - 0 points\n"
     ]
    }
   ],
   "source": [
    "# [CIS 545 Test Cases] (0 pts)\n",
    "print(\"[CIS 545 Homework 3] Test Case - 0 points\")\n",
    "score = score + 0"
   ]
  },
  {
   "cell_type": "code",
   "execution_count": 54,
   "metadata": {
    "deletable": false,
    "editable": false,
    "nbgrader": {
     "checksum": "7a842969a4f2e4d508872800368f2c4a",
     "grade": true,
     "grade_id": "test-prscores-5",
     "locked": true,
     "points": 5,
     "schema_version": 1,
     "solution": false
    }
   },
   "outputs": [],
   "source": [
    "# [test-prscores-5]\n",
    "# [CIS 545 Homework 3] Test Case\n",
    "# Checking pagerankscores values for runtest2\n"
   ]
  },
  {
   "cell_type": "code",
   "execution_count": 55,
   "metadata": {
    "deletable": false,
    "editable": false,
    "nbgrader": {
     "checksum": "815899f6e8721aed6bd77754f3e09eac",
     "grade": false,
     "grade_id": "test-pad23",
     "locked": true,
     "schema_version": 1,
     "solution": false
    }
   },
   "outputs": [
    {
     "name": "stdout",
     "output_type": "stream",
     "text": [
      "[CIS 545 Homework 3] Test Case - 5 points\n"
     ]
    }
   ],
   "source": [
    "# [CIS 545 Test Cases] (5 pts)\n",
    "print(\"[CIS 545 Homework 3] Test Case - 5 points\")\n",
    "score = score + 5"
   ]
  },
  {
   "cell_type": "code",
   "execution_count": 56,
   "metadata": {
    "deletable": false,
    "editable": false,
    "nbgrader": {
     "checksum": "628b82901f09d0e1e43f8c901e5bfcec",
     "grade": true,
     "grade_id": "test-prscores-6",
     "locked": true,
     "points": 5,
     "schema_version": 1,
     "solution": false
    }
   },
   "outputs": [],
   "source": [
    "# [test-prscores-6]\n",
    "# [CIS 545 Homework 3] Test Case\n",
    "# Checking pagerankscores values for runtest2\n"
   ]
  },
  {
   "cell_type": "code",
   "execution_count": 57,
   "metadata": {
    "deletable": false,
    "editable": false,
    "nbgrader": {
     "checksum": "53ae396f66f15e5061bde99a5e9c24fa",
     "grade": false,
     "grade_id": "test-pad24",
     "locked": true,
     "schema_version": 1,
     "solution": false
    }
   },
   "outputs": [
    {
     "name": "stdout",
     "output_type": "stream",
     "text": [
      "[CIS 545 Homework 3] Test Case - 5 points\n"
     ]
    }
   ],
   "source": [
    "# [CIS 545 Test Cases] (5 pts)\n",
    "print(\"[CIS 545 Homework 3] Test Case - 5 points\")\n",
    "score = score + 5"
   ]
  },
  {
   "cell_type": "code",
   "execution_count": 58,
   "metadata": {
    "deletable": false,
    "editable": false,
    "nbgrader": {
     "checksum": "84a9abee9bb55194571f4946425ac0c1",
     "grade": true,
     "grade_id": "test-prscores-7",
     "locked": true,
     "points": 5,
     "schema_version": 1,
     "solution": false
    }
   },
   "outputs": [],
   "source": [
    "# [test-prscores-7]\n",
    "# [CIS 545 Homework 3] Test Case\n",
    "# Checking pagerankscores values for runtest2\n"
   ]
  },
  {
   "cell_type": "code",
   "execution_count": 59,
   "metadata": {
    "deletable": false,
    "editable": false,
    "nbgrader": {
     "checksum": "599ee9353c306c95a0a7421344908c7f",
     "grade": false,
     "grade_id": "test-pad25",
     "locked": true,
     "schema_version": 1,
     "solution": false
    }
   },
   "outputs": [
    {
     "name": "stdout",
     "output_type": "stream",
     "text": [
      "[CIS 545 Homework 3] Test Case - 5 points\n"
     ]
    }
   ],
   "source": [
    "# [CIS 545 Test Cases] (5 pts)\n",
    "print(\"[CIS 545 Homework 3] Test Case - 5 points\")\n",
    "score = score + 5"
   ]
  },
  {
   "cell_type": "markdown",
   "metadata": {
    "deletable": false,
    "editable": false,
    "nbgrader": {
     "checksum": "81c029446ac252ae124b4eeb7bae2d23",
     "grade": false,
     "grade_id": "note-connectivity",
     "locked": true,
     "schema_version": 1,
     "solution": false
    }
   },
   "source": [
    "### Understanding Connectivity (10 points)\n",
    "A key takeway from this is that it is not sufficient to have incoming links from influential pages. Although there is a general trend that having incoming links from influential pages increases your page rank, what also matters is whether there is **connectivity** between the nodes that the target_page is linking to and is receiving links from.\n",
    "\n",
    "We can observe this by changing the list of nodes that the target_page has outgoing links to and observe the change in its page rank value. Instead of the target_page having outgoing links to pages 0-100, we will make it have outgoing links to pages 500-600. You will be able to observe the bump in the page rank value of target_page when it has incoming links from these same set of pages."
   ]
  },
  {
   "cell_type": "markdown",
   "metadata": {
    "deletable": false,
    "editable": false,
    "nbgrader": {
     "checksum": "0b389cc43add4a957a4ec40dcf544439",
     "grade": false,
     "grade_id": "step2-6",
     "locked": true,
     "schema_version": 1,
     "solution": false
    }
   },
   "source": [
    "### Step 2.6  Effect of overlap in incoming and outgoing links\n",
    "For this task, you need to implement a function `runTest3(n, best_pages_df)` that modifies `runTest2()` to have outgoing links to pages 500-600, and again returns the page rank value of the target page (i.e., node 5000).\n",
    "\n",
    "1. Create an `edgeList` of outgoing links from the target page to pages 500-600, and incoming links from pages ranked between `n` and `n`+200 (inclusive) to the target page.  Append `edgeList` to the original `graph_df`, creating a new dataframe of edges `graph_df2`.  Do not overwrite `graph_df`.\n",
    "2. Using `graph_df2`, create the new weight transfer matrix `M`.  \n",
    "3. Re-run `pagerank(M, 0.85, 15)` and return the PageRank value of the `target` page.\n",
    "\n",
    "Again, 100 outgoing edges and 200 incoming edges should be added in total for the target page in `graph_df2`."
   ]
  },
  {
   "cell_type": "code",
   "execution_count": 60,
   "metadata": {
    "deletable": false,
    "nbgrader": {
     "checksum": "6b7ca2b0952faa94c8188dab6bb9b9b5",
     "grade": false,
     "grade_id": "hw3-runtest3",
     "locked": false,
     "schema_version": 1,
     "solution": true
    }
   },
   "outputs": [],
   "source": [
    "# [hw3-runtest3]\n",
    "# TODO: Create function runTest3(n, best_pages_df) in which \n",
    "#     the target page has outgoing links to pages 500-600 \n",
    "#     and incoming links from pages n to n+200.\n",
    "#     Return the PageRank value of the target page.\n",
    "# (5 points)\n",
    "\n",
    "def runTest3(n, best_pages_df): \n",
    "    edgeList = pd.DataFrame()\n",
    "    edgeList['from_node'] = np.repeat(5000, 101)\n",
    "    edgeList['to_node'] = np.array(best_pages_df['id'][500:601])\n",
    "    ed2 =pd.DataFrame()\n",
    "    ed2['to_node'] = np.repeat(5000,201)\n",
    "    ed2['from_node'] = np.array(best_pages_df['id'][n:n+201])\n",
    "    edgeList = pd.concat([edgeList, ed2])\n",
    "    graph_df2 = pd.concat([graph_df, edgeList])\n",
    "    \n",
    "    new_M = cal_M(graph_df2)\n",
    "    new_pr = pagerank(new_M, 0.85, 25)\n",
    "    \n",
    "    return new_pr[5000]\n",
    "    "
   ]
  },
  {
   "cell_type": "markdown",
   "metadata": {
    "deletable": false,
    "editable": false,
    "nbgrader": {
     "checksum": "9e3917c6068acc0640928f1a44836fd6",
     "grade": false,
     "grade_id": "note-runtest3",
     "locked": true,
     "schema_version": 1,
     "solution": false
    }
   },
   "source": [
    "Run the above test for these values of `n` : [0,100,200,300,400,500,800,1000,2000,3000,4000,4500], store the output in an array called `pageRankScores26` and create a scatter plot with the PageRank scores of node 5000 for different values of these incoming links."
   ]
  },
  {
   "cell_type": "code",
   "execution_count": 61,
   "metadata": {
    "deletable": false,
    "nbgrader": {
     "checksum": "fd01db4d5e234e58c8e7ff7a66b4369a",
     "grade": false,
     "grade_id": "hw3-execruntest3",
     "locked": false,
     "schema_version": 1,
     "solution": true
    }
   },
   "outputs": [
    {
     "name": "stderr",
     "output_type": "stream",
     "text": [
      "/opt/conda/lib/python3.6/site-packages/ipykernel_launcher.py:15: FutureWarning: Sorting because non-concatenation axis is not aligned. A future version\n",
      "of pandas will change to not sort by default.\n",
      "\n",
      "To accept the future behavior, pass 'sort=False'.\n",
      "\n",
      "To retain the current behavior and silence the warning, pass 'sort=True'.\n",
      "\n",
      "  from ipykernel import kernelapp as app\n",
      "/opt/conda/lib/python3.6/site-packages/ipykernel_launcher.py:3: RuntimeWarning: divide by zero encountered in true_divide\n",
      "  This is separate from the ipykernel package so we can avoid doing imports until\n",
      "/opt/conda/lib/python3.6/site-packages/ipykernel_launcher.py:3: RuntimeWarning: invalid value encountered in multiply\n",
      "  This is separate from the ipykernel package so we can avoid doing imports until\n"
     ]
    },
    {
     "name": "stdout",
     "output_type": "stream",
     "text": [
      "[72.64019624198473, 39.92811217749723, 32.6295635811945, 34.21753945769206, 68.01845925326103, 62.011756493677716, 24.495225256141417, 31.620004525426808, 20.584336373731194, 22.58873618870695, 24.551222635891524, 19.95752144680381]\n"
     ]
    },
    {
     "data": {
      "text/plain": [
       "[<matplotlib.lines.Line2D at 0x7fae55fc3390>]"
      ]
     },
     "execution_count": 61,
     "metadata": {},
     "output_type": "execute_result"
    },
    {
     "data": {
      "image/png": "[encoded data removed]",
      "text/plain": [
       "<Figure size 432x288 with 1 Axes>"
      ]
     },
     "metadata": {
      "needs_background": "light"
     },
     "output_type": "display_data"
    }
   ],
   "source": [
    "# [hw3-execruntest3]\n",
    "# TODO: Call runTest3 for n = [0,100,200,300,400,500,800,1000,2000,3000,4000,4500]\n",
    "# and visualize the results.\n",
    "# (5 points)\n",
    "\n",
    "n = [0,100,200,300,400,500,800,1000,2000,3000,4000,4500]\n",
    "pageRankScores26 = []\n",
    "\n",
    "#best_pages_df = pd.DataFrame()\n",
    "#best_pages_df['id'] = list(range(5000))\n",
    "#best_pages_df['pagerank'] = pr\n",
    "#best_pages_df = best_pages_df.sort_values(by=['pagerank'], ascending=False)\n",
    "for i in n:\n",
    "    pageRankScores26.append(runTest3(i,best_pages_df))\n",
    "print(pageRankScores26)\n",
    "\n",
    "plt.plot(n,pageRankScores26,'bo') "
   ]
  },
  {
   "cell_type": "code",
   "execution_count": 62,
   "metadata": {},
   "outputs": [
    {
     "data": {
      "text/plain": [
       "247.43387071162954"
      ]
     },
     "execution_count": 62,
     "metadata": {},
     "output_type": "execute_result"
    }
   ],
   "source": [
    "sum(pageRankScores26[:5])"
   ]
  },
  {
   "cell_type": "code",
   "execution_count": 63,
   "metadata": {
    "deletable": false,
    "editable": false,
    "nbgrader": {
     "checksum": "52412928c119e3754051e06d8076a028",
     "grade": false,
     "grade_id": "test-prscores-8",
     "locked": true,
     "schema_version": 1,
     "solution": false
    }
   },
   "outputs": [],
   "source": [
    "# [test-prscores-8]\n",
    "# [CIS 545 Homework 3] Test Case\n",
    "# Checking pagerankscores values for runtest3\n",
    "\n",
    "if ((sum(pageRankScores26[:5])- 247.43) > 0.01):\n",
    "    raise ValueError('Incorrect values')"
   ]
  },
  {
   "cell_type": "code",
   "execution_count": 64,
   "metadata": {
    "deletable": false,
    "editable": false,
    "nbgrader": {
     "checksum": "2d7b50ac1bb1b5f48df64927eac92338",
     "grade": false,
     "grade_id": "test-pad26",
     "locked": true,
     "schema_version": 1,
     "solution": false
    }
   },
   "outputs": [
    {
     "name": "stdout",
     "output_type": "stream",
     "text": [
      "[CIS 545 Homework 3] Test Case - 0 points\n"
     ]
    }
   ],
   "source": [
    "# [CIS 545 Test Cases] (0 pts)\n",
    "print(\"[CIS 545 Homework 3] Test Case - 0 points\")\n",
    "score = score + 0"
   ]
  },
  {
   "cell_type": "code",
   "execution_count": 65,
   "metadata": {
    "deletable": false,
    "editable": false,
    "nbgrader": {
     "checksum": "9454fd11a4d9d229b432d2268271b5f0",
     "grade": true,
     "grade_id": "test-prscores-9",
     "locked": true,
     "points": 5,
     "schema_version": 1,
     "solution": false
    }
   },
   "outputs": [],
   "source": [
    "# [test-prscores-9]\n",
    "# [CIS 545 Homework 3] Test Case\n",
    "# Checking pagerankscores values for runtest3\n"
   ]
  },
  {
   "cell_type": "code",
   "execution_count": 66,
   "metadata": {
    "deletable": false,
    "editable": false,
    "nbgrader": {
     "checksum": "5343dd791d9e980e456626e75dd42bc6",
     "grade": false,
     "grade_id": "test-pad27",
     "locked": true,
     "schema_version": 1,
     "solution": false
    }
   },
   "outputs": [
    {
     "name": "stdout",
     "output_type": "stream",
     "text": [
      "[CIS 545 Homework 3] Test Case - 5 points\n"
     ]
    }
   ],
   "source": [
    "# [CIS 545 Test Cases] (5 pts)\n",
    "print(\"[CIS 545 Homework 3] Test Case - 5 points\")\n",
    "score = score + 5"
   ]
  },
  {
   "cell_type": "code",
   "execution_count": 67,
   "metadata": {
    "deletable": false,
    "editable": false,
    "nbgrader": {
     "checksum": "0a96b389c322ab57394e645c32191565",
     "grade": true,
     "grade_id": "test-prscores-10",
     "locked": true,
     "points": 5,
     "schema_version": 1,
     "solution": false
    }
   },
   "outputs": [],
   "source": [
    "# [test-prscores-10]\n",
    "# [CIS 545 Homework 3] Test Case\n",
    "# Checking pagerankscores values for runtest3\n"
   ]
  },
  {
   "cell_type": "code",
   "execution_count": 68,
   "metadata": {
    "deletable": false,
    "editable": false,
    "nbgrader": {
     "checksum": "54000ca81e1e2869e9a9cd096024044b",
     "grade": false,
     "grade_id": "test-pad28",
     "locked": true,
     "schema_version": 1,
     "solution": false
    }
   },
   "outputs": [
    {
     "name": "stdout",
     "output_type": "stream",
     "text": [
      "[CIS 545 Homework 3] Test Case - 5 points\n"
     ]
    }
   ],
   "source": [
    "# [CIS 545 Test Cases] (5 pts)\n",
    "print(\"[CIS 545 Homework 3] Test Case - 5 points\")\n",
    "score = score + 5"
   ]
  },
  {
   "cell_type": "markdown",
   "metadata": {
    "deletable": false,
    "editable": false,
    "nbgrader": {
     "checksum": "9ce6894ec690739ada30e5bbbfc06621",
     "grade": false,
     "grade_id": "hw3-visualization",
     "locked": true,
     "schema_version": 1,
     "solution": false
    }
   },
   "source": [
    "### Visualizing the Effect (5 points)\n",
    "\n",
    "To get a better understanding of the effect of adding different kinds of links from and to the target page, we plot the values from `pageRankScores25` and `pageRankScores26` in the same plot and compare the differences in the values as we move from 0 to 4500. \n",
    "\n",
    "For a better visualization, make sure to represent the data points by dots and join these data points using lines. This can be done using the following command `plt.plot(x,y,'r-o')`. The third argument to plot can be intrepreted as follows : `r` plots the points in red color, `-` adds straight lines between data points and `o` marks data points as dots."
   ]
  },
  {
   "cell_type": "code",
   "execution_count": 69,
   "metadata": {
    "deletable": false,
    "nbgrader": {
     "checksum": "ca6640bcc9122cfdff33b317a235958e",
     "grade": false,
     "grade_id": "hw3-pyplot",
     "locked": false,
     "schema_version": 1,
     "solution": true
    }
   },
   "outputs": [
    {
     "data": {
      "text/plain": [
       "<matplotlib.legend.Legend at 0x7fae55f1e1d0>"
      ]
     },
     "execution_count": 69,
     "metadata": {},
     "output_type": "execute_result"
    },
    {
     "data": {
      "image/png": "[encoded data removed]",
      "text/plain": [
       "<Figure size 432x288 with 1 Axes>"
      ]
     },
     "metadata": {
      "needs_background": "light"
     },
     "output_type": "display_data"
    }
   ],
   "source": [
    "# [hw3-pyplot]\n",
    "# Create object 'graph' as described above\n",
    "\n",
    "#graph = '' # Base - you may delete this if it works better with your code (i.e. you do the plot differently!)\n",
    "\n",
    "x = [0,100,200,300,400,500,800,1000,2000,3000,4000,4500]\n",
    "\n",
    "# Use this code to add a legend as well\n",
    "graph = plt.figure(1)\n",
    "plt.plot(x, pageRankScores25, 'r-o')\n",
    "plt.plot(x, pageRankScores26, 'b-o')\n",
    "plt.legend(['pageRankScores25', 'pageRankScores26'])"
   ]
  },
  {
   "cell_type": "code",
   "execution_count": 70,
   "metadata": {
    "deletable": false,
    "nbgrader": {
     "checksum": "46e408f0277cf39a501151fcee1f28fd",
     "grade": false,
     "grade_id": "hw3-updategraph",
     "locked": false,
     "schema_version": 1,
     "solution": true
    }
   },
   "outputs": [
    {
     "data": {
      "image/png": "[encoded data removed]",
      "text/plain": [
       "<Figure size 432x288 with 1 Axes>"
      ]
     },
     "execution_count": 70,
     "metadata": {},
     "output_type": "execute_result"
    }
   ],
   "source": [
    "graph"
   ]
  },
  {
   "cell_type": "code",
   "execution_count": 71,
   "metadata": {
    "deletable": false,
    "editable": false,
    "nbgrader": {
     "checksum": "2e3d076f302fc5939053cabfc6ec74a8",
     "grade": true,
     "grade_id": "hw3-testgraph",
     "locked": true,
     "points": 5,
     "schema_version": 1,
     "solution": false
    }
   },
   "outputs": [],
   "source": [
    "# [hw3-testgraph]\n",
    "# Hidden tests for your graph\n"
   ]
  },
  {
   "cell_type": "code",
   "execution_count": 72,
   "metadata": {
    "deletable": false,
    "editable": false,
    "nbgrader": {
     "checksum": "fa325eb3c0b43e5fc261ca7c7cccbf6c",
     "grade": false,
     "grade_id": "test-pad29",
     "locked": true,
     "schema_version": 1,
     "solution": false
    }
   },
   "outputs": [
    {
     "name": "stdout",
     "output_type": "stream",
     "text": [
      "[CIS 545 Homework 3] Test Case - 5 points\n"
     ]
    }
   ],
   "source": [
    "# [CIS 545 Test Cases] (5 pts)\n",
    "print(\"[CIS 545 Homework 3] Test Case - 5 points\")\n",
    "score = score + 5"
   ]
  },
  {
   "cell_type": "code",
   "execution_count": null,
   "metadata": {},
   "outputs": [],
   "source": []
  }
 ],
 "metadata": {
  "kernelspec": {
   "display_name": "Python 3",
   "language": "python",
   "name": "python3"
  },
  "language_info": {
   "codemirror_mode": {
    "name": "ipython",
    "version": 3
   },
   "file_extension": ".py",
   "mimetype": "text/x-python",
   "name": "python",
   "nbconvert_exporter": "python",
   "pygments_lexer": "ipython3",
   "version": "3.6.7"
  }
 },
 "nbformat": 4,
 "nbformat_minor": 2
}
