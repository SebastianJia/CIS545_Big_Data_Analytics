{
 "cells": [
  {
   "cell_type": "code",
   "execution_count": 1,
   "metadata": {},
   "outputs": [],
   "source": [
    "# CIS 545"
   ]
  },
  {
   "cell_type": "code",
   "execution_count": 1,
   "metadata": {},
   "outputs": [
    {
     "name": "stdout",
     "output_type": "stream",
     "text": [
      "Requirement already satisfied: nltk in /home/jovyan/.local/lib/python3.6/site-packages (3.4)\n",
      "Requirement already satisfied: singledispatch in /home/jovyan/.local/lib/python3.6/site-packages (from nltk) (3.4.0.3)\n",
      "Requirement already satisfied: six in /opt/conda/lib/python3.6/site-packages (from nltk) (1.12.0)\n"
     ]
    }
   ],
   "source": [
    "!pip install nltk --user"
   ]
  },
  {
   "cell_type": "code",
   "execution_count": 2,
   "metadata": {
    "deletable": false,
    "editable": false,
    "nbgrader": {
     "checksum": "b229a6dc7c38a2041fb06edd93f1609c",
     "grade": false,
     "grade_id": "setup",
     "locked": true,
     "schema_version": 1,
     "solution": false
    }
   },
   "outputs": [],
   "source": [
    "## CIS 545 Homework 1 - Spring 2019\n",
    "# Updated January 2019"
   ]
  },
  {
   "cell_type": "markdown",
   "metadata": {
    "deletable": false,
    "editable": false,
    "nbgrader": {
     "checksum": "3973a474f2d3a77aa36d4cf747b4a189",
     "grade": false,
     "grade_id": "hw1",
     "locked": true,
     "schema_version": 1,
     "solution": false
    }
   },
   "source": [
    "# CIS 545 Homework 1: Data Wrangling and Analysis\n",
    "### Due February 11, 2019 by 10pm\n",
    "\n",
    "Big data analytics often requires (1) importing data from multiple sources, possibly extracting content from text; then (2) combining data from multiple sources, possibly from multiple different organizations, in heterogeneous formats.  For this assignment, our primary goals are to get you comfortable with importing, extracting, saving, and combining data -- largely using `Pandas DataFrames` as the basic abstraction.  You’ll read data from files, address issues with missing values, save the data in a database, combine the data, and generate visualizations.\n",
    "\n",
    "*The Task*     \n",
    "Most of you likely were on a plane over the summer, and chances are that at least one of your flights got delayed.  Did you ever wonder how well different airlines do?  We’ll answer those questions in this assignment!  (Caveat: with apologies to international travelers, most of the data is only available for US cities and routes!)\n",
    "\n",
    "*Terminology*      \n",
    "We’ll generally use `field`, `column`, and `attribute` interchangeably to mean a named column in a DataFrame.  We’ll also generally assume that `table`, `DataFrame`, and `relation` mean the same thing.\n",
    "\n",
    "*Submission*      \n",
    "See the external document for submission information.  Remember to also do **Homework 1, Part 2** and optionally **Homework 1-Advanced**.\n",
    "\n",
    "*NBGrader Information*      \n",
    "We're using a package called `nbgrader` to grade your assignments using an autograding system. With that, there's a couple things to take note:\n",
    "- If we specify a format, please use it!\n",
    "- Some cells will not be able to be edited - that is totally fine, we'll mark them\n",
    "- You may add/remove cells, but if a cell is marked test cases, please don't change it...just add cells before/after it!\n",
    "\n",
    "*Score Breakdown*\n",
    "Homework 1 has two parts, Part 1 and Part 2, which are each worth 50 points. The Advanced assignment, when released, will be worth an additional portion (ex: Advanced assignments may be graded out of 120 or 125 instead of 100).\n",
    "- Step 1: 21 pts\n",
    "- Step 2: 29 pts\n",
    "- Step 3: 0 pts (However, if this is done incorrectly, tests in Step 4 will fail!)\n",
    "- Step 4: 30 pts\n",
    "- Step 5: 20 pts"
   ]
  },
  {
   "cell_type": "markdown",
   "metadata": {
    "deletable": false,
    "editable": false,
    "nbgrader": {
     "checksum": "f760732c42a051eadb3227644d849e01",
     "grade": false,
     "grade_id": "hw1-1",
     "locked": true,
     "schema_version": 1,
     "solution": false
    }
   },
   "source": [
    "## Part 1: Data Extraction and Cleaning\n",
    "We'll begin by importing the data and doing some basic information extraction and cleaning. This helps prepare our dataset for analysis later on, in Part 2: Data Wrangling and Analysis.\n",
    "\n",
    "The data files, whose contents are described in the provided notebook _Dataset Descriptions_, are:\n",
    "\n",
    "* `airports.dat.txt` - data on airports, in comma-separated values (CSVs) with no header row\n",
    "\n",
    "* `airlines.dat.txt` - data on airlines, in CSV with no header row\n",
    "\n",
    "* `routes.dat.txt` - data on flight routes, in CSV with no header row\n",
    "\n",
    "* http://docs.google.com/uc?export=download&id=1PPtjGx8lr_cDUfVa3qwlk1W8yY6hY91n - remote file with data on actual flights, with performance info, with a header row\n",
    "\n",
    "* `aircraft_incidents.htm` - webpage that lists commercial aircraft incidents by year"
   ]
  },
  {
   "cell_type": "markdown",
   "metadata": {
    "deletable": false,
    "editable": false,
    "nbgrader": {
     "checksum": "030c8040956245cd8b2009ffcf258384",
     "grade": false,
     "grade_id": "step1",
     "locked": true,
     "schema_version": 1,
     "solution": false
    }
   },
   "source": [
    "## Step 1: Importing CSV Data\n",
    "\n",
    "The first task will be to import tabular data.  Before you get started, run the following..."
   ]
  },
  {
   "cell_type": "code",
   "execution_count": 3,
   "metadata": {
    "deletable": false,
    "editable": false,
    "nbgrader": {
     "checksum": "11441b5299dface90d376491384924d4",
     "grade": false,
     "grade_id": "pandas",
     "locked": true,
     "schema_version": 1,
     "solution": false
    }
   },
   "outputs": [],
   "source": [
    "# csv is a package for file reading/IO\n",
    "import csv\n",
    "\n",
    "# pandas is the data analysis library we'll use in this course\n",
    "import pandas as pd"
   ]
  },
  {
   "cell_type": "code",
   "execution_count": null,
   "metadata": {
    "deletable": false,
    "nbgrader": {
     "checksum": "298c269b5ddd95b7f64e289cc4b3a12e",
     "grade": false,
     "grade_id": "install_nltk",
     "locked": false,
     "schema_version": 1,
     "solution": true
    },
    "scrolled": true
   },
   "outputs": [],
   "source": []
  },
  {
   "cell_type": "code",
   "execution_count": null,
   "metadata": {
    "deletable": false,
    "nbgrader": {
     "checksum": "862f3db2091aec3de1dec3c5dcb95aa1",
     "grade": false,
     "grade_id": "stopwords",
     "locked": false,
     "schema_version": 1,
     "solution": true
    }
   },
   "outputs": [],
   "source": []
  },
  {
   "cell_type": "code",
   "execution_count": 4,
   "metadata": {
    "deletable": false,
    "editable": false,
    "nbgrader": {
     "checksum": "f63db9704c98da078c57b5aafa7c17c7",
     "grade": false,
     "grade_id": "base_dfs",
     "locked": true,
     "schema_version": 1,
     "solution": false
    }
   },
   "outputs": [],
   "source": [
    "# This cell can ultimately be removed - it is just to let your notebook compile\n",
    "# until you write your solution\n",
    "airports_df = pd.DataFrame({})\n",
    "airlines_df = pd.DataFrame({})\n",
    "flights_df = pd.DataFrame({})\n",
    "routes_df = pd.DataFrame({})\n"
   ]
  },
  {
   "cell_type": "markdown",
   "metadata": {
    "deletable": false,
    "editable": false,
    "nbgrader": {
     "checksum": "96ba99d3e745960a49b1484f8c6e1795",
     "grade": false,
     "grade_id": "step1-1",
     "locked": true,
     "schema_version": 1,
     "solution": false
    }
   },
   "source": [
    "## 1.1 Importing Tabular Data\n",
    "\n",
    "Fill in the Cells below to read the specified input files using Pandas’ `read_csv` function.  For the first 3 sources you’ll need to assign column names to the data, based on the **Dataset Descriptions** and some hints below.  \n",
    "\n",
    "We use the variable names `airports_df`, `airlines_df`, `routes_df`, and `flights_df` to refer to the DataFrames below. The `_df` is because Python is dynamically typed, so it helps make code more clear when the type is apparent from the variable name.\n",
    "\n",
    "For your variables and your column names, follow the Python convention that names are in lowercase and underscores are used as spaces. Specifically, when naming columns that are ***shared*** between datasets, use the format datasource_property (i.e. `airport_id`, `airport_name`, `airline_id`, etc.). Distinct columns do not need to be treated this way, similarly with columns that are okay to share with same name (use your data scientist thinking to figure out which these might be!)\n",
    "\n",
    "Please keep `lat`, `lon` and `alt` as abbreviations, but note that under the Python naming conventions these are lowercase in our dataframe columns!"
   ]
  },
  {
   "cell_type": "code",
   "execution_count": 5,
   "metadata": {
    "deletable": false,
    "nbgrader": {
     "checksum": "74f428516744dd9cbabd94eaa300863e",
     "grade": false,
     "grade_id": "load_airports",
     "locked": false,
     "schema_version": 1,
     "solution": true
    }
   },
   "outputs": [],
   "source": [
    "# TODO: Load airports.dat.txt into a dataframe called airports_df\n",
    "# Read the above paragraph for namings!\n",
    "# YOUR CODE HERE\n",
    "airports_df = pd.read_csv(\"airports.dat.txt\",header = None, names = ['airport_id','airport_name','airport_city','airport_country','airport_iata','airport_icao','lat','lon','alt','timezone','dst','tz'])\n",
    "airports_df = pd.DataFrame(airports_df)"
   ]
  },
  {
   "cell_type": "markdown",
   "metadata": {
    "deletable": false,
    "editable": false,
    "nbgrader": {
     "checksum": "72615ec70375d78ee469270efa6e49ac",
     "grade": false,
     "grade_id": "view_schema",
     "locked": true,
     "schema_version": 1,
     "solution": false
    }
   },
   "source": [
    "You should see info on your dataframe's schema if you run this cell..."
   ]
  },
  {
   "cell_type": "code",
   "execution_count": 6,
   "metadata": {
    "deletable": false,
    "editable": false,
    "nbgrader": {
     "checksum": "eac634722a6c7960b4bae0ffb9c34f7d",
     "grade": false,
     "grade_id": "airports_schema",
     "locked": true,
     "schema_version": 1,
     "solution": false
    }
   },
   "outputs": [
    {
     "data": {
      "text/plain": [
       "airport_id           int64\n",
       "airport_name        object\n",
       "airport_city        object\n",
       "airport_country     object\n",
       "airport_iata        object\n",
       "airport_icao        object\n",
       "lat                float64\n",
       "lon                float64\n",
       "alt                  int64\n",
       "timezone           float64\n",
       "dst                 object\n",
       "tz                  object\n",
       "dtype: object"
      ]
     },
     "execution_count": 6,
     "metadata": {},
     "output_type": "execute_result"
    }
   ],
   "source": [
    "airports_df.dtypes"
   ]
  },
  {
   "cell_type": "markdown",
   "metadata": {
    "deletable": false,
    "editable": false,
    "nbgrader": {
     "checksum": "3685943a52a6cda2a93fd9faee2354b3",
     "grade": false,
     "grade_id": "test_cells",
     "locked": true,
     "schema_version": 1,
     "solution": false
    }
   },
   "source": [
    "This is the first of many *test case* cells that will help you to (partly) validate that you're on the right path with your answers.  If this (or any of the other cells) fails, this is a clue that your output isn't what we expect.\n",
    "\n",
    "We also have hidden test cells used to grade your homework, which are marked with:\n",
    "\n",
    "`[CIS 545 Test Cases] (XXX pts)` and end with `print('[CIS 545 Test Cases] (XXX pts)')`\n",
    "\n",
    "The test cells should be read-only, but you still should not attempt to edit any of these cells. Typically, our hidden cells are more restrictive in addition to being worth more points. The public test cells are meant just as a gentle guidance, and passing them doesn't mean your answer will receive full points! Being very thorough in your work will help the chances of that."
   ]
  },
  {
   "cell_type": "code",
   "execution_count": 7,
   "metadata": {
    "deletable": false,
    "editable": false,
    "nbgrader": {
     "checksum": "a1254db2064c70c8520aa61c7231774a",
     "grade": true,
     "grade_id": "test_airports1",
     "locked": true,
     "points": 0,
     "schema_version": 1,
     "solution": false
    }
   },
   "outputs": [
    {
     "name": "stdout",
     "output_type": "stream",
     "text": [
      "[CIS 545 Test Cases] (0 pts)\n"
     ]
    }
   ],
   "source": [
    "# [CIS 545 Test Cases] (0 pts)\n",
    "# This is an example of a test cell! \n",
    "# Please don't edit it!\n",
    "\n",
    "if (len(airports_df) < 8100 or len(airports_df) > 8150): \n",
    "    raise ValueError('Your DataFrame doesn''t have the expected number of rows')\n",
    "    \n",
    "if (len(airports_df.columns) < 11 or len(airports_df.columns) > 12): # 11 or 12 expected\n",
    "    raise ValueError('Your DataFrame doesn''t have the expected number of columns')\n",
    "\n",
    "try:\n",
    "    if (airports_df['airport_id'].dtype != 'int64'):\n",
    "        raise ValueError('Airport ID is wrong type, should be integer')\n",
    "    if (airports_df['airport_name'].dtype != 'object'):\n",
    "        raise ValueError('Airport name is wrong type, should be object (string)')\n",
    "    pass\n",
    "\n",
    "except KeyError:\n",
    "    raise KeyError('You likely misspelled a column name or didn''t load the dataframe')\n",
    "    pass\n",
    "\n",
    "\n",
    "print('[CIS 545 Test Cases] (0 pts)')"
   ]
  },
  {
   "cell_type": "code",
   "execution_count": 8,
   "metadata": {
    "deletable": false,
    "editable": false,
    "nbgrader": {
     "checksum": "11e65f3d69710ba0e6962b6dc84c1ced",
     "grade": true,
     "grade_id": "test_airports2",
     "locked": true,
     "points": 2,
     "schema_version": 1,
     "solution": false
    }
   },
   "outputs": [
    {
     "name": "stdout",
     "output_type": "stream",
     "text": [
      "[CIS 545 Test Cases] (2 pts)\n"
     ]
    }
   ],
   "source": [
    "# [CIS 545 Test Cases] (2 pts)\n",
    "# Testing dtypes of your dataframe\n",
    "\n",
    "\n",
    "print('[CIS 545 Test Cases] (2 pts)')"
   ]
  },
  {
   "cell_type": "code",
   "execution_count": 9,
   "metadata": {
    "deletable": false,
    "nbgrader": {
     "checksum": "ce3530702c7b74e6a62975d8a3ecb219",
     "grade": false,
     "grade_id": "load_airlines",
     "locked": false,
     "schema_version": 1,
     "solution": true
    }
   },
   "outputs": [],
   "source": [
    "# TODO: Load airlines.dat.txt into a dataframe called airlines_df\n",
    "# Again, check Dataset Descriptions!\n",
    "airlines_df = pd.read_csv(\"airlines.dat.txt\",header = None, names = ['airline_id','airline_name','alias','airline_iata','airline_icao','callsign','airline_country',\n",
    "                                                 'active'])\n",
    "\n",
    "# YOUR CODE HERE"
   ]
  },
  {
   "cell_type": "code",
   "execution_count": 10,
   "metadata": {
    "deletable": false,
    "editable": false,
    "nbgrader": {
     "checksum": "f10c095a594793fd20e18db9ff190713",
     "grade": false,
     "grade_id": "airlines_dtypes",
     "locked": true,
     "schema_version": 1,
     "solution": false
    }
   },
   "outputs": [
    {
     "data": {
      "text/plain": [
       "airline_id          int64\n",
       "airline_name       object\n",
       "alias              object\n",
       "airline_iata       object\n",
       "airline_icao       object\n",
       "callsign           object\n",
       "airline_country    object\n",
       "active             object\n",
       "dtype: object"
      ]
     },
     "execution_count": 10,
     "metadata": {},
     "output_type": "execute_result"
    }
   ],
   "source": [
    "airlines_df.dtypes"
   ]
  },
  {
   "cell_type": "code",
   "execution_count": 11,
   "metadata": {
    "deletable": false,
    "editable": false,
    "nbgrader": {
     "checksum": "1a43098f4b129911cf196eefffb35926",
     "grade": true,
     "grade_id": "test_airlines1",
     "locked": true,
     "points": 0,
     "schema_version": 1,
     "solution": false
    }
   },
   "outputs": [
    {
     "name": "stdout",
     "output_type": "stream",
     "text": [
      "[CIS 545 Test Cases] (0 pts)\n"
     ]
    }
   ],
   "source": [
    "# [CIS 545 Test Cases] (0 pts)\n",
    "\n",
    "if (len(airlines_df) < 6030 or len(airlines_df) > 6060):\n",
    "    raise ValueError('Unexpected number of airlines rows')\n",
    "    \n",
    "if (len(airlines_df.columns) != 8):\n",
    "    raise ValueError('Unexpected number of columns in airlines')\n",
    "\n",
    "\n",
    "print('[CIS 545 Test Cases] (0 pts)')"
   ]
  },
  {
   "cell_type": "code",
   "execution_count": 12,
   "metadata": {
    "deletable": false,
    "editable": false,
    "nbgrader": {
     "checksum": "be0535772dfcb170b2fdbcc4c8dc4865",
     "grade": true,
     "grade_id": "test_airlines2",
     "locked": true,
     "points": 2,
     "schema_version": 1,
     "solution": false
    }
   },
   "outputs": [
    {
     "name": "stdout",
     "output_type": "stream",
     "text": [
      "[CIS 545 Test Cases] (2 pts)\n"
     ]
    }
   ],
   "source": [
    "# [CIS 545 Test Cases] (2 pts)\n",
    "\n",
    "\n",
    "print('[CIS 545 Test Cases] (2 pts)')"
   ]
  },
  {
   "cell_type": "markdown",
   "metadata": {
    "deletable": false,
    "editable": false,
    "nbgrader": {
     "checksum": "8a966884499671fdca34eadb0ea12b99",
     "grade": false,
     "grade_id": "overview_routes",
     "locked": true,
     "schema_version": 1,
     "solution": false
    }
   },
   "source": [
    "Now, let's do the same for `routes` - notice that we have source and destination ID and IATA/ICAO code. For `Source airport` please use `src_iata_icao` and for `Source airport ID` please use `source_id` - for the destinations, use `target` for both (`target_iata_icao` and `target_id`).\n",
    "\n",
    "Note that `Codeshare` you should import as `code_share`"
   ]
  },
  {
   "cell_type": "code",
   "execution_count": 13,
   "metadata": {
    "deletable": false,
    "nbgrader": {
     "checksum": "60b4f6d355182f659398818ae7e26fc9",
     "grade": false,
     "grade_id": "load_routes",
     "locked": false,
     "schema_version": 1,
     "solution": true
    }
   },
   "outputs": [],
   "source": [
    "# TODO: Load routes.dat.txt into a dataframe called routes_df\n",
    "# Same idea as before!\n",
    "routes_df = pd.read_csv(\"routes.dat.txt\",header = None, names = ['airline','airline_id','src_iata_icao','source_id',\n",
    "                                               'target_iata_icao','target_id','code_share','stops','equipment'])\n",
    "# YOUR CODE HERE\n"
   ]
  },
  {
   "cell_type": "code",
   "execution_count": 14,
   "metadata": {
    "deletable": false,
    "editable": false,
    "nbgrader": {
     "checksum": "29d425b3daa2bfa6c90bc319e0d0ede3",
     "grade": false,
     "grade_id": "routes_dtypes",
     "locked": true,
     "schema_version": 1,
     "solution": false
    }
   },
   "outputs": [
    {
     "data": {
      "text/plain": [
       "airline             object\n",
       "airline_id          object\n",
       "src_iata_icao       object\n",
       "source_id           object\n",
       "target_iata_icao    object\n",
       "target_id           object\n",
       "code_share          object\n",
       "stops                int64\n",
       "equipment           object\n",
       "dtype: object"
      ]
     },
     "execution_count": 14,
     "metadata": {},
     "output_type": "execute_result"
    }
   ],
   "source": [
    "routes_df.dtypes"
   ]
  },
  {
   "cell_type": "code",
   "execution_count": 15,
   "metadata": {
    "deletable": false,
    "editable": false,
    "nbgrader": {
     "checksum": "ed516fa5b831eb2f5b422b4175da3744",
     "grade": true,
     "grade_id": "test_routes1",
     "locked": true,
     "points": 0,
     "schema_version": 1,
     "solution": false
    }
   },
   "outputs": [
    {
     "name": "stdout",
     "output_type": "stream",
     "text": [
      "[CIS 545 Test Cases] (0 pts)\n"
     ]
    }
   ],
   "source": [
    "# [CIS 545 Test Cases] (0 pts)\n",
    "# Basic routes_df tests\n",
    "\n",
    "if (len(routes_df) < 67660 or len(routes_df) > 67700):\n",
    "    raise ValueError('Unexpected number of routes')\n",
    "    \n",
    "if (len(routes_df.columns) != 9):\n",
    "    raise ValueError('Unexpected number of route columns')\n",
    "\n",
    "if ('source_id' not in routes_df.columns):\n",
    "    raise KeyError('Missing expected source_id field from routes')\n",
    "\n",
    "if ('target_iata_icao' not in routes_df.columns):\n",
    "    raise KeyError('Missing expected target_iata_iaco field from routes')\n",
    "\n",
    "\n",
    "print('[CIS 545 Test Cases] (0 pts)')"
   ]
  },
  {
   "cell_type": "code",
   "execution_count": 16,
   "metadata": {
    "deletable": false,
    "editable": false,
    "nbgrader": {
     "checksum": "12fa56be1d61d9f662a697363ba96ed4",
     "grade": true,
     "grade_id": "test_routes2",
     "locked": true,
     "points": 2,
     "schema_version": 1,
     "solution": false
    }
   },
   "outputs": [
    {
     "name": "stdout",
     "output_type": "stream",
     "text": [
      "[CIS 545 Test Cases] (2 pts)\n"
     ]
    }
   ],
   "source": [
    "# [CIS 545 Test Cases] (2 pts)\n",
    "# routes_df data tests\n",
    "\n",
    "\n",
    "print('[CIS 545 Test Cases] (2 pts)')"
   ]
  },
  {
   "cell_type": "markdown",
   "metadata": {
    "deletable": false,
    "editable": false,
    "nbgrader": {
     "checksum": "addd02bc351d88394726366065af1577",
     "grade": false,
     "grade_id": "overview_flights",
     "locked": true,
     "schema_version": 1,
     "solution": false
    }
   },
   "source": [
    "For the last dataframe, `flights_df`, you are importing from a CSV with a header.  For now, have Python use the header names already in the file. When calling read_csv, use the option use_cols to specify a list of columns to import.  Only include the following fields (these were named in the CSV file header from BTS, and thus don’t follow Python naming conventions): [`YEAR`,`MONTH`,`DAY_OF_MONTH`,`CARRIER`,`FL_NUM`,`ORIGIN`,`DEST`,`ARR_DELAY_NEW`,`CANCELLED`]\n",
    "\n",
    "The data is at: https://docs.google.com/uc?export=download&id=1PPtjGx8lr_cDUfVa3qwlk1W8yY6hY91n"
   ]
  },
  {
   "cell_type": "code",
   "execution_count": 17,
   "metadata": {
    "deletable": false,
    "nbgrader": {
     "checksum": "f2f3d10902c5064cb651e320cadc201d",
     "grade": false,
     "grade_id": "load_flights",
     "locked": false,
     "schema_version": 1,
     "solution": true
    }
   },
   "outputs": [],
   "source": [
    "# TODO: Import https://docs.google.com/uc?export=download&id=1PPtjGx8lr_cDUfVa3qwlk1W8yY6hY91n into flights_df, but\n",
    "# also restrict to the following columns: 'YEAR','MONTH','DAY_OF_MONTH','CARRIER',\n",
    "# 'FL_NUM','ORIGIN','DEST','ARR_DELAY_NEW','CANCELLED'\n",
    "\n",
    "import requests\n",
    "from io import StringIO\n",
    "\n",
    "remote = requests.get('https://docs.google.com/uc?export=download&id=1PPtjGx8lr_cDUfVa3qwlk1W8yY6hY91n').content\n",
    "\n",
    "# You can read from the remote file via:\n",
    "flights_df = pd.read_csv(StringIO(remote.decode('utf-8')), usecols = ['YEAR','MONTH','DAY_OF_MONTH',\n",
    "                                    'CARRIER','FL_NUM','ORIGIN','DEST','ARR_DELAY_NEW','CANCELLED'])\n",
    "#\n",
    "# But you also need to use particular columns as per the HW spec\n"
   ]
  },
  {
   "cell_type": "code",
   "execution_count": 18,
   "metadata": {
    "deletable": false,
    "editable": false,
    "nbgrader": {
     "checksum": "06424f44664b2f97ed77f8cce4476415",
     "grade": true,
     "grade_id": "test_flights1",
     "locked": true,
     "points": 1,
     "schema_version": 1,
     "solution": false
    }
   },
   "outputs": [
    {
     "name": "stdout",
     "output_type": "stream",
     "text": [
      "[CIS 545 Test Cases] (1 pt)\n"
     ]
    }
   ],
   "source": [
    "# [CIS 545 Test Cases] (1 pt)\n",
    "# Basic checks on the size of flights - you should pass all these!\n",
    "\n",
    "if (len(flights_df) != 570118):\n",
    "    raise ValueError('Expected a different number of flights from' + str(len(flights_df)))\n",
    "    \n",
    "if (len(flights_df.columns) != 9):\n",
    "    raise ValueError('Perhaps you forgot to remove a column? Number of columns isn''t as expected, at ' + str(len(flights_df.columns)))\n",
    "        \n",
    "print('[CIS 545 Test Cases] (1 pt)')"
   ]
  },
  {
   "cell_type": "code",
   "execution_count": 19,
   "metadata": {
    "deletable": false,
    "editable": false,
    "nbgrader": {
     "checksum": "4921d32c12be7b7873e8af3a7be759af",
     "grade": true,
     "grade_id": "test_flights2",
     "locked": true,
     "points": 2,
     "schema_version": 1,
     "solution": false
    }
   },
   "outputs": [
    {
     "name": "stdout",
     "output_type": "stream",
     "text": [
      "[CIS 545 Test Cases] (2 pts)\n"
     ]
    }
   ],
   "source": [
    "# [CIS 545 Test Cases] (2 pts)\n",
    "\n",
    "\n",
    "print('[CIS 545 Test Cases] (2 pts)')"
   ]
  },
  {
   "cell_type": "markdown",
   "metadata": {
    "deletable": false,
    "editable": false,
    "nbgrader": {
     "checksum": "79a388129d66f667e99ac67a9e23f354",
     "grade": false,
     "grade_id": "notes_data",
     "locked": true,
     "schema_version": 1,
     "solution": false
    }
   },
   "source": [
    "## Notes on the data so far\n",
    "\n",
    "The data you've imported isn't yet perfect....\n",
    "\n",
    "**Nulls**.  You should see for airlines a variety of entries that say “NaN” (not a number), which represents “unknown” or null information.  In fact, if you look closely there are also other values representing “unknown” such as “\\N” and even “-”.  We’ll have to regularize all of this later!\n",
    "\n",
    "**Schemas**.  OK, you’ve loaded the DataFrames.  You can get the schemas -- the names and types of the columns -- of the DataFrames by the `dtypes` property.  Use `airlines_df.dtypes` and `routes_df.dtypes` to take a look at the schemas.  Now compare the types of `routes_df.airline_id` and `airlines_df.airline_id`.  You should see that one is `int64` and the other is `object`.\n",
    "\n",
    "Why is this?  Python automatically infers the types based on what it reads from the CSV files.  Unfortunately, things like “NaN” are actually floating-point (fractional) numbers and “\\N” is a string.  If a column has multiple kinds of values, Python will consider it to be an “object.”  Unfortunately, this will interfere with how we combine tables later, so we need to “clean” the data.  \n",
    "\n",
    "We'll come back to this later in Homework 1, Part I.  Before that we'll let you take a look at the data to see the issues, and then we'll import even more data (text data this time!)."
   ]
  },
  {
   "cell_type": "code",
   "execution_count": 20,
   "metadata": {
    "deletable": false,
    "nbgrader": {
     "checksum": "f4561febcff366c3ed1290cc38bbd665",
     "grade": false,
     "grade_id": "work1",
     "locked": false,
     "schema_version": 1,
     "solution": true
    }
   },
   "outputs": [
    {
     "data": {
      "text/plain": [
       "airline_id          int64\n",
       "airline_name       object\n",
       "alias              object\n",
       "airline_iata       object\n",
       "airline_icao       object\n",
       "callsign           object\n",
       "airline_country    object\n",
       "active             object\n",
       "dtype: object"
      ]
     },
     "execution_count": 20,
     "metadata": {},
     "output_type": "execute_result"
    }
   ],
   "source": [
    "# YOUR CODE HERE\n",
    "airlines_df.dtypes"
   ]
  },
  {
   "cell_type": "code",
   "execution_count": 21,
   "metadata": {
    "deletable": false,
    "nbgrader": {
     "checksum": "7db3fd01702729195f0300507edbcc6b",
     "grade": false,
     "grade_id": "work2",
     "locked": false,
     "schema_version": 1,
     "solution": true
    }
   },
   "outputs": [
    {
     "data": {
      "text/plain": [
       "airline             object\n",
       "airline_id          object\n",
       "src_iata_icao       object\n",
       "source_id           object\n",
       "target_iata_icao    object\n",
       "target_id           object\n",
       "code_share          object\n",
       "stops                int64\n",
       "equipment           object\n",
       "dtype: object"
      ]
     },
     "execution_count": 21,
     "metadata": {},
     "output_type": "execute_result"
    }
   ],
   "source": [
    "routes_df.dtypes"
   ]
  },
  {
   "cell_type": "markdown",
   "metadata": {
    "deletable": false,
    "editable": false,
    "nbgrader": {
     "checksum": "aa6ebfb791f8678e3b521b72fa0fed1f",
     "grade": false,
     "grade_id": "step1-1_results",
     "locked": true,
     "schema_version": 1,
     "solution": false
    }
   },
   "source": [
    "## 1.1 Final Results\n",
    "Just run these cells! We've made them read-only and they're not graded."
   ]
  },
  {
   "cell_type": "code",
   "execution_count": 22,
   "metadata": {
    "deletable": false,
    "editable": false,
    "nbgrader": {
     "checksum": "13290e5562e37626cac7a1d78b8faaf6",
     "grade": false,
     "grade_id": "airports_head1",
     "locked": true,
     "schema_version": 1,
     "solution": false
    }
   },
   "outputs": [
    {
     "data": {
      "text/html": [
       "<div>\n",
       "<style scoped>\n",
       "    .dataframe tbody tr th:only-of-type {\n",
       "        vertical-align: middle;\n",
       "    }\n",
       "\n",
       "    .dataframe tbody tr th {\n",
       "        vertical-align: top;\n",
       "    }\n",
       "\n",
       "    .dataframe thead th {\n",
       "        text-align: right;\n",
       "    }\n",
       "</style>\n",
       "<table border=\"1\" class=\"dataframe\">\n",
       "  <thead>\n",
       "    <tr style=\"text-align: right;\">\n",
       "      <th></th>\n",
       "      <th>airport_id</th>\n",
       "      <th>airport_name</th>\n",
       "      <th>airport_city</th>\n",
       "      <th>airport_country</th>\n",
       "      <th>airport_iata</th>\n",
       "      <th>airport_icao</th>\n",
       "      <th>lat</th>\n",
       "      <th>lon</th>\n",
       "      <th>alt</th>\n",
       "      <th>timezone</th>\n",
       "      <th>dst</th>\n",
       "      <th>tz</th>\n",
       "    </tr>\n",
       "  </thead>\n",
       "  <tbody>\n",
       "    <tr>\n",
       "      <th>0</th>\n",
       "      <td>1</td>\n",
       "      <td>Goroka</td>\n",
       "      <td>Goroka</td>\n",
       "      <td>Papua New Guinea</td>\n",
       "      <td>GKA</td>\n",
       "      <td>AYGA</td>\n",
       "      <td>-6.081689</td>\n",
       "      <td>145.391881</td>\n",
       "      <td>5282</td>\n",
       "      <td>10.0</td>\n",
       "      <td>U</td>\n",
       "      <td>Pacific/Port_Moresby</td>\n",
       "    </tr>\n",
       "    <tr>\n",
       "      <th>1</th>\n",
       "      <td>2</td>\n",
       "      <td>Madang</td>\n",
       "      <td>Madang</td>\n",
       "      <td>Papua New Guinea</td>\n",
       "      <td>MAG</td>\n",
       "      <td>AYMD</td>\n",
       "      <td>-5.207083</td>\n",
       "      <td>145.788700</td>\n",
       "      <td>20</td>\n",
       "      <td>10.0</td>\n",
       "      <td>U</td>\n",
       "      <td>Pacific/Port_Moresby</td>\n",
       "    </tr>\n",
       "    <tr>\n",
       "      <th>2</th>\n",
       "      <td>3</td>\n",
       "      <td>Mount Hagen</td>\n",
       "      <td>Mount Hagen</td>\n",
       "      <td>Papua New Guinea</td>\n",
       "      <td>HGU</td>\n",
       "      <td>AYMH</td>\n",
       "      <td>-5.826789</td>\n",
       "      <td>144.295861</td>\n",
       "      <td>5388</td>\n",
       "      <td>10.0</td>\n",
       "      <td>U</td>\n",
       "      <td>Pacific/Port_Moresby</td>\n",
       "    </tr>\n",
       "    <tr>\n",
       "      <th>3</th>\n",
       "      <td>4</td>\n",
       "      <td>Nadzab</td>\n",
       "      <td>Nadzab</td>\n",
       "      <td>Papua New Guinea</td>\n",
       "      <td>LAE</td>\n",
       "      <td>AYNZ</td>\n",
       "      <td>-6.569828</td>\n",
       "      <td>146.726242</td>\n",
       "      <td>239</td>\n",
       "      <td>10.0</td>\n",
       "      <td>U</td>\n",
       "      <td>Pacific/Port_Moresby</td>\n",
       "    </tr>\n",
       "    <tr>\n",
       "      <th>4</th>\n",
       "      <td>5</td>\n",
       "      <td>Port Moresby Jacksons Intl</td>\n",
       "      <td>Port Moresby</td>\n",
       "      <td>Papua New Guinea</td>\n",
       "      <td>POM</td>\n",
       "      <td>AYPY</td>\n",
       "      <td>-9.443383</td>\n",
       "      <td>147.220050</td>\n",
       "      <td>146</td>\n",
       "      <td>10.0</td>\n",
       "      <td>U</td>\n",
       "      <td>Pacific/Port_Moresby</td>\n",
       "    </tr>\n",
       "    <tr>\n",
       "      <th>5</th>\n",
       "      <td>6</td>\n",
       "      <td>Wewak Intl</td>\n",
       "      <td>Wewak</td>\n",
       "      <td>Papua New Guinea</td>\n",
       "      <td>WWK</td>\n",
       "      <td>AYWK</td>\n",
       "      <td>-3.583828</td>\n",
       "      <td>143.669186</td>\n",
       "      <td>19</td>\n",
       "      <td>10.0</td>\n",
       "      <td>U</td>\n",
       "      <td>Pacific/Port_Moresby</td>\n",
       "    </tr>\n",
       "    <tr>\n",
       "      <th>6</th>\n",
       "      <td>7</td>\n",
       "      <td>Narsarsuaq</td>\n",
       "      <td>Narssarssuaq</td>\n",
       "      <td>Greenland</td>\n",
       "      <td>UAK</td>\n",
       "      <td>BGBW</td>\n",
       "      <td>61.160517</td>\n",
       "      <td>-45.425978</td>\n",
       "      <td>112</td>\n",
       "      <td>-3.0</td>\n",
       "      <td>E</td>\n",
       "      <td>America/Godthab</td>\n",
       "    </tr>\n",
       "    <tr>\n",
       "      <th>7</th>\n",
       "      <td>8</td>\n",
       "      <td>Nuuk</td>\n",
       "      <td>Godthaab</td>\n",
       "      <td>Greenland</td>\n",
       "      <td>GOH</td>\n",
       "      <td>BGGH</td>\n",
       "      <td>64.190922</td>\n",
       "      <td>-51.678064</td>\n",
       "      <td>283</td>\n",
       "      <td>-3.0</td>\n",
       "      <td>E</td>\n",
       "      <td>America/Godthab</td>\n",
       "    </tr>\n",
       "    <tr>\n",
       "      <th>8</th>\n",
       "      <td>9</td>\n",
       "      <td>Sondre Stromfjord</td>\n",
       "      <td>Sondrestrom</td>\n",
       "      <td>Greenland</td>\n",
       "      <td>SFJ</td>\n",
       "      <td>BGSF</td>\n",
       "      <td>67.016969</td>\n",
       "      <td>-50.689325</td>\n",
       "      <td>165</td>\n",
       "      <td>-3.0</td>\n",
       "      <td>E</td>\n",
       "      <td>America/Godthab</td>\n",
       "    </tr>\n",
       "    <tr>\n",
       "      <th>9</th>\n",
       "      <td>10</td>\n",
       "      <td>Thule Air Base</td>\n",
       "      <td>Thule</td>\n",
       "      <td>Greenland</td>\n",
       "      <td>THU</td>\n",
       "      <td>BGTL</td>\n",
       "      <td>76.531203</td>\n",
       "      <td>-68.703161</td>\n",
       "      <td>251</td>\n",
       "      <td>-4.0</td>\n",
       "      <td>E</td>\n",
       "      <td>America/Thule</td>\n",
       "    </tr>\n",
       "  </tbody>\n",
       "</table>\n",
       "</div>"
      ],
      "text/plain": [
       "   airport_id                airport_name  airport_city   airport_country  \\\n",
       "0           1                      Goroka        Goroka  Papua New Guinea   \n",
       "1           2                      Madang        Madang  Papua New Guinea   \n",
       "2           3                 Mount Hagen   Mount Hagen  Papua New Guinea   \n",
       "3           4                      Nadzab        Nadzab  Papua New Guinea   \n",
       "4           5  Port Moresby Jacksons Intl  Port Moresby  Papua New Guinea   \n",
       "5           6                  Wewak Intl         Wewak  Papua New Guinea   \n",
       "6           7                  Narsarsuaq  Narssarssuaq         Greenland   \n",
       "7           8                        Nuuk      Godthaab         Greenland   \n",
       "8           9           Sondre Stromfjord   Sondrestrom         Greenland   \n",
       "9          10              Thule Air Base         Thule         Greenland   \n",
       "\n",
       "  airport_iata airport_icao        lat         lon   alt  timezone dst  \\\n",
       "0          GKA         AYGA  -6.081689  145.391881  5282      10.0   U   \n",
       "1          MAG         AYMD  -5.207083  145.788700    20      10.0   U   \n",
       "2          HGU         AYMH  -5.826789  144.295861  5388      10.0   U   \n",
       "3          LAE         AYNZ  -6.569828  146.726242   239      10.0   U   \n",
       "4          POM         AYPY  -9.443383  147.220050   146      10.0   U   \n",
       "5          WWK         AYWK  -3.583828  143.669186    19      10.0   U   \n",
       "6          UAK         BGBW  61.160517  -45.425978   112      -3.0   E   \n",
       "7          GOH         BGGH  64.190922  -51.678064   283      -3.0   E   \n",
       "8          SFJ         BGSF  67.016969  -50.689325   165      -3.0   E   \n",
       "9          THU         BGTL  76.531203  -68.703161   251      -4.0   E   \n",
       "\n",
       "                     tz  \n",
       "0  Pacific/Port_Moresby  \n",
       "1  Pacific/Port_Moresby  \n",
       "2  Pacific/Port_Moresby  \n",
       "3  Pacific/Port_Moresby  \n",
       "4  Pacific/Port_Moresby  \n",
       "5  Pacific/Port_Moresby  \n",
       "6       America/Godthab  \n",
       "7       America/Godthab  \n",
       "8       America/Godthab  \n",
       "9         America/Thule  "
      ]
     },
     "execution_count": 22,
     "metadata": {},
     "output_type": "execute_result"
    }
   ],
   "source": [
    "# Output airports_df\n",
    "airports_df.head(10)"
   ]
  },
  {
   "cell_type": "code",
   "execution_count": 23,
   "metadata": {
    "deletable": false,
    "editable": false,
    "nbgrader": {
     "checksum": "0b0b14ced6b2bfc76ce22755dfd0ea7a",
     "grade": false,
     "grade_id": "airlines_head1",
     "locked": true,
     "schema_version": 1,
     "solution": false
    }
   },
   "outputs": [
    {
     "data": {
      "text/html": [
       "<div>\n",
       "<style scoped>\n",
       "    .dataframe tbody tr th:only-of-type {\n",
       "        vertical-align: middle;\n",
       "    }\n",
       "\n",
       "    .dataframe tbody tr th {\n",
       "        vertical-align: top;\n",
       "    }\n",
       "\n",
       "    .dataframe thead th {\n",
       "        text-align: right;\n",
       "    }\n",
       "</style>\n",
       "<table border=\"1\" class=\"dataframe\">\n",
       "  <thead>\n",
       "    <tr style=\"text-align: right;\">\n",
       "      <th></th>\n",
       "      <th>airline_id</th>\n",
       "      <th>airline_name</th>\n",
       "      <th>alias</th>\n",
       "      <th>airline_iata</th>\n",
       "      <th>airline_icao</th>\n",
       "      <th>callsign</th>\n",
       "      <th>airline_country</th>\n",
       "      <th>active</th>\n",
       "    </tr>\n",
       "  </thead>\n",
       "  <tbody>\n",
       "    <tr>\n",
       "      <th>0</th>\n",
       "      <td>1</td>\n",
       "      <td>Private flight</td>\n",
       "      <td>\\N</td>\n",
       "      <td>-</td>\n",
       "      <td>NaN</td>\n",
       "      <td>NaN</td>\n",
       "      <td>NaN</td>\n",
       "      <td>Y</td>\n",
       "    </tr>\n",
       "    <tr>\n",
       "      <th>1</th>\n",
       "      <td>2</td>\n",
       "      <td>135 Airways</td>\n",
       "      <td>\\N</td>\n",
       "      <td>NaN</td>\n",
       "      <td>GNL</td>\n",
       "      <td>GENERAL</td>\n",
       "      <td>United States</td>\n",
       "      <td>N</td>\n",
       "    </tr>\n",
       "    <tr>\n",
       "      <th>2</th>\n",
       "      <td>3</td>\n",
       "      <td>1Time Airline</td>\n",
       "      <td>\\N</td>\n",
       "      <td>1T</td>\n",
       "      <td>RNX</td>\n",
       "      <td>NEXTIME</td>\n",
       "      <td>South Africa</td>\n",
       "      <td>Y</td>\n",
       "    </tr>\n",
       "    <tr>\n",
       "      <th>3</th>\n",
       "      <td>4</td>\n",
       "      <td>2 Sqn No 1 Elementary Flying Training School</td>\n",
       "      <td>\\N</td>\n",
       "      <td>NaN</td>\n",
       "      <td>WYT</td>\n",
       "      <td>NaN</td>\n",
       "      <td>United Kingdom</td>\n",
       "      <td>N</td>\n",
       "    </tr>\n",
       "    <tr>\n",
       "      <th>4</th>\n",
       "      <td>5</td>\n",
       "      <td>213 Flight Unit</td>\n",
       "      <td>\\N</td>\n",
       "      <td>NaN</td>\n",
       "      <td>TFU</td>\n",
       "      <td>NaN</td>\n",
       "      <td>Russia</td>\n",
       "      <td>N</td>\n",
       "    </tr>\n",
       "    <tr>\n",
       "      <th>5</th>\n",
       "      <td>6</td>\n",
       "      <td>223 Flight Unit State Airline</td>\n",
       "      <td>\\N</td>\n",
       "      <td>NaN</td>\n",
       "      <td>CHD</td>\n",
       "      <td>CHKALOVSK-AVIA</td>\n",
       "      <td>Russia</td>\n",
       "      <td>N</td>\n",
       "    </tr>\n",
       "    <tr>\n",
       "      <th>6</th>\n",
       "      <td>7</td>\n",
       "      <td>224th Flight Unit</td>\n",
       "      <td>\\N</td>\n",
       "      <td>NaN</td>\n",
       "      <td>TTF</td>\n",
       "      <td>CARGO UNIT</td>\n",
       "      <td>Russia</td>\n",
       "      <td>N</td>\n",
       "    </tr>\n",
       "    <tr>\n",
       "      <th>7</th>\n",
       "      <td>8</td>\n",
       "      <td>247 Jet Ltd</td>\n",
       "      <td>\\N</td>\n",
       "      <td>NaN</td>\n",
       "      <td>TWF</td>\n",
       "      <td>CLOUD RUNNER</td>\n",
       "      <td>United Kingdom</td>\n",
       "      <td>N</td>\n",
       "    </tr>\n",
       "    <tr>\n",
       "      <th>8</th>\n",
       "      <td>9</td>\n",
       "      <td>3D Aviation</td>\n",
       "      <td>\\N</td>\n",
       "      <td>NaN</td>\n",
       "      <td>SEC</td>\n",
       "      <td>SECUREX</td>\n",
       "      <td>United States</td>\n",
       "      <td>N</td>\n",
       "    </tr>\n",
       "    <tr>\n",
       "      <th>9</th>\n",
       "      <td>10</td>\n",
       "      <td>40-Mile Air</td>\n",
       "      <td>\\N</td>\n",
       "      <td>Q5</td>\n",
       "      <td>MLA</td>\n",
       "      <td>MILE-AIR</td>\n",
       "      <td>United States</td>\n",
       "      <td>Y</td>\n",
       "    </tr>\n",
       "  </tbody>\n",
       "</table>\n",
       "</div>"
      ],
      "text/plain": [
       "   airline_id                                  airline_name alias  \\\n",
       "0           1                                Private flight    \\N   \n",
       "1           2                                   135 Airways    \\N   \n",
       "2           3                                 1Time Airline    \\N   \n",
       "3           4  2 Sqn No 1 Elementary Flying Training School    \\N   \n",
       "4           5                               213 Flight Unit    \\N   \n",
       "5           6                 223 Flight Unit State Airline    \\N   \n",
       "6           7                             224th Flight Unit    \\N   \n",
       "7           8                                   247 Jet Ltd    \\N   \n",
       "8           9                                   3D Aviation    \\N   \n",
       "9          10                                   40-Mile Air    \\N   \n",
       "\n",
       "  airline_iata airline_icao        callsign airline_country active  \n",
       "0            -          NaN             NaN             NaN      Y  \n",
       "1          NaN          GNL         GENERAL   United States      N  \n",
       "2           1T          RNX         NEXTIME    South Africa      Y  \n",
       "3          NaN          WYT             NaN  United Kingdom      N  \n",
       "4          NaN          TFU             NaN          Russia      N  \n",
       "5          NaN          CHD  CHKALOVSK-AVIA          Russia      N  \n",
       "6          NaN          TTF      CARGO UNIT          Russia      N  \n",
       "7          NaN          TWF    CLOUD RUNNER  United Kingdom      N  \n",
       "8          NaN          SEC         SECUREX   United States      N  \n",
       "9           Q5          MLA        MILE-AIR   United States      Y  "
      ]
     },
     "execution_count": 23,
     "metadata": {},
     "output_type": "execute_result"
    }
   ],
   "source": [
    "# Output airlines_df\n",
    "airlines_df.head(10)"
   ]
  },
  {
   "cell_type": "code",
   "execution_count": 24,
   "metadata": {
    "deletable": false,
    "editable": false,
    "nbgrader": {
     "checksum": "10f5e6bb1a56bf86cdfc74117076b99b",
     "grade": false,
     "grade_id": "routes_head1",
     "locked": true,
     "schema_version": 1,
     "solution": false
    }
   },
   "outputs": [
    {
     "data": {
      "text/html": [
       "<div>\n",
       "<style scoped>\n",
       "    .dataframe tbody tr th:only-of-type {\n",
       "        vertical-align: middle;\n",
       "    }\n",
       "\n",
       "    .dataframe tbody tr th {\n",
       "        vertical-align: top;\n",
       "    }\n",
       "\n",
       "    .dataframe thead th {\n",
       "        text-align: right;\n",
       "    }\n",
       "</style>\n",
       "<table border=\"1\" class=\"dataframe\">\n",
       "  <thead>\n",
       "    <tr style=\"text-align: right;\">\n",
       "      <th></th>\n",
       "      <th>airline</th>\n",
       "      <th>airline_id</th>\n",
       "      <th>src_iata_icao</th>\n",
       "      <th>source_id</th>\n",
       "      <th>target_iata_icao</th>\n",
       "      <th>target_id</th>\n",
       "      <th>code_share</th>\n",
       "      <th>stops</th>\n",
       "      <th>equipment</th>\n",
       "    </tr>\n",
       "  </thead>\n",
       "  <tbody>\n",
       "    <tr>\n",
       "      <th>0</th>\n",
       "      <td>2B</td>\n",
       "      <td>410</td>\n",
       "      <td>AER</td>\n",
       "      <td>2965</td>\n",
       "      <td>KZN</td>\n",
       "      <td>2990</td>\n",
       "      <td>NaN</td>\n",
       "      <td>0</td>\n",
       "      <td>CR2</td>\n",
       "    </tr>\n",
       "    <tr>\n",
       "      <th>1</th>\n",
       "      <td>2B</td>\n",
       "      <td>410</td>\n",
       "      <td>ASF</td>\n",
       "      <td>2966</td>\n",
       "      <td>KZN</td>\n",
       "      <td>2990</td>\n",
       "      <td>NaN</td>\n",
       "      <td>0</td>\n",
       "      <td>CR2</td>\n",
       "    </tr>\n",
       "    <tr>\n",
       "      <th>2</th>\n",
       "      <td>2B</td>\n",
       "      <td>410</td>\n",
       "      <td>ASF</td>\n",
       "      <td>2966</td>\n",
       "      <td>MRV</td>\n",
       "      <td>2962</td>\n",
       "      <td>NaN</td>\n",
       "      <td>0</td>\n",
       "      <td>CR2</td>\n",
       "    </tr>\n",
       "    <tr>\n",
       "      <th>3</th>\n",
       "      <td>2B</td>\n",
       "      <td>410</td>\n",
       "      <td>CEK</td>\n",
       "      <td>2968</td>\n",
       "      <td>KZN</td>\n",
       "      <td>2990</td>\n",
       "      <td>NaN</td>\n",
       "      <td>0</td>\n",
       "      <td>CR2</td>\n",
       "    </tr>\n",
       "    <tr>\n",
       "      <th>4</th>\n",
       "      <td>2B</td>\n",
       "      <td>410</td>\n",
       "      <td>CEK</td>\n",
       "      <td>2968</td>\n",
       "      <td>OVB</td>\n",
       "      <td>4078</td>\n",
       "      <td>NaN</td>\n",
       "      <td>0</td>\n",
       "      <td>CR2</td>\n",
       "    </tr>\n",
       "    <tr>\n",
       "      <th>5</th>\n",
       "      <td>2B</td>\n",
       "      <td>410</td>\n",
       "      <td>DME</td>\n",
       "      <td>4029</td>\n",
       "      <td>KZN</td>\n",
       "      <td>2990</td>\n",
       "      <td>NaN</td>\n",
       "      <td>0</td>\n",
       "      <td>CR2</td>\n",
       "    </tr>\n",
       "    <tr>\n",
       "      <th>6</th>\n",
       "      <td>2B</td>\n",
       "      <td>410</td>\n",
       "      <td>DME</td>\n",
       "      <td>4029</td>\n",
       "      <td>NBC</td>\n",
       "      <td>6969</td>\n",
       "      <td>NaN</td>\n",
       "      <td>0</td>\n",
       "      <td>CR2</td>\n",
       "    </tr>\n",
       "    <tr>\n",
       "      <th>7</th>\n",
       "      <td>2B</td>\n",
       "      <td>410</td>\n",
       "      <td>DME</td>\n",
       "      <td>4029</td>\n",
       "      <td>TGK</td>\n",
       "      <td>\\N</td>\n",
       "      <td>NaN</td>\n",
       "      <td>0</td>\n",
       "      <td>CR2</td>\n",
       "    </tr>\n",
       "    <tr>\n",
       "      <th>8</th>\n",
       "      <td>2B</td>\n",
       "      <td>410</td>\n",
       "      <td>DME</td>\n",
       "      <td>4029</td>\n",
       "      <td>UUA</td>\n",
       "      <td>6160</td>\n",
       "      <td>NaN</td>\n",
       "      <td>0</td>\n",
       "      <td>CR2</td>\n",
       "    </tr>\n",
       "    <tr>\n",
       "      <th>9</th>\n",
       "      <td>2B</td>\n",
       "      <td>410</td>\n",
       "      <td>EGO</td>\n",
       "      <td>6156</td>\n",
       "      <td>KGD</td>\n",
       "      <td>2952</td>\n",
       "      <td>NaN</td>\n",
       "      <td>0</td>\n",
       "      <td>CR2</td>\n",
       "    </tr>\n",
       "  </tbody>\n",
       "</table>\n",
       "</div>"
      ],
      "text/plain": [
       "  airline airline_id src_iata_icao source_id target_iata_icao target_id  \\\n",
       "0      2B        410           AER      2965              KZN      2990   \n",
       "1      2B        410           ASF      2966              KZN      2990   \n",
       "2      2B        410           ASF      2966              MRV      2962   \n",
       "3      2B        410           CEK      2968              KZN      2990   \n",
       "4      2B        410           CEK      2968              OVB      4078   \n",
       "5      2B        410           DME      4029              KZN      2990   \n",
       "6      2B        410           DME      4029              NBC      6969   \n",
       "7      2B        410           DME      4029              TGK        \\N   \n",
       "8      2B        410           DME      4029              UUA      6160   \n",
       "9      2B        410           EGO      6156              KGD      2952   \n",
       "\n",
       "  code_share  stops equipment  \n",
       "0        NaN      0       CR2  \n",
       "1        NaN      0       CR2  \n",
       "2        NaN      0       CR2  \n",
       "3        NaN      0       CR2  \n",
       "4        NaN      0       CR2  \n",
       "5        NaN      0       CR2  \n",
       "6        NaN      0       CR2  \n",
       "7        NaN      0       CR2  \n",
       "8        NaN      0       CR2  \n",
       "9        NaN      0       CR2  "
      ]
     },
     "execution_count": 24,
     "metadata": {},
     "output_type": "execute_result"
    }
   ],
   "source": [
    "# Output routes_df\n",
    "routes_df.head(10)"
   ]
  },
  {
   "cell_type": "code",
   "execution_count": 25,
   "metadata": {
    "deletable": false,
    "editable": false,
    "nbgrader": {
     "checksum": "4e905f7a05cf2fb76fc845089db62c2a",
     "grade": false,
     "grade_id": "flights_head1",
     "locked": true,
     "schema_version": 1,
     "solution": false
    }
   },
   "outputs": [
    {
     "data": {
      "text/html": [
       "<div>\n",
       "<style scoped>\n",
       "    .dataframe tbody tr th:only-of-type {\n",
       "        vertical-align: middle;\n",
       "    }\n",
       "\n",
       "    .dataframe tbody tr th {\n",
       "        vertical-align: top;\n",
       "    }\n",
       "\n",
       "    .dataframe thead th {\n",
       "        text-align: right;\n",
       "    }\n",
       "</style>\n",
       "<table border=\"1\" class=\"dataframe\">\n",
       "  <thead>\n",
       "    <tr style=\"text-align: right;\">\n",
       "      <th></th>\n",
       "      <th>YEAR</th>\n",
       "      <th>MONTH</th>\n",
       "      <th>DAY_OF_MONTH</th>\n",
       "      <th>CARRIER</th>\n",
       "      <th>FL_NUM</th>\n",
       "      <th>ORIGIN</th>\n",
       "      <th>DEST</th>\n",
       "      <th>ARR_DELAY_NEW</th>\n",
       "      <th>CANCELLED</th>\n",
       "    </tr>\n",
       "  </thead>\n",
       "  <tbody>\n",
       "    <tr>\n",
       "      <th>0</th>\n",
       "      <td>2018</td>\n",
       "      <td>1</td>\n",
       "      <td>2</td>\n",
       "      <td>WN</td>\n",
       "      <td>1325</td>\n",
       "      <td>SJU</td>\n",
       "      <td>MCO</td>\n",
       "      <td>0.0</td>\n",
       "      <td>0.0</td>\n",
       "    </tr>\n",
       "    <tr>\n",
       "      <th>1</th>\n",
       "      <td>2018</td>\n",
       "      <td>1</td>\n",
       "      <td>2</td>\n",
       "      <td>WN</td>\n",
       "      <td>5159</td>\n",
       "      <td>SJU</td>\n",
       "      <td>MCO</td>\n",
       "      <td>0.0</td>\n",
       "      <td>0.0</td>\n",
       "    </tr>\n",
       "    <tr>\n",
       "      <th>2</th>\n",
       "      <td>2018</td>\n",
       "      <td>1</td>\n",
       "      <td>2</td>\n",
       "      <td>WN</td>\n",
       "      <td>5890</td>\n",
       "      <td>SJU</td>\n",
       "      <td>MCO</td>\n",
       "      <td>9.0</td>\n",
       "      <td>0.0</td>\n",
       "    </tr>\n",
       "    <tr>\n",
       "      <th>3</th>\n",
       "      <td>2018</td>\n",
       "      <td>1</td>\n",
       "      <td>2</td>\n",
       "      <td>WN</td>\n",
       "      <td>6618</td>\n",
       "      <td>SJU</td>\n",
       "      <td>MCO</td>\n",
       "      <td>0.0</td>\n",
       "      <td>0.0</td>\n",
       "    </tr>\n",
       "    <tr>\n",
       "      <th>4</th>\n",
       "      <td>2018</td>\n",
       "      <td>1</td>\n",
       "      <td>2</td>\n",
       "      <td>WN</td>\n",
       "      <td>1701</td>\n",
       "      <td>SJU</td>\n",
       "      <td>MDW</td>\n",
       "      <td>8.0</td>\n",
       "      <td>0.0</td>\n",
       "    </tr>\n",
       "    <tr>\n",
       "      <th>5</th>\n",
       "      <td>2018</td>\n",
       "      <td>1</td>\n",
       "      <td>2</td>\n",
       "      <td>WN</td>\n",
       "      <td>844</td>\n",
       "      <td>SJU</td>\n",
       "      <td>TPA</td>\n",
       "      <td>23.0</td>\n",
       "      <td>0.0</td>\n",
       "    </tr>\n",
       "    <tr>\n",
       "      <th>6</th>\n",
       "      <td>2018</td>\n",
       "      <td>1</td>\n",
       "      <td>2</td>\n",
       "      <td>WN</td>\n",
       "      <td>4679</td>\n",
       "      <td>SJU</td>\n",
       "      <td>TPA</td>\n",
       "      <td>0.0</td>\n",
       "      <td>0.0</td>\n",
       "    </tr>\n",
       "    <tr>\n",
       "      <th>7</th>\n",
       "      <td>2018</td>\n",
       "      <td>1</td>\n",
       "      <td>2</td>\n",
       "      <td>WN</td>\n",
       "      <td>6294</td>\n",
       "      <td>SLC</td>\n",
       "      <td>BUR</td>\n",
       "      <td>20.0</td>\n",
       "      <td>0.0</td>\n",
       "    </tr>\n",
       "    <tr>\n",
       "      <th>8</th>\n",
       "      <td>2018</td>\n",
       "      <td>1</td>\n",
       "      <td>2</td>\n",
       "      <td>WN</td>\n",
       "      <td>5245</td>\n",
       "      <td>SLC</td>\n",
       "      <td>DAL</td>\n",
       "      <td>0.0</td>\n",
       "      <td>0.0</td>\n",
       "    </tr>\n",
       "    <tr>\n",
       "      <th>9</th>\n",
       "      <td>2018</td>\n",
       "      <td>1</td>\n",
       "      <td>2</td>\n",
       "      <td>WN</td>\n",
       "      <td>2278</td>\n",
       "      <td>SLC</td>\n",
       "      <td>DEN</td>\n",
       "      <td>0.0</td>\n",
       "      <td>0.0</td>\n",
       "    </tr>\n",
       "  </tbody>\n",
       "</table>\n",
       "</div>"
      ],
      "text/plain": [
       "   YEAR  MONTH  DAY_OF_MONTH CARRIER  FL_NUM ORIGIN DEST  ARR_DELAY_NEW  \\\n",
       "0  2018      1             2      WN    1325    SJU  MCO            0.0   \n",
       "1  2018      1             2      WN    5159    SJU  MCO            0.0   \n",
       "2  2018      1             2      WN    5890    SJU  MCO            9.0   \n",
       "3  2018      1             2      WN    6618    SJU  MCO            0.0   \n",
       "4  2018      1             2      WN    1701    SJU  MDW            8.0   \n",
       "5  2018      1             2      WN     844    SJU  TPA           23.0   \n",
       "6  2018      1             2      WN    4679    SJU  TPA            0.0   \n",
       "7  2018      1             2      WN    6294    SLC  BUR           20.0   \n",
       "8  2018      1             2      WN    5245    SLC  DAL            0.0   \n",
       "9  2018      1             2      WN    2278    SLC  DEN            0.0   \n",
       "\n",
       "   CANCELLED  \n",
       "0        0.0  \n",
       "1        0.0  \n",
       "2        0.0  \n",
       "3        0.0  \n",
       "4        0.0  \n",
       "5        0.0  \n",
       "6        0.0  \n",
       "7        0.0  \n",
       "8        0.0  \n",
       "9        0.0  "
      ]
     },
     "execution_count": 25,
     "metadata": {},
     "output_type": "execute_result"
    }
   ],
   "source": [
    "# Output flights_df\n",
    "flights_df.head(10)"
   ]
  },
  {
   "cell_type": "code",
   "execution_count": 26,
   "metadata": {},
   "outputs": [
    {
     "data": {
      "text/html": [
       "<div>\n",
       "<style scoped>\n",
       "    .dataframe tbody tr th:only-of-type {\n",
       "        vertical-align: middle;\n",
       "    }\n",
       "\n",
       "    .dataframe tbody tr th {\n",
       "        vertical-align: top;\n",
       "    }\n",
       "\n",
       "    .dataframe thead th {\n",
       "        text-align: right;\n",
       "    }\n",
       "</style>\n",
       "<table border=\"1\" class=\"dataframe\">\n",
       "  <thead>\n",
       "    <tr style=\"text-align: right;\">\n",
       "      <th></th>\n",
       "      <th>airline</th>\n",
       "      <th>airline_id</th>\n",
       "      <th>src_iata_icao</th>\n",
       "      <th>source_id</th>\n",
       "      <th>target_iata_icao</th>\n",
       "      <th>target_id</th>\n",
       "      <th>code_share</th>\n",
       "      <th>stops</th>\n",
       "      <th>equipment</th>\n",
       "    </tr>\n",
       "  </thead>\n",
       "  <tbody>\n",
       "    <tr>\n",
       "      <th>312</th>\n",
       "      <td>3H</td>\n",
       "      <td>\\N</td>\n",
       "      <td>AKV</td>\n",
       "      <td>5506</td>\n",
       "      <td>YIK</td>\n",
       "      <td>5504</td>\n",
       "      <td>NaN</td>\n",
       "      <td>0</td>\n",
       "      <td>DH8</td>\n",
       "    </tr>\n",
       "    <tr>\n",
       "      <th>313</th>\n",
       "      <td>3H</td>\n",
       "      <td>\\N</td>\n",
       "      <td>AKV</td>\n",
       "      <td>5506</td>\n",
       "      <td>YPX</td>\n",
       "      <td>6727</td>\n",
       "      <td>NaN</td>\n",
       "      <td>0</td>\n",
       "      <td>DH8</td>\n",
       "    </tr>\n",
       "    <tr>\n",
       "      <th>314</th>\n",
       "      <td>3H</td>\n",
       "      <td>\\N</td>\n",
       "      <td>XGR</td>\n",
       "      <td>5512</td>\n",
       "      <td>YVP</td>\n",
       "      <td>154</td>\n",
       "      <td>NaN</td>\n",
       "      <td>0</td>\n",
       "      <td>DHT BET</td>\n",
       "    </tr>\n",
       "    <tr>\n",
       "      <th>315</th>\n",
       "      <td>3H</td>\n",
       "      <td>\\N</td>\n",
       "      <td>YGL</td>\n",
       "      <td>62</td>\n",
       "      <td>YGW</td>\n",
       "      <td>5496</td>\n",
       "      <td>NaN</td>\n",
       "      <td>0</td>\n",
       "      <td>DHT</td>\n",
       "    </tr>\n",
       "    <tr>\n",
       "      <th>316</th>\n",
       "      <td>3H</td>\n",
       "      <td>\\N</td>\n",
       "      <td>YGL</td>\n",
       "      <td>62</td>\n",
       "      <td>YPX</td>\n",
       "      <td>6727</td>\n",
       "      <td>NaN</td>\n",
       "      <td>0</td>\n",
       "      <td>73M</td>\n",
       "    </tr>\n",
       "    <tr>\n",
       "      <th>317</th>\n",
       "      <td>3H</td>\n",
       "      <td>\\N</td>\n",
       "      <td>YGL</td>\n",
       "      <td>62</td>\n",
       "      <td>YUL</td>\n",
       "      <td>146</td>\n",
       "      <td>NaN</td>\n",
       "      <td>0</td>\n",
       "      <td>73M</td>\n",
       "    </tr>\n",
       "    <tr>\n",
       "      <th>318</th>\n",
       "      <td>3H</td>\n",
       "      <td>\\N</td>\n",
       "      <td>YGW</td>\n",
       "      <td>5496</td>\n",
       "      <td>YGL</td>\n",
       "      <td>62</td>\n",
       "      <td>NaN</td>\n",
       "      <td>0</td>\n",
       "      <td>DHT</td>\n",
       "    </tr>\n",
       "    <tr>\n",
       "      <th>319</th>\n",
       "      <td>3H</td>\n",
       "      <td>\\N</td>\n",
       "      <td>YGW</td>\n",
       "      <td>5496</td>\n",
       "      <td>YPH</td>\n",
       "      <td>5520</td>\n",
       "      <td>NaN</td>\n",
       "      <td>0</td>\n",
       "      <td>BET</td>\n",
       "    </tr>\n",
       "    <tr>\n",
       "      <th>320</th>\n",
       "      <td>3H</td>\n",
       "      <td>\\N</td>\n",
       "      <td>YGW</td>\n",
       "      <td>5496</td>\n",
       "      <td>YSK</td>\n",
       "      <td>5529</td>\n",
       "      <td>NaN</td>\n",
       "      <td>0</td>\n",
       "      <td>DH8</td>\n",
       "    </tr>\n",
       "    <tr>\n",
       "      <th>321</th>\n",
       "      <td>3H</td>\n",
       "      <td>\\N</td>\n",
       "      <td>YGW</td>\n",
       "      <td>5496</td>\n",
       "      <td>YUD</td>\n",
       "      <td>5515</td>\n",
       "      <td>NaN</td>\n",
       "      <td>0</td>\n",
       "      <td>DH8</td>\n",
       "    </tr>\n",
       "    <tr>\n",
       "      <th>322</th>\n",
       "      <td>3H</td>\n",
       "      <td>\\N</td>\n",
       "      <td>YGW</td>\n",
       "      <td>5496</td>\n",
       "      <td>YUL</td>\n",
       "      <td>146</td>\n",
       "      <td>NaN</td>\n",
       "      <td>0</td>\n",
       "      <td>DH8</td>\n",
       "    </tr>\n",
       "    <tr>\n",
       "      <th>323</th>\n",
       "      <td>3H</td>\n",
       "      <td>\\N</td>\n",
       "      <td>YGW</td>\n",
       "      <td>5496</td>\n",
       "      <td>YUY</td>\n",
       "      <td>149</td>\n",
       "      <td>NaN</td>\n",
       "      <td>0</td>\n",
       "      <td>DH8</td>\n",
       "    </tr>\n",
       "    <tr>\n",
       "      <th>324</th>\n",
       "      <td>3H</td>\n",
       "      <td>\\N</td>\n",
       "      <td>YIK</td>\n",
       "      <td>5504</td>\n",
       "      <td>AKV</td>\n",
       "      <td>5506</td>\n",
       "      <td>NaN</td>\n",
       "      <td>0</td>\n",
       "      <td>DH8</td>\n",
       "    </tr>\n",
       "    <tr>\n",
       "      <th>325</th>\n",
       "      <td>3H</td>\n",
       "      <td>\\N</td>\n",
       "      <td>YIK</td>\n",
       "      <td>5504</td>\n",
       "      <td>YZG</td>\n",
       "      <td>5535</td>\n",
       "      <td>NaN</td>\n",
       "      <td>0</td>\n",
       "      <td>DH8</td>\n",
       "    </tr>\n",
       "    <tr>\n",
       "      <th>326</th>\n",
       "      <td>3H</td>\n",
       "      <td>\\N</td>\n",
       "      <td>YKG</td>\n",
       "      <td>5481</td>\n",
       "      <td>YPJ</td>\n",
       "      <td>5508</td>\n",
       "      <td>NaN</td>\n",
       "      <td>0</td>\n",
       "      <td>DHT DH8</td>\n",
       "    </tr>\n",
       "    <tr>\n",
       "      <th>327</th>\n",
       "      <td>3H</td>\n",
       "      <td>\\N</td>\n",
       "      <td>YKG</td>\n",
       "      <td>5481</td>\n",
       "      <td>YQC</td>\n",
       "      <td>5499</td>\n",
       "      <td>NaN</td>\n",
       "      <td>0</td>\n",
       "      <td>DH8</td>\n",
       "    </tr>\n",
       "    <tr>\n",
       "      <th>328</th>\n",
       "      <td>3H</td>\n",
       "      <td>\\N</td>\n",
       "      <td>YKG</td>\n",
       "      <td>5481</td>\n",
       "      <td>YVP</td>\n",
       "      <td>154</td>\n",
       "      <td>NaN</td>\n",
       "      <td>0</td>\n",
       "      <td>DH8 DHT</td>\n",
       "    </tr>\n",
       "    <tr>\n",
       "      <th>329</th>\n",
       "      <td>3H</td>\n",
       "      <td>\\N</td>\n",
       "      <td>YKL</td>\n",
       "      <td>80</td>\n",
       "      <td>YQB</td>\n",
       "      <td>111</td>\n",
       "      <td>NaN</td>\n",
       "      <td>0</td>\n",
       "      <td>DH8</td>\n",
       "    </tr>\n",
       "    <tr>\n",
       "      <th>330</th>\n",
       "      <td>3H</td>\n",
       "      <td>\\N</td>\n",
       "      <td>YKL</td>\n",
       "      <td>80</td>\n",
       "      <td>YVP</td>\n",
       "      <td>154</td>\n",
       "      <td>NaN</td>\n",
       "      <td>0</td>\n",
       "      <td>DH8 BET</td>\n",
       "    </tr>\n",
       "    <tr>\n",
       "      <th>331</th>\n",
       "      <td>3H</td>\n",
       "      <td>\\N</td>\n",
       "      <td>YKL</td>\n",
       "      <td>80</td>\n",
       "      <td>YWK</td>\n",
       "      <td>161</td>\n",
       "      <td>NaN</td>\n",
       "      <td>0</td>\n",
       "      <td>BET</td>\n",
       "    </tr>\n",
       "    <tr>\n",
       "      <th>332</th>\n",
       "      <td>3H</td>\n",
       "      <td>\\N</td>\n",
       "      <td>YKL</td>\n",
       "      <td>80</td>\n",
       "      <td>YZV</td>\n",
       "      <td>202</td>\n",
       "      <td>NaN</td>\n",
       "      <td>0</td>\n",
       "      <td>BET DH8</td>\n",
       "    </tr>\n",
       "    <tr>\n",
       "      <th>333</th>\n",
       "      <td>3H</td>\n",
       "      <td>\\N</td>\n",
       "      <td>YPH</td>\n",
       "      <td>5520</td>\n",
       "      <td>YPX</td>\n",
       "      <td>6727</td>\n",
       "      <td>NaN</td>\n",
       "      <td>0</td>\n",
       "      <td>DH8 BET</td>\n",
       "    </tr>\n",
       "    <tr>\n",
       "      <th>334</th>\n",
       "      <td>3H</td>\n",
       "      <td>\\N</td>\n",
       "      <td>YPH</td>\n",
       "      <td>5520</td>\n",
       "      <td>YUD</td>\n",
       "      <td>5515</td>\n",
       "      <td>NaN</td>\n",
       "      <td>0</td>\n",
       "      <td>DH8</td>\n",
       "    </tr>\n",
       "    <tr>\n",
       "      <th>335</th>\n",
       "      <td>3H</td>\n",
       "      <td>\\N</td>\n",
       "      <td>YPH</td>\n",
       "      <td>5520</td>\n",
       "      <td>YVP</td>\n",
       "      <td>154</td>\n",
       "      <td>NaN</td>\n",
       "      <td>0</td>\n",
       "      <td>BET</td>\n",
       "    </tr>\n",
       "    <tr>\n",
       "      <th>336</th>\n",
       "      <td>3H</td>\n",
       "      <td>\\N</td>\n",
       "      <td>YPJ</td>\n",
       "      <td>5508</td>\n",
       "      <td>YKG</td>\n",
       "      <td>5481</td>\n",
       "      <td>NaN</td>\n",
       "      <td>0</td>\n",
       "      <td>DHT DH8</td>\n",
       "    </tr>\n",
       "    <tr>\n",
       "      <th>337</th>\n",
       "      <td>3H</td>\n",
       "      <td>\\N</td>\n",
       "      <td>YPJ</td>\n",
       "      <td>5508</td>\n",
       "      <td>YTQ</td>\n",
       "      <td>6728</td>\n",
       "      <td>NaN</td>\n",
       "      <td>0</td>\n",
       "      <td>DHT DH8</td>\n",
       "    </tr>\n",
       "    <tr>\n",
       "      <th>338</th>\n",
       "      <td>3H</td>\n",
       "      <td>\\N</td>\n",
       "      <td>YPJ</td>\n",
       "      <td>5508</td>\n",
       "      <td>YVP</td>\n",
       "      <td>154</td>\n",
       "      <td>NaN</td>\n",
       "      <td>0</td>\n",
       "      <td>DHT</td>\n",
       "    </tr>\n",
       "    <tr>\n",
       "      <th>339</th>\n",
       "      <td>3H</td>\n",
       "      <td>\\N</td>\n",
       "      <td>YPX</td>\n",
       "      <td>6727</td>\n",
       "      <td>AKV</td>\n",
       "      <td>5506</td>\n",
       "      <td>NaN</td>\n",
       "      <td>0</td>\n",
       "      <td>DH8</td>\n",
       "    </tr>\n",
       "    <tr>\n",
       "      <th>340</th>\n",
       "      <td>3H</td>\n",
       "      <td>\\N</td>\n",
       "      <td>YPX</td>\n",
       "      <td>6727</td>\n",
       "      <td>YGL</td>\n",
       "      <td>62</td>\n",
       "      <td>NaN</td>\n",
       "      <td>0</td>\n",
       "      <td>73M</td>\n",
       "    </tr>\n",
       "    <tr>\n",
       "      <th>341</th>\n",
       "      <td>3H</td>\n",
       "      <td>\\N</td>\n",
       "      <td>YPX</td>\n",
       "      <td>6727</td>\n",
       "      <td>YPH</td>\n",
       "      <td>5520</td>\n",
       "      <td>NaN</td>\n",
       "      <td>0</td>\n",
       "      <td>DH8</td>\n",
       "    </tr>\n",
       "    <tr>\n",
       "      <th>...</th>\n",
       "      <td>...</td>\n",
       "      <td>...</td>\n",
       "      <td>...</td>\n",
       "      <td>...</td>\n",
       "      <td>...</td>\n",
       "      <td>...</td>\n",
       "      <td>...</td>\n",
       "      <td>...</td>\n",
       "      <td>...</td>\n",
       "    </tr>\n",
       "    <tr>\n",
       "      <th>370</th>\n",
       "      <td>3H</td>\n",
       "      <td>\\N</td>\n",
       "      <td>YWK</td>\n",
       "      <td>161</td>\n",
       "      <td>YKL</td>\n",
       "      <td>80</td>\n",
       "      <td>NaN</td>\n",
       "      <td>0</td>\n",
       "      <td>BET</td>\n",
       "    </tr>\n",
       "    <tr>\n",
       "      <th>371</th>\n",
       "      <td>3H</td>\n",
       "      <td>\\N</td>\n",
       "      <td>YWK</td>\n",
       "      <td>161</td>\n",
       "      <td>YZV</td>\n",
       "      <td>202</td>\n",
       "      <td>NaN</td>\n",
       "      <td>0</td>\n",
       "      <td>BET</td>\n",
       "    </tr>\n",
       "    <tr>\n",
       "      <th>372</th>\n",
       "      <td>3H</td>\n",
       "      <td>\\N</td>\n",
       "      <td>YZG</td>\n",
       "      <td>5535</td>\n",
       "      <td>YIK</td>\n",
       "      <td>5504</td>\n",
       "      <td>NaN</td>\n",
       "      <td>0</td>\n",
       "      <td>DH8</td>\n",
       "    </tr>\n",
       "    <tr>\n",
       "      <th>373</th>\n",
       "      <td>3H</td>\n",
       "      <td>\\N</td>\n",
       "      <td>YZG</td>\n",
       "      <td>5535</td>\n",
       "      <td>YWB</td>\n",
       "      <td>7253</td>\n",
       "      <td>NaN</td>\n",
       "      <td>0</td>\n",
       "      <td>DH8</td>\n",
       "    </tr>\n",
       "    <tr>\n",
       "      <th>374</th>\n",
       "      <td>3H</td>\n",
       "      <td>\\N</td>\n",
       "      <td>YZV</td>\n",
       "      <td>202</td>\n",
       "      <td>YKL</td>\n",
       "      <td>80</td>\n",
       "      <td>NaN</td>\n",
       "      <td>0</td>\n",
       "      <td>BET DH8</td>\n",
       "    </tr>\n",
       "    <tr>\n",
       "      <th>375</th>\n",
       "      <td>3H</td>\n",
       "      <td>\\N</td>\n",
       "      <td>YZV</td>\n",
       "      <td>202</td>\n",
       "      <td>YWK</td>\n",
       "      <td>161</td>\n",
       "      <td>NaN</td>\n",
       "      <td>0</td>\n",
       "      <td>BET</td>\n",
       "    </tr>\n",
       "    <tr>\n",
       "      <th>376</th>\n",
       "      <td>3J</td>\n",
       "      <td>5521</td>\n",
       "      <td>JIB</td>\n",
       "      <td>4119</td>\n",
       "      <td>DXB</td>\n",
       "      <td>2188</td>\n",
       "      <td>NaN</td>\n",
       "      <td>0</td>\n",
       "      <td>737</td>\n",
       "    </tr>\n",
       "    <tr>\n",
       "      <th>377</th>\n",
       "      <td>3J</td>\n",
       "      <td>5521</td>\n",
       "      <td>JIB</td>\n",
       "      <td>4119</td>\n",
       "      <td>JED</td>\n",
       "      <td>2072</td>\n",
       "      <td>NaN</td>\n",
       "      <td>0</td>\n",
       "      <td>737</td>\n",
       "    </tr>\n",
       "    <tr>\n",
       "      <th>378</th>\n",
       "      <td>3J</td>\n",
       "      <td>5521</td>\n",
       "      <td>JIB</td>\n",
       "      <td>4119</td>\n",
       "      <td>MGQ</td>\n",
       "      <td>5687</td>\n",
       "      <td>NaN</td>\n",
       "      <td>0</td>\n",
       "      <td>737</td>\n",
       "    </tr>\n",
       "    <tr>\n",
       "      <th>379</th>\n",
       "      <td>3J</td>\n",
       "      <td>5521</td>\n",
       "      <td>MGQ</td>\n",
       "      <td>5687</td>\n",
       "      <td>NBO</td>\n",
       "      <td>4059</td>\n",
       "      <td>NaN</td>\n",
       "      <td>0</td>\n",
       "      <td>737</td>\n",
       "    </tr>\n",
       "    <tr>\n",
       "      <th>380</th>\n",
       "      <td>3J</td>\n",
       "      <td>5521</td>\n",
       "      <td>NBO</td>\n",
       "      <td>4059</td>\n",
       "      <td>MGQ</td>\n",
       "      <td>5687</td>\n",
       "      <td>NaN</td>\n",
       "      <td>0</td>\n",
       "      <td>737</td>\n",
       "    </tr>\n",
       "    <tr>\n",
       "      <th>381</th>\n",
       "      <td>3K</td>\n",
       "      <td>3021</td>\n",
       "      <td>BKK</td>\n",
       "      <td>3885</td>\n",
       "      <td>SIN</td>\n",
       "      <td>3316</td>\n",
       "      <td>NaN</td>\n",
       "      <td>0</td>\n",
       "      <td>320</td>\n",
       "    </tr>\n",
       "    <tr>\n",
       "      <th>382</th>\n",
       "      <td>3K</td>\n",
       "      <td>3021</td>\n",
       "      <td>DRW</td>\n",
       "      <td>3999</td>\n",
       "      <td>SIN</td>\n",
       "      <td>3316</td>\n",
       "      <td>NaN</td>\n",
       "      <td>0</td>\n",
       "      <td>320</td>\n",
       "    </tr>\n",
       "    <tr>\n",
       "      <th>383</th>\n",
       "      <td>3K</td>\n",
       "      <td>3021</td>\n",
       "      <td>HAK</td>\n",
       "      <td>4120</td>\n",
       "      <td>SIN</td>\n",
       "      <td>3316</td>\n",
       "      <td>NaN</td>\n",
       "      <td>0</td>\n",
       "      <td>320</td>\n",
       "    </tr>\n",
       "    <tr>\n",
       "      <th>384</th>\n",
       "      <td>3K</td>\n",
       "      <td>3021</td>\n",
       "      <td>HGH</td>\n",
       "      <td>3386</td>\n",
       "      <td>SIN</td>\n",
       "      <td>3316</td>\n",
       "      <td>NaN</td>\n",
       "      <td>0</td>\n",
       "      <td>320</td>\n",
       "    </tr>\n",
       "    <tr>\n",
       "      <th>385</th>\n",
       "      <td>3K</td>\n",
       "      <td>3021</td>\n",
       "      <td>HKG</td>\n",
       "      <td>3077</td>\n",
       "      <td>SIN</td>\n",
       "      <td>3316</td>\n",
       "      <td>NaN</td>\n",
       "      <td>0</td>\n",
       "      <td>320</td>\n",
       "    </tr>\n",
       "    <tr>\n",
       "      <th>386</th>\n",
       "      <td>3K</td>\n",
       "      <td>3021</td>\n",
       "      <td>HKT</td>\n",
       "      <td>3179</td>\n",
       "      <td>SIN</td>\n",
       "      <td>3316</td>\n",
       "      <td>NaN</td>\n",
       "      <td>0</td>\n",
       "      <td>320</td>\n",
       "    </tr>\n",
       "    <tr>\n",
       "      <th>387</th>\n",
       "      <td>3K</td>\n",
       "      <td>3021</td>\n",
       "      <td>KIX</td>\n",
       "      <td>3992</td>\n",
       "      <td>MNL</td>\n",
       "      <td>2397</td>\n",
       "      <td>NaN</td>\n",
       "      <td>0</td>\n",
       "      <td>320</td>\n",
       "    </tr>\n",
       "    <tr>\n",
       "      <th>388</th>\n",
       "      <td>3K</td>\n",
       "      <td>3021</td>\n",
       "      <td>KIX</td>\n",
       "      <td>3992</td>\n",
       "      <td>TPE</td>\n",
       "      <td>2276</td>\n",
       "      <td>NaN</td>\n",
       "      <td>0</td>\n",
       "      <td>320</td>\n",
       "    </tr>\n",
       "    <tr>\n",
       "      <th>389</th>\n",
       "      <td>3K</td>\n",
       "      <td>3021</td>\n",
       "      <td>KUL</td>\n",
       "      <td>3304</td>\n",
       "      <td>SIN</td>\n",
       "      <td>3316</td>\n",
       "      <td>NaN</td>\n",
       "      <td>0</td>\n",
       "      <td>320</td>\n",
       "    </tr>\n",
       "    <tr>\n",
       "      <th>390</th>\n",
       "      <td>3K</td>\n",
       "      <td>3021</td>\n",
       "      <td>MNL</td>\n",
       "      <td>2397</td>\n",
       "      <td>KIX</td>\n",
       "      <td>3992</td>\n",
       "      <td>NaN</td>\n",
       "      <td>0</td>\n",
       "      <td>320</td>\n",
       "    </tr>\n",
       "    <tr>\n",
       "      <th>391</th>\n",
       "      <td>3K</td>\n",
       "      <td>3021</td>\n",
       "      <td>MNL</td>\n",
       "      <td>2397</td>\n",
       "      <td>SIN</td>\n",
       "      <td>3316</td>\n",
       "      <td>NaN</td>\n",
       "      <td>0</td>\n",
       "      <td>320</td>\n",
       "    </tr>\n",
       "    <tr>\n",
       "      <th>392</th>\n",
       "      <td>3K</td>\n",
       "      <td>3021</td>\n",
       "      <td>PEN</td>\n",
       "      <td>3308</td>\n",
       "      <td>SIN</td>\n",
       "      <td>3316</td>\n",
       "      <td>NaN</td>\n",
       "      <td>0</td>\n",
       "      <td>320</td>\n",
       "    </tr>\n",
       "    <tr>\n",
       "      <th>393</th>\n",
       "      <td>3K</td>\n",
       "      <td>3021</td>\n",
       "      <td>PER</td>\n",
       "      <td>3351</td>\n",
       "      <td>SIN</td>\n",
       "      <td>3316</td>\n",
       "      <td>NaN</td>\n",
       "      <td>0</td>\n",
       "      <td>320</td>\n",
       "    </tr>\n",
       "    <tr>\n",
       "      <th>394</th>\n",
       "      <td>3K</td>\n",
       "      <td>3021</td>\n",
       "      <td>PNH</td>\n",
       "      <td>3034</td>\n",
       "      <td>SIN</td>\n",
       "      <td>3316</td>\n",
       "      <td>NaN</td>\n",
       "      <td>0</td>\n",
       "      <td>320</td>\n",
       "    </tr>\n",
       "    <tr>\n",
       "      <th>395</th>\n",
       "      <td>3K</td>\n",
       "      <td>3021</td>\n",
       "      <td>REP</td>\n",
       "      <td>3035</td>\n",
       "      <td>SIN</td>\n",
       "      <td>3316</td>\n",
       "      <td>NaN</td>\n",
       "      <td>0</td>\n",
       "      <td>320</td>\n",
       "    </tr>\n",
       "    <tr>\n",
       "      <th>396</th>\n",
       "      <td>3K</td>\n",
       "      <td>3021</td>\n",
       "      <td>RGN</td>\n",
       "      <td>3239</td>\n",
       "      <td>SIN</td>\n",
       "      <td>3316</td>\n",
       "      <td>NaN</td>\n",
       "      <td>0</td>\n",
       "      <td>320</td>\n",
       "    </tr>\n",
       "    <tr>\n",
       "      <th>397</th>\n",
       "      <td>3K</td>\n",
       "      <td>3021</td>\n",
       "      <td>SGN</td>\n",
       "      <td>3205</td>\n",
       "      <td>SIN</td>\n",
       "      <td>3316</td>\n",
       "      <td>NaN</td>\n",
       "      <td>0</td>\n",
       "      <td>320</td>\n",
       "    </tr>\n",
       "    <tr>\n",
       "      <th>398</th>\n",
       "      <td>3K</td>\n",
       "      <td>3021</td>\n",
       "      <td>SIN</td>\n",
       "      <td>3316</td>\n",
       "      <td>BKK</td>\n",
       "      <td>3885</td>\n",
       "      <td>NaN</td>\n",
       "      <td>0</td>\n",
       "      <td>320</td>\n",
       "    </tr>\n",
       "    <tr>\n",
       "      <th>399</th>\n",
       "      <td>3K</td>\n",
       "      <td>3021</td>\n",
       "      <td>SIN</td>\n",
       "      <td>3316</td>\n",
       "      <td>DRW</td>\n",
       "      <td>3999</td>\n",
       "      <td>NaN</td>\n",
       "      <td>0</td>\n",
       "      <td>320</td>\n",
       "    </tr>\n",
       "  </tbody>\n",
       "</table>\n",
       "<p>88 rows × 9 columns</p>\n",
       "</div>"
      ],
      "text/plain": [
       "    airline airline_id src_iata_icao source_id target_iata_icao target_id  \\\n",
       "312      3H         \\N           AKV      5506              YIK      5504   \n",
       "313      3H         \\N           AKV      5506              YPX      6727   \n",
       "314      3H         \\N           XGR      5512              YVP       154   \n",
       "315      3H         \\N           YGL        62              YGW      5496   \n",
       "316      3H         \\N           YGL        62              YPX      6727   \n",
       "317      3H         \\N           YGL        62              YUL       146   \n",
       "318      3H         \\N           YGW      5496              YGL        62   \n",
       "319      3H         \\N           YGW      5496              YPH      5520   \n",
       "320      3H         \\N           YGW      5496              YSK      5529   \n",
       "321      3H         \\N           YGW      5496              YUD      5515   \n",
       "322      3H         \\N           YGW      5496              YUL       146   \n",
       "323      3H         \\N           YGW      5496              YUY       149   \n",
       "324      3H         \\N           YIK      5504              AKV      5506   \n",
       "325      3H         \\N           YIK      5504              YZG      5535   \n",
       "326      3H         \\N           YKG      5481              YPJ      5508   \n",
       "327      3H         \\N           YKG      5481              YQC      5499   \n",
       "328      3H         \\N           YKG      5481              YVP       154   \n",
       "329      3H         \\N           YKL        80              YQB       111   \n",
       "330      3H         \\N           YKL        80              YVP       154   \n",
       "331      3H         \\N           YKL        80              YWK       161   \n",
       "332      3H         \\N           YKL        80              YZV       202   \n",
       "333      3H         \\N           YPH      5520              YPX      6727   \n",
       "334      3H         \\N           YPH      5520              YUD      5515   \n",
       "335      3H         \\N           YPH      5520              YVP       154   \n",
       "336      3H         \\N           YPJ      5508              YKG      5481   \n",
       "337      3H         \\N           YPJ      5508              YTQ      6728   \n",
       "338      3H         \\N           YPJ      5508              YVP       154   \n",
       "339      3H         \\N           YPX      6727              AKV      5506   \n",
       "340      3H         \\N           YPX      6727              YGL        62   \n",
       "341      3H         \\N           YPX      6727              YPH      5520   \n",
       "..      ...        ...           ...       ...              ...       ...   \n",
       "370      3H         \\N           YWK       161              YKL        80   \n",
       "371      3H         \\N           YWK       161              YZV       202   \n",
       "372      3H         \\N           YZG      5535              YIK      5504   \n",
       "373      3H         \\N           YZG      5535              YWB      7253   \n",
       "374      3H         \\N           YZV       202              YKL        80   \n",
       "375      3H         \\N           YZV       202              YWK       161   \n",
       "376      3J       5521           JIB      4119              DXB      2188   \n",
       "377      3J       5521           JIB      4119              JED      2072   \n",
       "378      3J       5521           JIB      4119              MGQ      5687   \n",
       "379      3J       5521           MGQ      5687              NBO      4059   \n",
       "380      3J       5521           NBO      4059              MGQ      5687   \n",
       "381      3K       3021           BKK      3885              SIN      3316   \n",
       "382      3K       3021           DRW      3999              SIN      3316   \n",
       "383      3K       3021           HAK      4120              SIN      3316   \n",
       "384      3K       3021           HGH      3386              SIN      3316   \n",
       "385      3K       3021           HKG      3077              SIN      3316   \n",
       "386      3K       3021           HKT      3179              SIN      3316   \n",
       "387      3K       3021           KIX      3992              MNL      2397   \n",
       "388      3K       3021           KIX      3992              TPE      2276   \n",
       "389      3K       3021           KUL      3304              SIN      3316   \n",
       "390      3K       3021           MNL      2397              KIX      3992   \n",
       "391      3K       3021           MNL      2397              SIN      3316   \n",
       "392      3K       3021           PEN      3308              SIN      3316   \n",
       "393      3K       3021           PER      3351              SIN      3316   \n",
       "394      3K       3021           PNH      3034              SIN      3316   \n",
       "395      3K       3021           REP      3035              SIN      3316   \n",
       "396      3K       3021           RGN      3239              SIN      3316   \n",
       "397      3K       3021           SGN      3205              SIN      3316   \n",
       "398      3K       3021           SIN      3316              BKK      3885   \n",
       "399      3K       3021           SIN      3316              DRW      3999   \n",
       "\n",
       "    code_share  stops equipment  \n",
       "312        NaN      0       DH8  \n",
       "313        NaN      0       DH8  \n",
       "314        NaN      0   DHT BET  \n",
       "315        NaN      0       DHT  \n",
       "316        NaN      0       73M  \n",
       "317        NaN      0       73M  \n",
       "318        NaN      0       DHT  \n",
       "319        NaN      0       BET  \n",
       "320        NaN      0       DH8  \n",
       "321        NaN      0       DH8  \n",
       "322        NaN      0       DH8  \n",
       "323        NaN      0       DH8  \n",
       "324        NaN      0       DH8  \n",
       "325        NaN      0       DH8  \n",
       "326        NaN      0   DHT DH8  \n",
       "327        NaN      0       DH8  \n",
       "328        NaN      0   DH8 DHT  \n",
       "329        NaN      0       DH8  \n",
       "330        NaN      0   DH8 BET  \n",
       "331        NaN      0       BET  \n",
       "332        NaN      0   BET DH8  \n",
       "333        NaN      0   DH8 BET  \n",
       "334        NaN      0       DH8  \n",
       "335        NaN      0       BET  \n",
       "336        NaN      0   DHT DH8  \n",
       "337        NaN      0   DHT DH8  \n",
       "338        NaN      0       DHT  \n",
       "339        NaN      0       DH8  \n",
       "340        NaN      0       73M  \n",
       "341        NaN      0       DH8  \n",
       "..         ...    ...       ...  \n",
       "370        NaN      0       BET  \n",
       "371        NaN      0       BET  \n",
       "372        NaN      0       DH8  \n",
       "373        NaN      0       DH8  \n",
       "374        NaN      0   BET DH8  \n",
       "375        NaN      0       BET  \n",
       "376        NaN      0       737  \n",
       "377        NaN      0       737  \n",
       "378        NaN      0       737  \n",
       "379        NaN      0       737  \n",
       "380        NaN      0       737  \n",
       "381        NaN      0       320  \n",
       "382        NaN      0       320  \n",
       "383        NaN      0       320  \n",
       "384        NaN      0       320  \n",
       "385        NaN      0       320  \n",
       "386        NaN      0       320  \n",
       "387        NaN      0       320  \n",
       "388        NaN      0       320  \n",
       "389        NaN      0       320  \n",
       "390        NaN      0       320  \n",
       "391        NaN      0       320  \n",
       "392        NaN      0       320  \n",
       "393        NaN      0       320  \n",
       "394        NaN      0       320  \n",
       "395        NaN      0       320  \n",
       "396        NaN      0       320  \n",
       "397        NaN      0       320  \n",
       "398        NaN      0       320  \n",
       "399        NaN      0       320  \n",
       "\n",
       "[88 rows x 9 columns]"
      ]
     },
     "execution_count": 26,
     "metadata": {},
     "output_type": "execute_result"
    }
   ],
   "source": [
    "routes_df[312:400][:]"
   ]
  },
  {
   "cell_type": "markdown",
   "metadata": {
    "deletable": false,
    "editable": false,
    "nbgrader": {
     "checksum": "1bc105d044445c5f8506565649f96c2e",
     "grade": false,
     "grade_id": "step1-2",
     "locked": true,
     "schema_version": 1,
     "solution": false
    }
   },
   "source": [
    "## 1.2 Importing Text Data\n",
    "\n",
    "We are going to scrape data from the aircraft_incidents.htm webpage using the *beautifulsoup4* package. More details can be found in the documentation: https://www.crummy.com/software/BeautifulSoup/bs4/doc/.\n",
    "\n",
    "Run the code snippet that stores the web content in soup. Once the content is extracted, we need to get rid of the HTML tags and select the data we are going to be looking at. The data we need are the year and the description of the incidents under that year. It can be seen that the HTML tag (almost always) for the year is `<h3>` and for the incidents it is `<li>`. "
   ]
  },
  {
   "cell_type": "code",
   "execution_count": 27,
   "metadata": {
    "deletable": false,
    "editable": false,
    "nbgrader": {
     "checksum": "7f49971b74ea804404280362bd0fb367",
     "grade": false,
     "grade_id": "bs4",
     "locked": true,
     "schema_version": 1,
     "solution": false
    }
   },
   "outputs": [],
   "source": [
    "# bs4 is one of the packages frequently used for HTML parsing!\n",
    "# Just run this cell, but reading the bs4 docs will help later...\n",
    "\n",
    "from bs4 import BeautifulSoup\n",
    "input_html = \"aircraft_incidents.htm\"\n",
    "\n",
    "# Open file I/O\n",
    "with open(input_html, \"r\") as ifile:\n",
    "    # soup is the bs4 object \n",
    "    soup = BeautifulSoup(ifile, 'html.parser')"
   ]
  },
  {
   "cell_type": "markdown",
   "metadata": {
    "deletable": false,
    "editable": false,
    "nbgrader": {
     "checksum": "f882bb5735977ed872198b5a13a8ad44",
     "grade": false,
     "grade_id": "bs4_findall",
     "locked": true,
     "schema_version": 1,
     "solution": false
    }
   },
   "source": [
    "Using beautifulsoup4’s `find_all`(list of tags) function, only select the content under those HTML tags. Store the data in a list of strings called `selected_data`, where each year or incident description is a separate string in the list. "
   ]
  },
  {
   "cell_type": "code",
   "execution_count": 28,
   "metadata": {
    "deletable": false,
    "nbgrader": {
     "checksum": "b684c1663ba6f81aaf73f03fdcf51fe5",
     "grade": false,
     "grade_id": "selected_data",
     "locked": false,
     "schema_version": 1,
     "solution": true
    }
   },
   "outputs": [],
   "source": [
    "# TODO: Select Year and Incident description. It can be seen that they are usually\n",
    "# <h3> or <li> tags.\n",
    "\n",
    "# Assign the results to variable selected_data. \n",
    "selected_data = [] # Fill this in with your code after!\n",
    "\n",
    "for item in soup.find_all(['h3', 'li']):\n",
    "    selected_data.append(item.get_text())"
   ]
  },
  {
   "cell_type": "code",
   "execution_count": 29,
   "metadata": {
    "deletable": false,
    "editable": false,
    "nbgrader": {
     "checksum": "a3ee24655f43988da69fb9c7ed3b1c33",
     "grade": true,
     "grade_id": "test_selected1",
     "locked": true,
     "points": 1,
     "schema_version": 1,
     "solution": false
    }
   },
   "outputs": [
    {
     "name": "stdout",
     "output_type": "stream",
     "text": [
      "[CIS 545 Test Cases] (1 pt)\n"
     ]
    }
   ],
   "source": [
    "# [CIS 545 Test Cases] (1 pt)\n",
    "# Basic checks on selected_data\n",
    "\n",
    "if (not type(selected_data) is list):\n",
    "    raise ValueError('''For efficiency, please \n",
    "    store selected_data as list''')\n",
    "    \n",
    "if (len(selected_data) < 1570 or len(selected_data) > 1585):\n",
    "    raise ValueError(\"Don't have the expected number of entries\")\n",
    "    \n",
    "\n",
    "print('[CIS 545 Test Cases] (1 pt)')"
   ]
  },
  {
   "cell_type": "code",
   "execution_count": 30,
   "metadata": {
    "deletable": false,
    "editable": false,
    "nbgrader": {
     "checksum": "0e30165a68caedbf57a5a98bac08bc37",
     "grade": true,
     "grade_id": "test_selected2",
     "locked": true,
     "points": 2,
     "schema_version": 1,
     "solution": false
    }
   },
   "outputs": [
    {
     "name": "stdout",
     "output_type": "stream",
     "text": [
      "[CIS 545 Test Cases] (2 pts)\n"
     ]
    }
   ],
   "source": [
    "# [CIS 545 Test Cases] (2 pts)\n",
    "# Checking selected_data more rigorously\n",
    "\n",
    "\n",
    "print('[CIS 545 Test Cases] (2 pts)')"
   ]
  },
  {
   "cell_type": "code",
   "execution_count": 31,
   "metadata": {
    "deletable": false,
    "editable": false,
    "nbgrader": {
     "checksum": "51b5208b342fe481462be1770eb68a40",
     "grade": true,
     "grade_id": "test_selected3",
     "locked": true,
     "points": 2,
     "schema_version": 1,
     "solution": false
    }
   },
   "outputs": [
    {
     "name": "stdout",
     "output_type": "stream",
     "text": [
      "[CIS 545 Test Cases] (2 pts)\n"
     ]
    }
   ],
   "source": [
    "# [CIS 545 Test Cases] (2 pts)\n",
    "# Checking selected_data more rigorously\n",
    "\n",
    "\n",
    "print('[CIS 545 Test Cases] (2 pts)')"
   ]
  },
  {
   "cell_type": "markdown",
   "metadata": {
    "deletable": false,
    "editable": false,
    "nbgrader": {
     "checksum": "bd596ec29cee44acd4b6d7966cc43f74",
     "grade": false,
     "grade_id": "html_tags",
     "locked": true,
     "schema_version": 1,
     "solution": false
    }
   },
   "source": [
    "Finally, check if all the HTML tags have been removed. Output the message 'No Tag Found!’, if successful."
   ]
  },
  {
   "cell_type": "code",
   "execution_count": 32,
   "metadata": {
    "deletable": false,
    "nbgrader": {
     "checksum": "2164eb0742d6c27527ea2b19ceb1ee1e",
     "grade": false,
     "grade_id": "remove_html",
     "locked": false,
     "schema_version": 1,
     "solution": true
    }
   },
   "outputs": [
    {
     "name": "stdout",
     "output_type": "stream",
     "text": [
      "No Tag Found!\n"
     ]
    }
   ],
   "source": [
    "# TODO: Check if all tags have been removed\n",
    "# Output 'No Tag Found!' if no tags\n",
    "\n",
    "# YOUR CODE HERE\n",
    "if ~ ( '<' in selected_data and '>' in selected_data):\n",
    "    print ('No Tag Found!')"
   ]
  },
  {
   "cell_type": "code",
   "execution_count": 33,
   "metadata": {
    "deletable": false,
    "editable": false,
    "nbgrader": {
     "checksum": "6f3f751a65be47a95a2fcd3d73e08abf",
     "grade": true,
     "grade_id": "test_html1",
     "locked": true,
     "points": 2,
     "schema_version": 1,
     "solution": false
    }
   },
   "outputs": [
    {
     "name": "stdout",
     "output_type": "stream",
     "text": [
      "[CIS 545 Test Cases] (2 pts)\n"
     ]
    }
   ],
   "source": [
    "# [CIS 545 Test Cases] (2 pts)\n",
    "# Checking HTML cleaning\n",
    "\n",
    "\n",
    "print('[CIS 545 Test Cases] (2 pts)')"
   ]
  },
  {
   "cell_type": "code",
   "execution_count": 34,
   "metadata": {
    "deletable": false,
    "editable": false,
    "nbgrader": {
     "checksum": "a540839a63a74cad3fadf1b4818d1a49",
     "grade": false,
     "grade_id": "view_selected",
     "locked": true,
     "schema_version": 1,
     "solution": false
    }
   },
   "outputs": [
    {
     "data": {
      "text/plain": [
       "['1919[edit]',\n",
       " 'July 21 – The Goodyear dirigible Wingfoot Air Express catches fire and crashes into the Illinois Trust and Savings Building in Chicago, Illinois, while carrying passengers to a local amusement park, killing thirteen people: three out of the five on board and ten others on the ground, with 27 others on the ground being injured.',\n",
       " 'August 2 – A Caproni Ca.48 crashes at Verona, Italy, during a flight from Venice to Taliedo, Milan, killing all on board (14, 15, or 17 people, according to different sources).',\n",
       " '1920[edit]',\n",
       " 'December 14 – A Handley Page Transport Handley Page O/400 hits a tree and crashes at Golders Green, London, after failing to gain height following takeoff, killing four out of eight on board.',\n",
       " '1922[edit]',\n",
       " 'April 7 – In the first mid-air collision of airliners, a de Havilland DH.18A, G-EAWO, operated by Daimler Hire Ltd., collides with a Farman F.60 Goliath, F-GEAD, operated by Compagnie des Grands Express Aériens (CGEA), over the Thieulloy-St. Antoine road near Picardie, France, killing all seven people on both aircraft.',\n",
       " '1923[edit]',\n",
       " 'May 14 – An Air Union Farman F.60 Goliath crashes near Monsures, Somme, France, due to the structural failure of a wing, killing all six on board.',\n",
       " 'August 27 – An Air Union Farman F.60 Goliath crashes near East Malling, Kent, England, due to engine failure, and confusion among the passengers, killing one of 13 on board.',\n",
       " 'September 14 – A Daimler Airway de Havilland DH.34 crashes at Ivinghoe, Buckinghamshire, England, after stalling while attempting an emergency landing, killing all five on board.',\n",
       " '1924[edit]',\n",
       " 'December 24 – An Imperial Airways de Havilland DH.34 crashes near Purley, Surrey, England, due to a stall during an attempted emergency landing in response to an unknown mechanical defect, killing all eight on board.',\n",
       " '1926[edit]',\n",
       " 'August 18 – An Air Union Blériot 155 crashes while attempting an emergency landing at College Farm, Hurst, Aldington, England, due to engine failure, killing three of 15 on board; the pilot initially survives, but dies a day later.']"
      ]
     },
     "execution_count": 34,
     "metadata": {},
     "output_type": "execute_result"
    }
   ],
   "source": [
    "# View a slice of selected_data\n",
    "selected_data[:15]"
   ]
  },
  {
   "cell_type": "markdown",
   "metadata": {
    "deletable": false,
    "editable": false,
    "nbgrader": {
     "checksum": "b189c547bac334de57bd7b8400351b72",
     "grade": false,
     "grade_id": "overview_incidents",
     "locked": true,
     "schema_version": 1,
     "solution": false
    }
   },
   "source": [
    "Now we'd like you to save the results to a file called `incidents_raw.txt`.  You can use the file commands: `open`, `write`, and `close`.  Be sure to write a newline (`\\n`) after each line, so that later you can read the lines back."
   ]
  },
  {
   "cell_type": "code",
   "execution_count": 35,
   "metadata": {
    "deletable": false,
    "nbgrader": {
     "checksum": "c335ea7ba560d0b4363eac11be9c5edf",
     "grade": false,
     "grade_id": "incidents_raw",
     "locked": false,
     "schema_version": 1,
     "solution": true
    }
   },
   "outputs": [],
   "source": [
    "# TODO: Write selected_data to incidents_raw.txt\n",
    "\n",
    "file = open(\"incidents_raw.txt\",'w')\n",
    "for line in selected_data:\n",
    "    file.write(line +'\\n')\n",
    "file.close()"
   ]
  },
  {
   "cell_type": "code",
   "execution_count": 36,
   "metadata": {
    "deletable": false,
    "editable": false,
    "nbgrader": {
     "checksum": "6f7186860ce12010bffca90c81f214ef",
     "grade": true,
     "grade_id": "test_incidents",
     "locked": true,
     "points": 5,
     "schema_version": 1,
     "solution": false
    }
   },
   "outputs": [
    {
     "name": "stdout",
     "output_type": "stream",
     "text": [
      "[CIS 545 Test Cases] (5 pts)\n"
     ]
    }
   ],
   "source": [
    "# [CIS 545 Test Cases] (5 pts)\n",
    "# Checking incidents_raw processing - this is worth a lot!\n",
    "\n",
    "\n",
    "print('[CIS 545 Test Cases] (5 pts)')"
   ]
  },
  {
   "cell_type": "markdown",
   "metadata": {
    "deletable": false,
    "editable": false,
    "nbgrader": {
     "checksum": "52046ec767cda22ad3ea2f92601acddc",
     "grade": false,
     "grade_id": "step2",
     "locked": true,
     "schema_version": 1,
     "solution": false
    }
   },
   "source": [
    "## Step 2: Simple Data Cleaning\n",
    "\n",
    "Now we need to do some further cleaning to both the CSV and text data.\n",
    "\n",
    "(use Insert|Insert Cell Above or Insert Cell Below as needed to add further cells)"
   ]
  },
  {
   "cell_type": "markdown",
   "metadata": {
    "deletable": false,
    "editable": false,
    "nbgrader": {
     "checksum": "a95b66c5f1ee6f2749dde46b8a2b7dba",
     "grade": false,
     "grade_id": "step2-1",
     "locked": true,
     "schema_version": 1,
     "solution": false
    }
   },
   "source": [
    "## 2.1 Cleaning Tabular Data\n",
    "We are going to clean the `airlines_df`, `airports_df`, and `routes_df` DataFrames.  First, run a \"helper\" function we've defined for you."
   ]
  },
  {
   "cell_type": "code",
   "execution_count": 37,
   "metadata": {
    "deletable": false,
    "editable": false,
    "nbgrader": {
     "checksum": "8ed98ace6273fd666ebcd8e4efe8f6dd",
     "grade": false,
     "grade_id": "run_helper",
     "locked": true,
     "schema_version": 1,
     "solution": false
    }
   },
   "outputs": [],
   "source": [
    "# Replace NaNs with blanks if the column is a string\n",
    "# Everything should be of a consistent type\n",
    "def fillna_col(series):\n",
    "    if series.dtype is pd.np.dtype(object):\n",
    "        return series.fillna('')\n",
    "    else:\n",
    "        return series"
   ]
  },
  {
   "cell_type": "markdown",
   "metadata": {
    "deletable": false,
    "editable": false,
    "nbgrader": {
     "checksum": "9e9264c6c278958d1db149df2dcad36b",
     "grade": false,
     "grade_id": "overview_nullify",
     "locked": true,
     "schema_version": 1,
     "solution": false
    }
   },
   "source": [
    "Additionally, define a second function called `nullify` that takes a single parameter `x`. Given the parameter value `\\N` it returns `NaN`, otherwise it returns the value of the parameter."
   ]
  },
  {
   "cell_type": "code",
   "execution_count": 38,
   "metadata": {
    "deletable": false,
    "nbgrader": {
     "checksum": "3593d266e8e9e4622cb5e4915caa582b",
     "grade": false,
     "grade_id": "nullify",
     "locked": false,
     "schema_version": 1,
     "solution": true
    }
   },
   "outputs": [],
   "source": [
    "# TODO: Define nullify here\n",
    "\n",
    "def nullify(x):\n",
    "    if x == r'\\N':\n",
    "        return float('nan')\n",
    "    else:\n",
    "        return x"
   ]
  },
  {
   "cell_type": "code",
   "execution_count": 39,
   "metadata": {
    "deletable": false,
    "editable": false,
    "nbgrader": {
     "checksum": "0620848e16c060947480f70e31b736cd",
     "grade": true,
     "grade_id": "test_nullify1",
     "locked": true,
     "points": 2,
     "schema_version": 1,
     "solution": false
    }
   },
   "outputs": [
    {
     "name": "stdout",
     "output_type": "stream",
     "text": [
      "[CIS 545 Test Cases] (2 pts)\n"
     ]
    }
   ],
   "source": [
    "# [CIS 545 Test Cases] (2 pts)\n",
    "# Checking nullify\n",
    "\n",
    "# Test that nullify on 'abc' just returns the value\n",
    "if (nullify('abc') != 'abc'):\n",
    "    raise ValueError(\"Nullify doesn't seem to work!\\n\")\n",
    "\n",
    "# Ditto for an integer\n",
    "if (nullify(3) != 3):\n",
    "    raise ValueError(\"Nullify doesn't seem to work!\\n\")\n",
    "    \n",
    "print('[CIS 545 Test Cases] (2 pts)')"
   ]
  },
  {
   "cell_type": "code",
   "execution_count": 40,
   "metadata": {
    "deletable": false,
    "editable": false,
    "nbgrader": {
     "checksum": "a0d8e01fb53d6127670ae814933be98e",
     "grade": true,
     "grade_id": "test_nullify2",
     "locked": true,
     "points": 3,
     "schema_version": 1,
     "solution": false
    }
   },
   "outputs": [
    {
     "name": "stdout",
     "output_type": "stream",
     "text": [
      "[CIS 545 Test Cases] (3 pts)\n"
     ]
    }
   ],
   "source": [
    "# [CIS 545 Test Cases] (3 pts)\n",
    "# Checking nullify\n",
    "\n",
    "\n",
    "print('[CIS 545 Test Cases] (3 pts)')"
   ]
  },
  {
   "cell_type": "markdown",
   "metadata": {
    "deletable": false,
    "editable": false,
    "nbgrader": {
     "checksum": "22d67c90409253d575610511b39951c1",
     "grade": false,
     "grade_id": "step2-1-1",
     "locked": true,
     "schema_version": 1,
     "solution": false
    }
   },
   "source": [
    "### 2.1.1 Regularizing and removing nulls\n",
    "\n",
    "Next, we’ll need to use two functions to apply `nullify` and `fillna_col` to our DataFrames.  \n",
    "\n",
    "The DataFrame applymap function can be used to apply a function to every cell of a DataFrame.  We can use this to apply nullify to all of the elements in each of our DataFrames (airports, airlines, etc.) and get rid of all of the “\\N”s.\n",
    "\n",
    "The DataFrame `apply` function can be used to apply a function to every column of a DataFrame.  Let’s use that to call `fillna_col `on the DataFrames -- replacing the NaNs with blank strings if the column is otherwise an object.\n",
    "\n",
    "Also, let’s get rid of rows in `routes_df` that have null airline, source, or destination IDs.  Recall that `dropna` can be used here.\n",
    "\n",
    "You’ll want to update your DataFrames using all of the above functions.  Think carefully about the order in which to apply these."
   ]
  },
  {
   "cell_type": "code",
   "execution_count": 41,
   "metadata": {},
   "outputs": [],
   "source": [
    "airlines_df = airlines_df.applymap(nullify)\n",
    "airports_df = airports_df.applymap(nullify)\n",
    "routes_df = routes_df.applymap(nullify)\n",
    "airlines_df = airlines_df.apply(fillna_col)\n",
    "airports_df = airports_df.apply(fillna_col)\n",
    "routes_df = routes_df.dropna(subset = ['airline_id', 'source_id', 'target_id'])\n",
    "routes_df = routes_df.apply(fillna_col)"
   ]
  },
  {
   "cell_type": "markdown",
   "metadata": {
    "deletable": false,
    "nbgrader": {
     "checksum": "a4d1c047594c0dcac6eae0ae526d8a50",
     "grade": false,
     "grade_id": "regularize",
     "locked": false,
     "schema_version": 1,
     "solution": true
    }
   },
   "source": []
  },
  {
   "cell_type": "code",
   "execution_count": 42,
   "metadata": {
    "deletable": false,
    "editable": false,
    "nbgrader": {
     "checksum": "8bb1f3fc6f610c8ec8c10072f0d99d6f",
     "grade": true,
     "grade_id": "test_nullify3",
     "locked": true,
     "points": 1,
     "schema_version": 1,
     "solution": false
    }
   },
   "outputs": [
    {
     "name": "stdout",
     "output_type": "stream",
     "text": [
      "[CIS 545 Test Cases] (1 pt)\n"
     ]
    }
   ],
   "source": [
    "# [CIS 545 Test Cases] (1 pt)\n",
    "# Basic checks of your dataframes\n",
    "\n",
    "if airports_df.isnull().sum().sum() != 0:\n",
    "    raise ValueError('airports_df still has NaNs')\n",
    "    \n",
    "if airlines_df.isnull().sum().sum() != 0:\n",
    "    raise ValueError('airlines_df still has Nans')\n",
    "    \n",
    "if routes_df.isnull().sum().sum() != 0:\n",
    "    raise ValueError('routes_df still has Nans')\n",
    "    \n",
    "print('[CIS 545 Test Cases] (1 pt)')"
   ]
  },
  {
   "cell_type": "code",
   "execution_count": 43,
   "metadata": {
    "deletable": false,
    "editable": false,
    "nbgrader": {
     "checksum": "da81bc2428188da7e0d76e01dba66127",
     "grade": true,
     "grade_id": "test_nullify4",
     "locked": true,
     "points": 2,
     "schema_version": 1,
     "solution": false
    }
   },
   "outputs": [
    {
     "name": "stdout",
     "output_type": "stream",
     "text": [
      "[CIS 545 Test Cases] (2 pts)\n"
     ]
    }
   ],
   "source": [
    "## [CIS 545 Test Cases] (2 pts)\n",
    "# Checking your data cleaning\n",
    "\n",
    "\n",
    "print('[CIS 545 Test Cases] (2 pts)')"
   ]
  },
  {
   "cell_type": "code",
   "execution_count": 44,
   "metadata": {
    "deletable": false,
    "editable": false,
    "nbgrader": {
     "checksum": "54fb1817934fb37c4b8ca630716fcc1e",
     "grade": true,
     "grade_id": "test_nullify5",
     "locked": true,
     "points": 2,
     "schema_version": 1,
     "solution": false
    }
   },
   "outputs": [
    {
     "name": "stdout",
     "output_type": "stream",
     "text": [
      "[CIS 545 Test Cases] (2 pts)\n"
     ]
    }
   ],
   "source": [
    "# [CIS 545 Test Cases] (2 pts)\n",
    "# Checking your data cleaning\n",
    "\n",
    "\n",
    "print('[CIS 545 Test Cases] (2 pts)')"
   ]
  },
  {
   "cell_type": "markdown",
   "metadata": {
    "deletable": false,
    "editable": false,
    "nbgrader": {
     "checksum": "4a6399e99c8523046c41fe6bb3da935b",
     "grade": false,
     "grade_id": "step2-1-2",
     "locked": true,
     "schema_version": 1,
     "solution": false
    }
   },
   "source": [
    "### 2.1.2 Changing column types\n",
    "\n",
    "After all of this, `routes_df.airline_id` will only have integers, but will still have its existing type of object.  Later we’ll need it to be an integer, so that it can be compared directly with the entries from `airlines_df` and `airports_df`.  Let’s convert it to integer via:\n",
    "\n",
    "```\n",
    "routes_df['airline_id'] = routes_df['airline_id'].astype(int)\n",
    "```\n",
    "\n",
    "Repeat the same process for the source and destination airport IDs.  \n"
   ]
  },
  {
   "cell_type": "code",
   "execution_count": 45,
   "metadata": {
    "deletable": false,
    "nbgrader": {
     "checksum": "bd93933e664262172f80dac03c24b6c1",
     "grade": false,
     "grade_id": "change_cols",
     "locked": false,
     "schema_version": 1,
     "solution": true
    }
   },
   "outputs": [],
   "source": [
    "# TODO: Change column types according to Step 2\n",
    "#print(routes_df['airline_id'][0:15])\n",
    "routes_df['airline_id'] = routes_df['airline_id'].astype(int)\n",
    "routes_df['source_id'] = routes_df['source_id'].astype(int)\n",
    "routes_df['target_id'] = routes_df['target_id'].astype(int)"
   ]
  },
  {
   "cell_type": "code",
   "execution_count": 46,
   "metadata": {
    "deletable": false,
    "editable": false,
    "nbgrader": {
     "checksum": "179415cd4fd10aa98dd89b6a7db6b2df",
     "grade": true,
     "grade_id": "test_cols1",
     "locked": true,
     "points": 2,
     "schema_version": 1,
     "solution": false
    }
   },
   "outputs": [
    {
     "name": "stdout",
     "output_type": "stream",
     "text": [
      "[CIS 545 Test Cases] (2 pts)\n"
     ]
    }
   ],
   "source": [
    "# [CIS 545 Test Cases] (2 pts)\n",
    "\n",
    "\n",
    "print('[CIS 545 Test Cases] (2 pts)')"
   ]
  },
  {
   "cell_type": "markdown",
   "metadata": {
    "deletable": false,
    "editable": false,
    "nbgrader": {
     "checksum": "76306d926c2af506c18cbcd8ec1795f2",
     "grade": false,
     "grade_id": "step2-2",
     "locked": true,
     "schema_version": 1,
     "solution": false
    }
   },
   "source": [
    "## 2.2 Cleaning the Text Data\n",
    "\n",
    "We will clean the raw text data we stored in `incidents_raw.txt`. For each incident, we want it in the form:\n",
    "\n",
    "```\n",
    "1997 January 9 , Comair Flight 3272, an Embraer EMB 120 Brasília, crashes near Ida, Michigan, during a snowstorm, killing all 29 on board.\n",
    "```\n",
    "\n",
    "Points to follow during cleaning:\n",
    "\n",
    "* Remove `[edit]` from the year\n",
    "\n",
    "* Only select incidents that have occured in the year >= 1997\n",
    "\n",
    "* Since we extracted the data using tags `<h3>` and `<li>`, it is possible that there was other data extracted too. See the end of file `incidents_raw.txt`. However, if we look at the format of all the incidents, we can see that they all contain: *month*, the word `Flight` and the symbol `–`. Use these conditions to filter out unwanted data.\n",
    "\n",
    "* Store all the cleaned incidents in a list named `clean_incidents`."
   ]
  },
  {
   "cell_type": "code",
   "execution_count": null,
   "metadata": {},
   "outputs": [],
   "source": []
  },
  {
   "cell_type": "code",
   "execution_count": 47,
   "metadata": {
    "deletable": false,
    "nbgrader": {
     "checksum": "264343d952820b2697340f7e0d237e10",
     "grade": false,
     "grade_id": "clean_incidents",
     "locked": false,
     "schema_version": 1,
     "solution": true
    }
   },
   "outputs": [
    {
     "name": "stdout",
     "output_type": "stream",
     "text": [
      "['1997 January 9 , Comair Flight 3272, an Embraer EMB 120 Brasília, crashes near Ida, Michigan, during a snowstorm, killing all 29 on board.', '1997 March 18 , Stavropolskaya Aktsionernaya Avia Flight 1023, an Antonov An-24, breaks up in flight and crashes near Cherkessk, Russia; all 50 on board die.', '1997 April 19 , Merpati Nusantara Airlines Flight 106, a BAe ATP crashes during a failed go-around in bad weather at Buluh Tumbang International Airport, Indonesia. 15 of the 53 passengers and crew are killed.', '1997 May 8 , China Southern Airlines Flight 3456, a Boeing 737, makes a hard landing in Shenzhen, China, during poor weather and crashes, killing 35 of the 74 people on board.', '1997 July 31 , FedEx Express Flight 14, a McDonnell Douglas MD-11, crashes upon landing at Newark Liberty International Airport; the two crew members and three passengers escape uninjured.', '1997 July 17 , Sempati Air Flight 304, a Fokker F27, crashes shortly after take off from Husein Sastranegara International Airport. 28 people were killed.', '1997 August 6 , Korean Air Flight 801, a Boeing 747, crashes while attempting to land in heavy rain at Guam International Airport; of the 254 people on board, only 26 survive.', '1997 August 10 , Formosa Airlines Flight 7601, a Dornier Do 228, crashes while attempting to land at Beigan, Lienchiang, in the Matsu Islands. All 16 passengers and crew on board are killed.', '1997 September 3 , Vietnam Airlines Flight 815, a Tupolev Tu-134, crashes on approach to Phnom Penh International Airport in heavy rain, killing 64 of the 66 people on board.', '1997 September 6 , Royal Brunei Airlines Flight 238, a Dornier Do 228, crashes into a hill side in Lambir Hills National Park, killing all 10 on board.', '1997 September 26 , Garuda Indonesia Flight 152, an Airbus A300, crashes into a mountain near Buah Nabar, Indonesia, killing all 234 on board.', '1997 October 10 , Austral Líneas Aéreas Flight 2553, a McDonnell Douglas DC-9, crashes near Fray Bentos, Uruguay, traveling from Posadas to Buenos Aires, resulting in the death of all 74 occupants.', '1997 December 15 , Tajikistan Airlines Flight 3183, a Tupolev Tu-154, crashes into the desert near Sharjah Airport, of the 86 on board, only the flight engineer survives.', '1997 December 17 , Aerosvit Flight 241, a Yakovlev Yak-42, crashes near Thessaloniki, Greece, killing all 70 people on board.', '1997 December 19 , SilkAir Flight 185, a Boeing 737, crashes into the Musi River near Palembang, Indonesia, killing all 102 people on board.', '1997 December 28 , United Airlines Flight 826, a Boeing 747, encounters severe turbulence two hours into the flight; the aircraft safely lands back in Tokyo; all survive the accident, but a passenger dies later; despite having no damage, the aircraft is written off.', '1998 February 2 , Cebu Pacific Flight 387, a McDonnell Douglas DC-9, crashes into a mountain near Mount Sumagaya in Misamis Oriental in the Philippines, killing all 104 passengers and crew members on board.', '1998 February 16 , China Airlines Flight 676, an Airbus A300, crashes into a residential area while attempting to land in Taipei, Taiwan. All 196 people on board are killed, in addition to six on the ground.', '1998 March 22 , Philippine Airlines Flight 137, an Airbus A320, overshoots the end of the runway while landing at Bacolod City in the Philippines, plowing through several houses. None of the passengers was harmed, but three people on the ground are killed and several more injured.', '1998 April 20 , Air France Flight 422, a Boeing 727 leased from TAME Airlines, crashes into the mountains east of Bogotá, Colombia, on takeoff from El Dorado International Airport of Bogotá in foggy weather. All 53 passengers and crew perish.', '1998 May 25 , PIA Flight 544, a Fokker F-27, is hijacked shortly after takeoff by three armed men. F-16 fighter jets intercept the plane and force it to land. The hijackers are arrested and sentenced to death. All 38 on board survive.', '1998 June 18 , Propair Flight 420, a Fairchild Metroliner crashes shortly after takeoff from Dorval Airport (now Montréal,Pierre Elliott Trudeau International Airport), Canada following an inflight fire. All 11 passengers and crew are killed.', '1998 July 30 , Proteus Airlines Flight 706: a Beechcraft 1900D collides in mid-air with a light aircraft over Quiberon Bay. Both aircraft crash into the sea, killing 15 people.', '1998 August 24 , Myanma Airways Flight 635, a Fokker F-27 Friendship, crashes while on approach to Tachilek Airport; all 36 on board die.', \"1998 August 29 , Cubana de Aviación Flight 389, a Tupolev Tu-154M overruns the runway whilst taking off from Quito's Mariscal Sucre International Airport, Ecuador, proceeding to crash into a soccer field. 70 of the 91 passengers and crew are killed, along with 10 on the ground.\", '1998 September 2 , Swissair Flight 111, a McDonnell Douglas MD-11, crashes into the sea near Halifax, Nova Scotia in Canada, because of an onboard fire. All 229 people on board perish.', '1998 September 25 , PauknAir Flight 4101, a BAe 146, leaves Málaga but never reaches its destination in Melilla. All passengers and crew perish.', '1998 September 29 , Lionair Flight 602, an Antonov An-24, is shot down by the Liberation Tigers of Tamil Eelam and crashes off the coast of Jaffna, Sri Lanka, killing all 55 on board.', '1998 December 11 , Thai Airways International Flight 261, an Airbus A310, crashes during poor weather near Surat Thani, Thailand. Of the 146 people on board, 102 are killed.', '1999 February 24 , China Southwest Airlines Flight 4509, a Tupolev Tu-154, crashes while on approach to Wenzhou Airport, killing all 61 passengers and crew on board.', '1999 April 7 , Turkish Airlines Flight 5904, a Boeing 737-400, crashes in poor weather near Hamdilli, Ceyhan, Turkey; all six crew die.', '1999 April 15 , Korean Air Cargo Flight 6316, a McDonnell Douglas MD-11F crashes shortly after takeoff from Shanghai Hongqiao Airport, China. All three crew members, as well as five on the ground, are killed.', '1999 June 1 , American Airlines Flight 1420, a McDonnell Douglas MD-82 with 139 passengers on board, skids off the runway on landing and crashes into a steel walkway at Little Rock, Arkansas during strong winds; 11 are killed, and 86 are injured.', '1999 July 24 , Air Fiji Flight 121, an Embraer EMB 110 Bandeirante crashes into a mountain en route to Nadi International Airport, Fiji. All 17 passengers and crew are killed.', '1999 July 24 , All Nippon Airways Flight 61, a Boeing 747, is hijacked by a passenger, Yuji Nishizawa, wielding a knife; after fatally stabbing the captain, he is overpowered by the crew; the first officer lands the plane safely at Haneda, Japan.', '1999 August 7 , TACV Flight 5002, a Dornier Do 228 crashes into a mountain whilst returning to São Pedro Airport, Cape Verde in poor weather. All 18 passengers and crew are killed.', '1999 August 22 , China Airlines Flight 642, a McDonnell Douglas MD-11, crashes on landing at Hong Kong International Airport during \"Typhoon\" Sam; of the 315 people on board, three die.', '1999 August 31 , LAPA Flight 3142, a Boeing 737, overshoots the runway in Buenos Aires, Argentina, and crashes into a golf course; of the 103 people on board, 63 are killed, as well as two on the ground.', '1999 September 5 , Necon Air Flight 128, a BAe 748 collides with a telecommunications tower whilst on approach into Kathmandu Airport, Nepal. All 15 passengers and crew are killed.', '1999 September 14 , Britannia Airways Flight 226A, a Boeing 757, veers off the runway at Girona, Catalonia Spain, while landing in a thunderstorm and comes to rest in a field, broken apart in two places; 43 on board are injured, two seriously, but a passenger initially diagnosed as \"lightly injured\" dies five days later of unnoticed internal injuries.', '1999 September 23 , Qantas Flight 1, a Boeing 747 runs off the runway due to a storm and comes to a complete stop just short of a golf course. All on board including 30 injured passengers survive.', '1999 October 31 , EgyptAir Flight 990, a Boeing 767 bound for Cairo, Egypt, crashes into the Atlantic Ocean off Nantucket, Massachusetts, killing all 217 passengers and crew; cause is disputed: a deliberate suicide/homicide act by the relief first officer according to the NTSB, vs. a Boeing mechanical flaw according to Egyptian aviation authorities.', '1999 November 9 , TAESA Flight 725, a McDonnell Douglas DC-9, crashes near Uruapan, Mexico, killing all 18 on board.', '1999 November 12 , Si Fly Flight 3275, an ATR 42-300 operating a UN relief flight strikes a mountain in poor weather whilst on approach into Pristina Airport, Kosovo. All 24 passengers and crew are killed.', '1999 December 7 , Asian Spirit Flight 100, a Let L-410 Turbolet, crashes into a mountain while on approach to Cauayan Airport, killing all 15 passengers and crew on board.', '1999 December 11 , SATA Air Açores Flight 530M, a BAe ATP crashes into a mountain whilst on approach into Flores Airport in the Azores. All 35 passengers and crew are killed.', '1999 December 21 , Cubana de Aviación Flight 1216, a McDonnell Douglas DC-10, overruns the runway at La Aurora International Airport, killing 16 of 314 people on board and another two on the ground.', '1999 December 22 , Korean Air Cargo Flight 8509, a Boeing 747-200F, crashes after takeoff near Great Hallingbury, England; killing all four crew.', '1999 December 24 , Indian Airlines Flight 814, an Airbus A300, is hijacked en route to Delhi, India; one hostage is killed.', '1999 December 25 , Cubana de Aviación Flight 310, a Yakovlev Yak-42D, crashes into the San Luis Hill near Bejuma, Venezuela, while on approach to Arturo Michelena International Airport; all 22 on board die.', '2000 January 10 , Crossair Flight 498, a Saab 340, crashes two minutes after takeoff in Niederhasli, Switzerland, killing all 10 people on board.', \"2000 January 30 , Kenya Airways Flight 431, an Airbus A310, carrying 169 passengers and 10 crew members, crashes into the Atlantic Ocean off Côte d'Ivoire after takeoff from Abidjan. Only 10 people survive.\", '2000 January 31 , Alaska Airlines Flight 261, an MD-83, crashes into the Pacific Ocean off Point Mugu, California, after problems with its horizontal stabilizer. All 83 passengers and five crew members are killed.', '2000 February 16 , Emery Worldwide Flight 17, a DC-8-71F crashes into a salvage yard shortly after takeoff from Sacramento Mather Airport, California. All three crew members are killed.', '2000 March 5 , Southwest Airlines Flight 1455, a Boeing 737-300, overruns the runway in Burbank, California. Of the 142 people on board, 43 are injured, two seriously.', '2000 April 19 , Air Philippines Flight 541, a Boeing 737-200, crashes in a coconut plantation on Samal Island, Davao del Norte while preparing to approach the Davao International Airport, killing all 131 people on board in the worst ever accident involving the 737-200.', '2000 June 22 , Wuhan Airlines Flight 343, a Xian Y-7, is struck by lightning and crashes in Hanyang District, Wuhan, killing all 42 on board and another seven on the ground in the worst ever accident involving the Y-7.', '2000 July 4 , Malév Flight 262, a Tupolev Tu-154, lands on its belly at Thessaloniki International Airport in Greece. There are no serious injuries or fatalities.', '2000 July 8 , Aerocaribe Flight 7831, a British Aerospace Jetstream 32, crashes near Chulum Juárez, Mexico, killing all 19 on board.', '2000 July 12 , Hapag-Lloyd Flight 3378, an Airbus A310, crash-lands 650 metres short of the runway in Vienna after running out of fuel in flight. There are no serious injuries or fatalities.', '2000 July 17 , Alliance Air Flight 7412, a Boeing 737-200, crashes into government housing in Patna, India, as it approaches the airport, killing 55 of the 58 on board and five people on the ground.', '2000 July 25 , Air France Flight 4590, a Concorde crashes during takeoff from Paris, France, after striking debris on the runway, killing all 100 passengers and nine crew aboard as well as four on the ground; the entire Concorde fleet is grounded for one year.', '2000 August 23 , Gulf Air Flight 072, an Airbus A320, crashes into the Persian Gulf off Manama, Bahrain, while attempting to land. All 135 passengers and eight crew members are killed.', '2000 October 31 , Singapore Airlines Flight 006, a Boeing 747-400, strikes construction equipment after using a closed runway for takeoff at Chiang Kai-shek International Airport, Taiwan, killing 83 out of 179 people on board.', '2000 November 18 , Dirgantara Air Service Flight 3130, a Britten Norman Islander BN-2 crashes shortly after take off from Datah Dawai Airport in East Kalimantan, Indonesia. No one is killed, but all on board were injured, 11 seriously.', '2000 December 20 , British Airways Flight 2069, in Sudanese airspace at 35,000\\xa0ft, a hijacker storms the cabin in an attempt to send the plane into a nosedive. However, Captain William Hagan and First Officer Richard Webb help subdue the mentally ill hijacker, while First Officer Phil Watson levels the flight. None of the 398 on board is seriously injured.', \"2001 January 23 , Yemenia Flight 448, a Boeing 727, is hijacked 15 minutes after takeoff from Sana'a International Airport, Yemen; the crew makes an emergency landing at Djibouti; the hijacker is subdued with no casualties to the 101 on board.\", '2001 January 25 , RUTACA Airlines Flight 225, a Douglas DC-3 crashes shortly after takeoff from Tomás de Heres Airport, Venezuela as a result of an engine failure. All 24 passengers and crew were killed.', '2001 January 31 , In the 2001 Japan Airlines mid-air incident, Japan Airlines Flight 907, a Douglas DC-10, and Japan Airlines Flight 958, a Boeing 747, narrowly avoid colliding by a margin of 36 feet (11 meters) near Yaizu, Japan.', '2001 February 27 , Loganair Flight 670A, a Short 360 operating a postal flight crashes shortly after takeoff from Edinburgh Airport, Scotland as a result of a double engine failure. Both crew members are killed.', '2001 March 3 , Thai Airways International Flight 114, a Boeing 737-400 is destroyed by an explosion while on the tarmac at Don Mueang Airport, Thailand. One flight attendant is killed in the explosion, which happened prior to boarding.', '2001 March 24 , Air Caraïbes Flight 1501, a DHC-6 Twin Otter crashes into a house whilst on approach into Saint Barthélemy Airport, Guadeloupe. All 19 passengers and crew, as well as one person on the ground, are killed.', '2001 July 4 , Vladivostok Air Flight 352, a Tupolev Tu-154 enters a flat spin on approach to Irkutsk Airport in Irkutsk, Russia, crashes down onto its belly and bursts into flames in a wooded area, killing all 145 aboard.', '2001 August 24 , Air Transat Flight 236, an Airbus A330, runs out of fuel over the Atlantic Ocean and makes an emergency landing in the Azores. Upon landing some of the tires blow out, causing a fire that is extinguished by emergency personnel on the ground. None of the 304 people on board the aircraft is seriously injured.', '2001 August 29 , Binter Mediterráneo Flight 8261, a CASA CN-235, suffers port engine failure and crashes onto the N-340 road while attempting to make an emergency landing at Ruiz Picasso International Airport, killing four of 43 on board; the pilot initially survives, but dies several hours later.', ' September 11 , American Airlines Flight 11, a Boeing 767-200ER with 92 people on board, is hijacked after taking off from Boston, and is flown into the north tower of the World Trade Center in New York City; all on board are killed as well as around 1600 people on the ground and in the building; the collapse of both towers brings the total death toll from the two crashes to at least 2,763, the worst disaster involving commercial aircraft.', ' September 11 , United Airlines Flight 175, a Boeing 767-200 with 65 people on board, is hijacked after taking off from Boston and is flown into the south tower of the World Trade Center in New York City; all on board are killed as well as around 900 people on the ground and in the building; the collapse of both towers brings the total death toll from the two crashes to at least 2,763, the worst disaster involving commercial aircraft.', ' September 11 , American Airlines Flight 77, a Boeing 757-200 with 64 people on board, is hijacked after taking off from Dulles International Airport and is flown into The Pentagon; all on board are killed as well as 125 people in the building and on the ground.', ' September 11 , United Airlines Flight 93, a Boeing 757-200 with 44 people on board, is hijacked after taking off from Newark, New Jersey; passengers struggle with the hijackers, and the aircraft crashes in a field near Shanksville, Pennsylvania, killing all on board.', ' September 11 , American Airlines Flight 11, a Boeing 767-200ER with 92 people on board, is hijacked after taking off from Boston, and is flown into the north tower of the World Trade Center in New York City; all on board are killed as well as around 1600 people on the ground and in the building; the collapse of both towers brings the total death toll from the two crashes to at least 2,763, the worst disaster involving commercial aircraft.', ' September 11 , United Airlines Flight 175, a Boeing 767-200 with 65 people on board, is hijacked after taking off from Boston and is flown into the south tower of the World Trade Center in New York City; all on board are killed as well as around 900 people on the ground and in the building; the collapse of both towers brings the total death toll from the two crashes to at least 2,763, the worst disaster involving commercial aircraft.', ' September 11 , American Airlines Flight 77, a Boeing 757-200 with 64 people on board, is hijacked after taking off from Dulles International Airport and is flown into The Pentagon; all on board are killed as well as 125 people in the building and on the ground.', ' September 11 , United Airlines Flight 93, a Boeing 757-200 with 44 people on board, is hijacked after taking off from Newark, New Jersey; passengers struggle with the hijackers, and the aircraft crashes in a field near Shanksville, Pennsylvania, killing all on board.', ' October 4 , Siberia Airlines Flight 1812, a Tupolev Tu-154, is shot down by the Ukrainian military over the Black Sea. All 66 passengers and 12 crew members are killed.', ' October 8 , In the Linate Airport disaster, Scandinavian Airlines Flight 686, an MD-87, crashes into a Cessna business jet on takeoff from Milan, Italy. The MD-87 then swerves into a baggage handling building and catches fire. All 110 people on board Flight 686 die as well as all four in the Cessna. Four people on the ground are also killed.', \" November 12 , American Airlines Flight 587, an Airbus A300, crashes into a Queens neighborhood in New York City when the plane's vertical tail fin snaps off just after takeoff due to overuse of the rudder by the first officer during a wake turbulence encounter. All 251 passengers and nine crew members on board are killed as well as five people on the ground.\", ' November 24 , Crossair Flight 3597, an Avro RJ100, crashes near Bassersdorf, Switzerland, while attempting to land in Zürich. Of the 28 passengers and five crew members on board, 21 passengers and three crew members die.', ' December 22 , On board American Airlines Flight 63, a Boeing 767, a passenger, Richard Reid, attempts to detonate explosives hidden in his shoes, but fails and is subdued by two flight attendants and passengers. The plane lands safely in Boston.', '2002 January 14 , Lion Air Flight 386, a Boeing 737-200, crashes while attempting to take off from Riau, Indonesia; all 103 on board survive.', '2002 January 16 , Garuda Indonesia Flight 421, a Boeing 737-300, experiences a dual flameout after entering a thunderstorm, and ditches in the Bengawan Solo River. A flight attendant is the only casualty; 59 passengers and crew survive.', '2002 January 28 , TAME Flight 120, a Boeing 727, crashes into a volcano on approach to Tulcán, Ecuador, in low-visibility conditions; all 94 on board are killed.', '2002 February 12 , Iran Air Tours Flight 956, a Tupolev Tu-154, crashes into the Sefid Kooh mountains during heavy rain, snow and dense fog while descending for Khorramabad Airport. All twelve crew members and 107 passengers are killed.', '2002 April 15 , Air China Flight 129, a Boeing 767-200ER, crashes into a hill during a landing attempt at Busan, South Korea, in misty conditions; of the 155 passengers and 11 crew, 38 survive.', '2002 May 4 , EAS Airlines Flight 4226, a BAC 1,11 500 series, crashes into the Gwammaja neighborhood at Kano, Nigeria, shortly after takeoff; the ensuing crash resulted in the deaths of 71 passengers and at least 78 civilians on the ground.', '2002 May 7 , EgyptAir Flight 843, a Boeing 737-566, crashes near Tunis, Tunisia, while landing in rough weather; of the 62 people on board, 14 perish.', '2002 May 7 , China Northern Airlines Flight 6136, a McDonnell Douglas MD-82, crashes near Dalian, China, after a passenger sets fire to the cabin with gasoline; all 103 passengers and nine crew are killed.', '2002 May 25 , China Airlines Flight 611, a Boeing 747-200B, disintegrates above the Taiwan Strait in mid-flight due to maintenance error; killing all 225 people on board.', '2002 July 1 , In the Überlingen mid-air collision, Bashkirian Airlines Flight 2937, a Tupolev Tu-154 with 60 passengers and nine crew members on board, collides with DHL Flight 611, a Boeing 757 freighter with two pilots on board near Lake Constance, Germany; all people on both planes perish.', '2002 July 10 , Swiss International Airlines Flight 850, a Saab 2000, strikes an earth bank after landing at Werneuchen Airfield after multiple diversions due to a storm system; all 20 on board survive; the aircraft is written off.', '2002 August 30 , Rico Linhas Aéreas Flight 4823, an Embraer EMB 120 Brasília, crashes on approach to Rio Branco International Airport, Brazil, in a rainstorm; the aircraft breaks up into three pieces and catches fire; 23 of 31 on board perish.', '2002 October 9 , Northwest Airlines Flight 85, a Boeing 747, experienced a rudder hardover. The crew made an emergency landing at Ted Stevens Anchorage International Airport. All 404 on board were unharmed.', '2002 November 6 , Luxair Flight 9642, a Fokker F50, crashes short of the runway on approach to Luxembourg Findel Airport in foggy weather conditions; of the nineteen passengers and three crew on board, only two survive.', '2002 November 11 , Laoag International Airlines Flight 585, a Fokker F-27 Friendship, crashes into Manila Bay shortly after takeoff from Ninoy Aquino International Airport; of the 34 people on board, 19 are killed.', '2003 January 8 , Air Midwest Flight 5481, a Beechcraft 1900, crashes on takeoff from Charlotte, North Carolina, United States; all 19 passengers and two pilots are killed.', '2003 January 8 , Turkish Airlines Flight 634, an Avro RJ100, crashes during its final approach to land at Diyarbakır Airport, Turkey, in extensive fog. All of the 5 crew and 70 of the 75 passengers are killed, five passengers survive with serious injuries.', '2003 January 9 , TANS Perú Flight 222, a Fokker F28, crashes while on approach to Chachapoyas Airport; all 46 on board die.', '2003 March 6 , Air Algérie Flight 6289, a Boeing 737-200, veers off the runway on takeoff in Tamanrasset, Algeria; 96 of the 97 passengers and all six crew members perish.', '2003 May 26 , UM Airlines Flight 4230, a Yakovlev Yak-42 crashes into the side of a mountain near the town of Maçka, Turkey. All 75 people are killed.', '2003 May 29 , A man attempts to hijack Qantas Flight 1737, a Boeing 717, in Melbourne, Australia, intending to crash the plane in Tasmania. He is overpowered by the flight crew and passengers, but injures three people.', '2003 July 8 , Sudan Airways Flight 139, a Boeing 737-200, crashes shortly after taking off from Port Sudan, Sudan. All 117 people on board the plane perish; a two-year-old boy initially survives the crash, but dies the following day.', '2003 December 18 , FedEx Express Flight 647, a McDonnell Douglas MD-10-10, veers off the runway upon landing after a landing gear collapse and catches fire at Memphis International Airport; two crew members and five passengers escape with only minor injuries.', '2003 December 25 , UTAGE Flight 141, a Boeing 727, runs off the end of the runway upon takeoff at Cotonou, Benin, and crashes onto the beach on the Bight of Benin, killing 151 of the 163 occupants.', '2004 January 3 , Flash Airlines Flight 604, a Boeing 737-300, crashes into the Red Sea, killing all 135 passengers and 13 crew members in the worst ever accident involving the 737-300.', '2004 January 13 , Uzbekistan Airways Flight 1154, a Yakovlev Yak-40 collides with a radar station on approach into Tashkent International Airport, Uzbekistan in poor weather. All 37 passengers and crew are killed.', '2004 February 10 , Kish Air Flight 7170, a Fokker 50, crashes at Sharjah International Airport, killing 43 people. Three survive with serious injuries.', '2004 May 14 , Rico Linhas Aéreas Flight 4815, an Embraer 120ER, crashes while on approach to Eduardo Gomes International Airport, killing all 33 passengers and crew on board; the cause is never determined.', '2004 June 8 , Gabon Express Flight 221, a Hawker Siddeley HS 748 crashes into the sea after attempting an emergency landing at Libreville International Airport, Gabon after an engine failure. 19 of the 30 passengers and crew are killed.', '2004 August 13 , Air Tahoma Flight 185, a Convair 580, crashes near Covington, Kentucky, while descending to land, killing the first officer.', ' August 24 , Siberia Airlines Flight 1047, a Tupolev Tu-154, explodes in mid-air while flying over Rostov Oblast, Russia, killing all 38 passengers and eight crew members on board.', ' August 24 , Volga-AviaExpress Flight 1303, a Tupolev Tu-134, explodes in mid-air while flying over Tula Oblast, Russia, killing all 34 passengers and nine crew members on board.', ' August 24 , Siberia Airlines Flight 1047, a Tupolev Tu-154, explodes in mid-air while flying over Rostov Oblast, Russia, killing all 38 passengers and eight crew members on board.', ' August 24 , Volga-AviaExpress Flight 1303, a Tupolev Tu-134, explodes in mid-air while flying over Tula Oblast, Russia, killing all 34 passengers and nine crew members on board.', ' October 14 , MK Airlines Flight 1602, a Boeing 747-200F, crashes on takeoff from Halifax Stanfield International Airport, killing all seven on board.', ' October 14 , Pinnacle Airlines Flight 3701, a CRJ-200 repositioning flight with no passengers, crashes near Jefferson City, MO, killing both pilots.', ' October 19 , Corporate Airlines Flight 5966, a British Aerospace Jetstream, crashes near Kirksville, Missouri, United States; 13 of the 15 people on board die.', ' November 21 , China Eastern Airlines Flight 5210, a Bombardier CRJ200, stalls and crashes near Baotou, China, shortly after takeoff because of frost contamination; all 53 on board and two people on the ground are killed.', ' November 30 , Lion Air Flight 538, a McDonnell Douglas MD-82, crash-lands in Solo City, Indonesia, killing 25 of the 154 people on board.', '2005 February 3 , Kam Air Flight 904, a Boeing 737-200, crashes in a snowstorm in Afghanistan. All 96 passengers and eight crew members die.', '2005 February 20 , British Airways Flight 268, a Boeing 747-400, taking off from Los Angeles to London suffers fire in engine 2. The plane flies on three engines to Manchester, where it performs an emergency landing. None of the 369 people on board are harmed.', '2005 March 6 , Air Transat Flight 961, an Airbus A310, suffers rudder failure after takeoff from Varadero, Cuba; the aircraft returns to Cuba with no casualties.', '2005 March 16 , Regional Airlines Flight 9288, an Antonov An-24RV, stalls and crashes into a small hill near Varandey Airport, Russia, due to a possible instrument failure, killing 28 of 52 on board.', '2005 June 9 , US Airways Flight 1170 and Aer Lingus Flight 132 almost collide on a runway at Logan International Airport in Boston, Massachusetts. None of the 381 people on either plane is harmed.', '2005 August 2 , Air France Flight 358, an Airbus A340-300, skids off a runway at Toronto Pearson International Airport, Ontario, while landing and catches fire; all 309 on board escape without fatalities, 43 people are injured, the aircraft is completely destroyed by the fire.', '2005 August 6 , Tuninter Flight 1153, an ATR 72, ditches into the Mediterranean Sea near Palermo, Sicily, with 35 passengers and four crew members on board; 14 passengers and two crew members die.', '2005 August 10 , Copterline Flight 103, a Sikorsky S-76 helicopter crashes off Tallinn, Estonia, killing all 14 on board.', '2005 August 14 , Helios Airways Flight 522, a Boeing 737-300, crashes near Kalamos, Greece, with 115 passengers and six crew members on board; there are no survivors.', '2005 August 16 , West Caribbean Airways Flight 708, a McDonnell Douglas MD-82, crashes in western Venezuela. All on board, 152 passengers and eight crew members, die.', '2005 August 23 , TANS Perú Flight 204, a Boeing 737-200, crashes on approach to Captain Rolden International Airport, Pucallpa, Peru. Thirty-five of the 91 passengers on board, as well as five of the seven crew members, perish.', '2005 September 5 , Mandala Airlines Flight 091, a Boeing 737-200, crashes in Medan, Indonesia, killing 103 of the 111 passengers and all five crew members on board the aircraft and an additional 47 people on the ground.', '2005 September 21 , JetBlue Airways Flight 292, an Airbus A320, makes an emergency landing at Los Angeles International Airport because of landing gear steering failure. There are no injuries to the 139 passengers and six crew members.', '2005 October 22 , Bellview Airlines Flight 210, a Boeing 737-200, crashes shortly after takeoff from Murtala Muhammed International Airport in Lagos, Nigeria, killing all 117 people on board.', '2005 December 8 , Southwest Airlines Flight 1248, a Boeing 737-700, slides off the runway during landing at Chicago Midway International Airport in Chicago in heavy snow. None of the people on board is injured, but the plane hits two automobiles on the ground, killing a six-year-old boy.', '2005 December 10 , Sosoliso Airlines Flight 1145, a McDonnell Douglas DC-9 with 110 people on board, crashes during landing in Port Harcourt, Nigeria. Of the 110 people on board; only two survive.', \"2005 December 19 , Chalk's Ocean Airways Flight 101, a Grumman Mallard, crashes off the coast of Miami Beach, Florida, killing all 20 on board.\", '2005 December 23 , Azerbaijan Airlines Flight 217, an Antonov An-140, crashes shortly after takeoff from Baku Airport due to instrument failure, killing all 23 on board.', '2006 March 31 , TEAM Linhas Aéreas Flight 6865, a Let L-410 Turbolet crashes whilst conducting a VFR approach to Macaé Airport, Brazil. All 19 passengers and crew are killed.', '2006 May 3 , Armavia Flight 967, an Airbus A320, crashes into the Black Sea near the Russian city of Sochi, killing all 113 on board.', '2006 July 9 , S7 Airlines Flight 778, an Airbus A310, crashes into a concrete barricade at Irkutsk International Airport, Russia, upon landing and catches fire. Of the 203 people on board, 128 are killed.', '2006 July 10 , PIA Flight 688, a Fokker F27, crashes into a wheat field near Multan, Pakistan, ten minutes after taking off, killing all 41 passengers and four crew members on board.', '2006 August 13 , Air Algérie Flight 2208, a Lockheed L‑100 Hercules in Northern Italy crashes as a result of an autopilot malfunction. All three on board are killed.', '2006 August 22 , Pulkovo Aviation Enterprise Flight 612, a Tupolev Tu-154, crashes near Donetsk, Ukraine, killing all 170 people on board.', '2006 August 27 , Comair Flight 5191, a Bombardier Canadair CRJ-100, crashes on takeoff at Blue Grass Airport, Kentucky, due to runway confusion; of the 50 people on board, only one survives.', '2006 September 1 , Iran Air Tours Flight 945, a Tupolev Tu-154, crashes while attempting to land in Mashad, Iran, killing 28 of 154 on board.', '2006 September 29 , Gol Transportes Aéreos Flight 1907, a Boeing 737-800, collides with an Embraer Legacy business jet and crashes in Mato Grosso, Brazil; the Embraer Legacy, with seven on board, lands safely with no reported injuries while all 154 people on board the Boeing 737 perish; this crash marks the first loss of a Boeing 737-800.', '2006 October 3 , Turkish Airlines Flight 1476, a Boeing 737, is hijacked in Greek airspace. Plane lands at Brindisi Airport, Italy. Hijacker is arrested. All 113 people on board survive.', '2006 October 10 , Atlantic Airways Flight 670, a BAe 146, slides off the runway at Stord Airport, Norway, killing four of the 16 people on board.', '2006 October 29 , ADC Airlines Flight 53, a Boeing 737-200, crashes near Abuja, Nigeria, killing 96 of the 105 people on board.', '2007 January 1 , Adam Air Flight 574, a Boeing 737-400 with 102 people on board, crashes into the ocean off the island of Sulawesi in Indonesia, killing all on board in the worst ever crash involving the 737-400.', \"2007 January 24 , Air West Flight 612, a Boeing 737, is hijacked shortly after takeoff. The plane landed safely at N'Djamena International Airport, where the hijacker surrenders. All 103 people on board survive.\", '2007 February 21 , Adam Air Flight 172, a Boeing 737-300, suffers structural damage while landing near Surabaya, Indonesia; none of the 149 people on board is seriously injured.', '2007 March 7 , Garuda Indonesia Flight 200, a Boeing 737-400, overshoots the runway and crashes while landing at Yogyakarta, Indonesia, killing 21 of the 140 people on board.', '2007 March 17 , UTair Flight 471, a Tupolev Tu-134, suffers severe structural damage while landing in Samara, Russia, killing six of the 63 people on board.', '2007 May 5 , Kenya Airways Flight 507, a Boeing 737-800 with 114 people on board, crashes near Douala, Cameroon, killing all on board.', '2007 June 25 , PMTair Flight 241, an Antonov An-24, crashes in southwestern Cambodia, killing all 22 on board.', '2007 July 17 , TAM Airlines Flight 3054, an Airbus A320, crashes at Congonhas-São Paulo Airport, Brazil, killing all 187 people on board and 12 on the ground.', '2007 August 9 , Air Moorea Flight 1121, a de Havilland Canada DHC-6, crashes into the lagoon of the island of Moorea in French Polynesia just 11 seconds after take off, killing all 20 on board.', '2007 August 20 , China Airlines Flight 120, a Boeing 737-800, bursts into flames after landing at Naha, Japan; none of the 165 passengers on board is seriously injured.', ' September 9 , Scandinavian Airlines Flight 1209, a de Havilland Canada Dash 8, experiences a landing gear failure in Aalborg, Denmark; none of the 73 people on board is seriously injured, but three days later, after a similar incident, the airline grounds the aircraft type.', ' September 12 , Scandinavian Airlines Flight 2748, a de Havilland Canada Dash 8, experiences a landing gear failure in Vilnius, Lithuania; none of the 52 people on board is injured, but because of a similar incident three days earlier, all their Dash 8s are grounded.', ' October 27 , Scandinavian Airlines Flight 2867, a de Havilland Canada Dash 8, experiences a landing gear failure in Copenhagen, Denmark; none of the 44 people on board is injured, but because of similar incidents in September, the airline \"permanently\" removes its Dash 8s from service; cause is eventually ascribed to maintenance error.', ' September 9 , Scandinavian Airlines Flight 1209, a de Havilland Canada Dash 8, experiences a landing gear failure in Aalborg, Denmark; none of the 73 people on board is seriously injured, but three days later, after a similar incident, the airline grounds the aircraft type.', ' September 12 , Scandinavian Airlines Flight 2748, a de Havilland Canada Dash 8, experiences a landing gear failure in Vilnius, Lithuania; none of the 52 people on board is injured, but because of a similar incident three days earlier, all their Dash 8s are grounded.', ' October 27 , Scandinavian Airlines Flight 2867, a de Havilland Canada Dash 8, experiences a landing gear failure in Copenhagen, Denmark; none of the 44 people on board is injured, but because of similar incidents in September, the airline \"permanently\" removes its Dash 8s from service; cause is eventually ascribed to maintenance error.', ' September 16 , One-Two-GO Airlines Flight 269, a McDonnell Douglas MD-82 carrying 130 people, crashes and bursts into flames after attempting to land in Phuket, Thailand, during poor weather conditions, killing 90 people.', ' November 30 , Atlasjet Flight 4203, a McDonnell Douglas MD-83, crashes into a mountain near Isparta, Turkey, killing all 57 on board.', ' December 30 , TAROM Flight 3107, a Boeing 737-300, is written-off after hitting a maintenance car on the runway and veering off the runway during takeoff run at Henri Coandă International Airport, Otopeni, Romania; none of the 123 on board is injured.', '2008 January 17 , British Airways Flight 38, a Boeing 777-200ER, lands short of the runway at London Heathrow Airport due to a fuel system problem; all 152 on board survive. This is the first loss of a Boeing 777-200ER, and the first loss of any 777 due to operational incident.', '2008 February 8 , Eagle Airways Flight 2279, a BAe Jetstream 32, is hijacked 10 minutes after taking off from Blenheim, New Zealand by a passenger who attacks both pilots. The hijacker is eventually restrained by the co-pilot and the flight lands safely at Christchurch. All nine on board survive the incident.', '2008 February 14 , Belavia Flight 1834, a Bombardier CRJ100, hits its left wing on the runway while taking off from Yerevan, Armenia. All 21 on board escape the aircraft before it erupts into flames.', '2008 February 21 , Santa Bárbara Airlines Flight 518, an ATR 42-300, crashes shortly after taking off from Mérida, Venezuela, killing all 46 on board.', '2008 April 15 , Hewa Bora Airways Flight 122, a McDonnell Douglas DC-9, crashes into a market near Goma, Democratic Republic of the Congo, killing 40 people, including three passengers.', '2008 May 30 , TACA Flight 390, an Airbus A320, overruns the runway at Toncontín International Airport in Tegucigalpa, Honduras, killing five (including two on ground).', '2008 June 10 , Sudan Airways Flight 109, an Airbus A310, crashes at Khartoum International Airport and breaks apart, catching fire. 30 deaths are confirmed, six passengers are listed as missing.', '2008 July 25 , Qantas Flight 30, a Boeing 747-400 en route from Hong Kong to Melbourne, performs an emergency descent and lands in Manila after a hull penetration results in rapid decompression; all aboard survive.', '2008 August 20 , Spanair Flight 5022, a McDonnell Douglas MD-82 crashes on takeoff at Barajas Airport in Madrid, Spain. Of the 172 people on board, 154 are killed.', '2008 August 24 , Iran Aseman Airlines Flight 6895, a Boeing 737, crashes just after takeoff from Manas Airport in Bishkek, Kyrgyzstan. 68 of the 90 passengers and crew on board are killed.', '2008 August 27 , Sriwijaya Air Flight 62, a Boeing 737-200 overruns the runway at Sultan Thaha Airport, Indonesia during a landing attempt, resulting in 26 injuries (14 of them serious). One person on the ground later dies from their injuries.', '2008 September 14 , Aeroflot Flight 821, a Boeing 737, crashes on approach to Perm Airport from Moscow due to pilot error, killing all 88 people on board in the worst ever accident involving the Boeing 737-500.', '2008 October 7 , Qantas Flight 72, an Airbus A330-300, makes an emergency landing in Exmouth, Australia, following a rapid descent that leaves over 70 people injured, 14 of them seriously.', '2008 October 8 , Yeti Airlines Flight 103, a de Havilland Canada DHC-6 Twin Otter, crashes 60\\xa0nmi (110\\xa0km) from Mt Everest, Nepal, killing 18 of 19 people on board.', '2008 November 10 , Ryanair Flight 4102, a Boeing 737 suffers up to 90 bird strikes on its final approach to Rome Ciampino Airport, damaging landing gear and both engines. Lands safely; 10 of the 172 on board are treated for minor injuries.', '2008 December 20 , Continental Airlines Flight 1404, a Boeing 737-500 with 115 people on board, veers off the runway upon takeoff from Denver International Airport, comes to rest in a ravine near the runway and catches fire; 38 people are injured.', '2009 January 15 , US Airways Flight 1549, an Airbus A320, ditches in the Hudson River just after taking off from LaGuardia Airport in New York City after total engine failure due to multiple bird strikes; all people aboard survive the accident.', '2009 February 12 , Colgan Air Flight 3407, a Bombardier Dash 8 Q400, flying from Newark Liberty International in New Jersey to Buffalo Niagara International Airport in New York crashes into a house in Clarence, New York, killing all 49 aboard the plane and one on the ground.', '2009 February 25 , Turkish Airlines Flight 1951, a Boeing 737-800, flying from Atatürk International Airport in Istanbul to Amsterdam Airport Schiphol crashes in a field during final approach; of the 135 people on board, nine are killed and 86 injured.', '2009 March 12 , Cougar Helicopters Flight 91, a Sikorsky S-92, ditches in the Atlantic 34 miles (55\\xa0km) east-southeast of Newfoundland due to a main gearbox failure, killing 17 of 18 on board.', '2009 March 20 , Emirates Flight 407, an Airbus A340-500 flying from Melbourne Tullamarine Airport to Dubai International Airport has a tailstrike during take off and returns to Melbourne Airport with no fatalities.', '2009 March 23 , FedEx Express Flight 80, a McDonnell Douglas MD-11 on a cargo flight from Guangzhou, China, to Narita, Japan, crashes at Tokyo Narita International Airport; both crew members on board the flight are killed.', '2009 April 1 , 2009 Bond Helicopters Eurocopter AS332 crash: Bond Offshore Helicopters Flight 85N, a Eurocopter AS332, crashes 35 miles (56\\xa0km) off the Aberdeenshire coast while returning from the Miller oilfield, killing all 16 on board; the cause is a catastrophic failure of the main rotor gearbox.', '2009 April 19 , CanJet Flight 918 is seized on the ground by an armed man who slipped through security checks at Sangster International Airport, Montego Bay, Jamaica; all passengers are released early on; six crew members are kept as hostages for several hours before being freed unharmed.', '2009 June 1 , Air France Flight 447, an Airbus A330 en route from Rio de Janeiro to Paris, crashes in the Atlantic Ocean, killing all 228 occupants, including 12 crew; bodies and aircraft debris are not recovered until several days later; the aircraft itself is not found until 2011. The crash is the first fatal accident of the A330 and the worst-ever disaster involving the A330.', \"2009 June 30 , Yemenia Flight 626, an Airbus A310 flying from Sana'a, Yemen to Moroni, Comoros, crashes into the Indian Ocean with 153 people aboard; one 12-year-old is found clinging to the wreckage.\", '2009 July 13 , Southwest Airlines Flight 2294, a Boeing 737 from Nashville to Baltimore makes an emergency landing in Charleston, West Virginia, after a 14x17 inch hole opens in the skin of the fuselage at 34,000 feet (10,000\\xa0m), causing a loss of cabin pressure; the plane lands safely with no injuries.', '2009 July 15 , Caspian Airlines Flight 7908, a Tupolev Tu-154, crashes 16 minutes after takeoff near Qazvin, Iran, killing all 153 passengers and 15 crew.', '2009 July 24 , Aria Air Flight 1525, an Ilyushin Il-62, skids off the runway at Mashhad International Airport, killing 17 of 153 on board.', '2009 August 2 , Merpati Nusantara Airlines Flight 9760, a de Havilland Canada DHC-6 Twin Otter, crashes into a mountain in good weather over Indonesia, killing all 13 passengers and three crew.', '2009 August 4 , Bangkok Airways Flight 266, an ATR 72-200 carrying 68 passengers crashes in severe weather on landing at Samui airport in the resort island of Ko Samui in Thailand, resulting in at least one confirmed death and 37 injuries.', '2009 August 11 , Airlines PNG Flight 4684, a de Havilland Canada DHC-6 Twin Otter carrying 11 passengers and two crew crashes into a mountain at Isurava, Papua New Guinea while attempting a go around at Kokoda Airport, Papua New Guinea; all passengers and crew perished in the accident.', '2009 September 9 , Aeroméxico Flight 576, a Boeing 737 with 104 passengers on board, is hijacked while flying from Cancún to Mexico City; after landing at Mexico City International Airport, Mexican officials storm the plane and take five men into custody; there are no casualties.', '2009 September 24 , Airlink Flight 8911, a BAe Jetstream 41 crashes into a school shortly after takeoff from Durban International Airport, South Africa. One of the crew members dies later from injuries obtained in the crash.', '2009 October 21 , Azza Transport Flight 2241, a Boeing 707, crashes on take off from Sharjah International Airport, United Arab Emirates; all six crew members are killed.', '2009 October 22 , Divi Divi Air Flight 014, a Britten-Norman Islander, with 10 on board, ditches in the Caribbean Sea off Bonaire due to engine failure, killing the pilot.', '2009 November 12 , RwandAir Flight 205, a Bombardier CRJ-100, crashes into a terminal shortly after an emergency landing at Kigali International Airport, Rwanda; of the 10 passengers and five crew, one passenger dies.', '2009 November 28 , Avient Aviation Flight 324, a McDonnell Douglas MD-11F overruns the runway during takeoff at Shanghai Pudong International Airport, China, killing three of the seven crew members.', '2009 December 22 , American Airlines Flight 331, a Boeing 737-800 from Miami International Airport overruns the runway at Norman Manley International Airport, Kingston, Jamaica; there are 40 injuries and no fatalities.', '2009 December 25 , Northwest Airlines Flight 253, an Airbus A330-300 is attacked by a man using a small explosive device, causing only a small fire inside the plane, which is extinguished by a flight attendant; the man is subdued by passengers and crew;', '2010 January 24 , Taban Air Flight 6437, a Tupolev Tu-154M, crashes while making an emergency landing at Mashhad International Airport, Iran, due to a medical emergency; all 157 passengers and 13 crew survive the accident with 47 receiving minor injuries.', '2010 January 25 , Ethiopian Airlines Flight 409, a Boeing 737-800, crashes into the Mediterranean Sea shortly after takeoff from Beirut Rafic Hariri International Airport; the flight was heading to the Ethiopian capital, Addis Ababa; all 90 people on board perish.', '2010 March 22 , Aviastar-TU Flight 1906, a Tupolev Tu-204, crashes on landing at Domodedovo International Airport in foggy weather; all eight crew on board survive, but the aircraft is written off; this is the first loss of the Tu-204.', '2010 April 13 , AeroUnion Flight 302, an Airbus A300B4F, crashes on a missed approach from Mexico City, Distrito Federal, Mexico, for Monterrey, Nuevo León, Mexico. All five crew members are killed, as well as one person on the ground.', '2010 April 13 , Merpati Nusantara Airlines Flight 836, a Boeing 737, overruns the runway at Rendani Airport in Indonesia; all 103 people on board survive, with 23 injured, three of them seriously.', \"2010 April 13 , Cathay Pacific Flight 780 from Surabaya Juanda International Airport to Hong Kong lands safely after both engines thrust controls get stuck due to contaminated fuel. 57 passengers are injured in evacuation. The two pilots receive the Polaris Award from the International Federation of Air Line Pilots' Associations, for their heroism and airmanship.[1\", '2010 May 12 , Afriqiyah Airways Flight 771, an Airbus A330, crashes on landing at Tripoli International Airport, killing 103 on board; the sole survivor is a child from the Netherlands.', '2010 May 17 , Pamir Airways Flight 112, an Antonov An-24 with 39 passengers and 5 crew, disappears from radar 10 minutes after takeoff from Kunduz Airport in Afghanistan. There are no survivors.', '2010 May 22 , Air India Express Flight 812, a Boeing 737-800, crashes at Mangalore International Airport after overshooting the runway, killing a total of 158 people in the worst-ever crash involving the 737-800.', '2010 July 27 , Lufthansa Cargo Flight 8460, a McDonnell Douglas MD-11 freighter, catches fire and breaks in half as it lands at King Khalid International Airport, injuring the German pilot and co-pilot.', \"2010 July 28 , Airblue Flight 202, an Airbus A321, crashes into a hill in the Margalla Hills north-east of Islamabad apparently due to bad weather resulting in the deaths of 146 passengers and six crew members. It is the first fatal accident involving an Airbus A321 and Pakistan's worst air disaster.\", '2010 August 3 , Katekavia Flight 9357, an Antonov An-24 crashes on approach to Igarka Airport, Russia, killing 12 people.', '2010 August 16 , AIRES Flight 8250, a Boeing 737 splits in three after a hard landing at Gustavo Rojas Pinilla Airport, San Andrés, Colombia. Of the 125 passengers and six crew members on board, two passengers are killed and another 113 injured.', '2010 August 24 , Agni Air Flight 101, a Dornier Do 228, crashes outside of Kathmandu, Nepal, in heavy rain, killing all 14 people on board.', '2010 August 24 , Henan Airlines Flight 8387, an Embraer E-190, overruns the runway and crashes at Yichun, Heilongjiang, northeast China, causing 44 fatalities from 91 passengers and five crew members; this is the first hull loss of an Embraer E-Jet.', '2010 September 3 , UPS Airlines Flight 6, a Boeing 747-400, crashes at a military base shortly after takeoff from Dubai International Airport, killing both of the two crew.', '2010 September 7 , Alrosa Mirny Air Enterprise Flight 514, a Tupolev Tu-154M, suffers electrical failure and makes an emergency landing at Izhma Airport; while landing, the aircraft overruns the runway and is written off; all 81 passengers and crew survive.', '2010 September 13 , Conviasa Flight 2350, an ATR-42, crashes shortly before landing in Ciudad Guayana, killing 15 of the 51 people on board.', '2010 November 4 , Aero Caribbean Flight 883, an ATR-72, crashes in Sancti Spíritus, Cuba, killing all 68 on board in the joint worst-ever accident involving the ATR 72.', '2010 November 4 , Qantas Flight 32, an Airbus A380, suffers substantial mechanical failure of its left inboard engine after taking off from Singapore Changi Airport. The flight turns back and lands safely. All the 440 passengers and 29 crew on board are safe. Cowling parts of the failed engine fall over Batam Island.', '2010 November 28 , Sun Way Flight 4412, an Ilyushin Il-76TD, suffers an engine fire and crashes near Jinnah International Airport, killing all eight crew on board and another four on the ground.', \"2010 December 4 , Dagestan Airlines Flight 372, a Tupolev Tu-154, skids off the runway during emergency landing at Russia's Domodedovo International Airport, killing two of the 160 passengers on board and injuring 87.\", '2011 January 1 , Kolavia Flight 348, a Tupolev Tu-154, erupts in flames while taxiing at Surgut International Airport, Russia, killing three out of 124 people and injuring 43.', '2011 January 9 , Iran Air Flight 277, a Boeing 727, crashes at Urmia Airport, Iran, during a go-around, killing 77 of 105 people on board.', '2011 February 10 , Manx2 Flight 7100, a Fairchild Metroliner III, crashes at Cork Airport, Republic of Ireland, and catches fire, killing six of 12 people on board.', '2011 February 14 , Central American Airways Flight 731, a Let L-410 Turbolet, crashes while on approach to Toncontín International Airport, killing all 14 on board.', '2011 April 1 , Southwest Airlines Flight 812, a Boeing 737, ruptures a hole in the fuselage at 36,000 feet, causing the cabin to lose pressure shortly after takeoff from Phoenix Sky Harbor International Airport. The plane lands safely at Yuma International Airport, Arizona, with 116 people aboard uninjured and two with minor injuries.', '2011 May 7 , Merpati Nusantara Airlines Flight 8968, a Xian MA60, crashes off the coast of West Papua, Indonesia, while on approach to Kaimana Airport in heavy rain, killing all 25 passengers and crew on board.', '2011 May 18 , Sol Líneas Aéreas Flight 5428, a Saab 340, crashes off Prahuaniyeu, Río Negro, Argentina, while en route to General Enrique Mosconi International Airport, Comodoro Rivadavia due to ice formation on the wings, propellers and under the fuselage, killing all 22 passengers and crew on board.', '2011 June 20 , RusAir Flight 9605, a Tupolev Tu-134, crashes onto the Russian highway A133 near the village of Besovets, Petrozavodsk, Russia, while on approach to Petrozavodsk Airport, killing 47 of 52 on board.', '2011 July 8 , Hewa Bora Airways Flight 952, a Boeing 727, crashes on landing at Bangoka International Airport, Democratic Republic of the Congo, killing 74 of 118 on board.', '2011 July 11 , Angara Airlines Flight 5007, an Antonov An-24, ditches in the Ob River after an engine fire, killing seven of 37 on board.', '2011 July 13 , Noar Linhas Aéreas Flight 4896, a Let L-410 Turbolet, crashes shortly after takeoff from Recife Airport, Brazil, killing all 16 on board.', '2011 July 28 , Asiana Airlines Flight 991, a Boeing 747 freighter, crashes into the Pacific Ocean, 112 kilometres (70\\xa0mi) west of Jeju Island, South Korea, killing the two crew.', '2011 July 29 , EgyptAir Flight 667, a Boeing 777, suffers a cockpit fire at Cairo International Airport, injuring seven of 317 on board.', '2011 July 30 , Caribbean Airlines Flight 523, a Boeing 737, overruns the runway on landing at Cheddi Jagan International Airport, Georgetown, Guyana, and breaks in two; seven are injured but all 163 passengers and crew survive.', '2011 August 20 , First Air Flight 6560, a Boeing 737, crashes while on approach to Resolute Bay Airport, Nunavut, Canada, killing 12 of 15 on board.', '2011 September 6 , Aerocon Flight 238, a Fairchild Metroliner III, crashes near Trinidad, Bolivia, killing eight of nine people on board.', '2011 September 7 , Yak-Service Flight 9634, a Yakovlev Yak-42, crashes just after takeoff from Tunoshna Airport, Yaroslavl, Russia, due to pilot error, killing 44 of the 45 people on board. Many were players and staff of the Lokomotiv Yaroslavl ice hockey team of the KHL, as the flight was destined for Minsk, Belarus for a league game.', '2011 September 25 , Buddha Air Flight 103, a Beechcraft 1900D, crashes in dense fog while attempting to land at Kathmandu Tribhuwan International Airport, killing all 16 passengers and three crew members.', '2011 September 29 , Nusantara Buana Air Flight 823, a CASA C-212 Aviocar crashes in Indonesia during a domestic flight from Medan to Kutacane. All 18 passengers and crew are killed.', '2011 October 13 , Airlines PNG Flight 1600, a de Havilland Canada DHC-8, crashes near the mouth of the Gogol River, Papua New Guinea, killing 28 of 32 on board.', '2011 October 18 , Iran Air Flight 742, a Boeing 727, en route from Moscow, Russia, to Tehran, Iran, lands without nose gear at Mehrabad International Airport; all 94 passengers and 14 crew members survive without injuries.', '2011 November 1 , LOT Polish Airlines Flight 16, a Boeing 767, performs a belly landing at Warsaw Chopin Airport after its landing gear failed to deploy; all 220 passengers and 11 crew members survive without injuries.', '2012 April 2 , UTair Flight 120, an ATR-72, crashes shortly after takeoff from Roshchino International Airport, Tyumen, Russia, killing 31 of the 43 passengers and crew on board.', '2012 April 20 , Bhoja Air Flight 213, a Boeing 737, crashes near Chaklala airbase, Rawalpindi, Pakistan, in bad weather, killing all 127 people on board.', '2012 May 14 , In the Agni Air Flight CHT, a Dornier Do 228 crashes near Jomsom Airport, Nepal, during a go-around; of the 21 on board, six survive.', '2012 June 2 , Allied Air Flight 111, a Boeing 727, overruns the runway on landing at Kotoka International Airport, Accra, Ghana, and crashes through a fence; the aircraft then hits a bus on a nearby road; all four crew survive but 12 are killed on the ground.', '2012 June 3 , Dana Air Flight 992, a McDonnell Douglas MD-83 carrying 147 passengers and six crew members crashes in a suburb of Lagos, Nigeria, on approach to Murtala Muhammed International Airport, killing all on board and 10 more people on the ground.', \"2012 June 29 , Six people attempt to hijack Tianjin Airlines Flight 7554, an Embraer E-190, 10 minutes after takeoff; passengers and crew are able to restrain the hijackers until the aircraft makes an emergency landing; of the 101 on board, two hijackers die and 11 passengers and crew are injured; this is China's first serious hijacking attempt since 1990.\", '2012 September 12 , Petropavlovsk-Kamchatsky Air Flight 251, an Antonov An-28, crashes in Kamchatka Peninsula, Russia, killing 10 of the 14 passengers and crew on board.', '2012 September 28 , Sita Air Flight 601, a Dornier Do 228, crashes on the bank of the Manohara River, Kathmandu, Nepal, after a bird strike, killing all 19 on board.', '2012 October 7 , FlyMontserrat Flight 107, a Britten-Norman Islander, crashes after takeoff from V.C. Bird International Airport, Antigua and Barbuda; of the four on board, only one survives.', '2012 December 25 , Air Bagan Flight 11, a Fokker 100, crash-lands on a road near Heho Airport, Myanmar, killing one on board, one on the ground and injuring 11.', \"2012 December 29 , Red Wings Airlines Flight 9268, a Tupolev Tu-204 on a re-positioning flight, overruns the runway on landing at Moscow's Vnukovo International Airport, then breaks apart and catches fire; five of the eight crew on board are killed in the first fatal accident involving the Tu-204.\", '2013 January 29 , SCAT Airlines Flight 760, a Bombardier CRJ200, crashes in thick fog on approach to Almaty International Airport, Kazakhstan, killing all 16 passengers and five crew on board.', '2013 February 13 , South Airlines Flight 8971, an Antonov An-24, crash-lands in dense fog at Donetsk International Airport, Ukraine, killing five of 52 people on board.', '2013 March 8 , ACE Air Cargo Flight 51, a Beechcraft 1900C-1 crashes into a mountain whilst on approach into Dillingham Municipal Airport, Alaska. Both crew members are killed.', '2013 April 13 , Lion Air Flight 904, a Boeing 737 carrying 101 passengers and seven crew members, crashes into the ocean while attempting to land at Ngurah Rai International Airport on the Indonesian island of Bali, injuring 46 people.', '2013 April 29 , National Airlines Flight 102, a Boeing 747 freighter, stalls and crashes shortly after takeoff from Bagram Airfield, Afghanistan, due to load shifting, killing all seven crew members on board.', '2013 May 16 , Nepal Airlines Flight 555, a de Havilland Canada DHC-6, overruns the runway on landing at Jomsom Airport, Nepal, injuring seven people.', '2013 June 10 , Merpati Nusantara Airlines Flight 6517, a Xian MA60, crashes on landing at El Tari Airport, Indonesia, injuring five people.', '2013 July 6 , Asiana Airlines Flight 214, a Boeing 777, crashes short of the runway on landing at San Francisco International Airport, killing three of 307 on board and injuring 182. The crash was the first fatal accident involving the Boeing 777.', '2013 August 14 , UPS Airlines Flight 1354, an Airbus A300 freighter, crashes short of the runway on approach to Birmingham,Shuttlesworth International Airport, killing the two crew on board.', '2013 October 3 , Associated Aviation Flight 361, an Embraer 120, crashes shortly after takeoff from Murtala Muhammed International Airport, Lagos, killing 15 people on board.', '2013 October 16 , Lao Airlines Flight 301, an ATR-72, crashes shortly before landing at Pakse International Airport under adverse weather conditions, killing all 44 passengers and five crew on board.', '2013 November 17 , Tatarstan Airlines Flight 363, a Boeing 737, crashes at Kazan International Airport, Russia, during a go-around, killing all 50 people on board.', '2013 November 29 , LAM Mozambique Airlines Flight 470, an Embraer 190, en route from Maputo International Airport, Mozambique, to Quatro de Fevereiro Airport, Angola crashes into Bwabwata National Park in northern Namibia, killing all 33 people on board.', '2014 February 16 , Nepal Airlines Flight 183, a de Havilland Canada DHC-6, crashes near Khidim about 74 kilometres southwest of Pokhara, Nepal, killing all 18 people on board.', '2014 February 17 , Ethiopian Airlines Flight 702, a Boeing 767, is hijacked by the co-pilot while en route from Addis Ababa, Ethiopia, to Rome, Italy, but lands safely at Geneva, Switzerland. All 202 passengers and crew aboard are unharmed.', '2014 March 8 , Malaysia Airlines Flight 370, a Boeing 777 en route from Kuala Lumpur to Beijing with 227 passengers and 12 crew on board, disappears from radar over the Gulf of Thailand. A wing part was later found in Réunion.', '2014 July 17 , Malaysia Airlines Flight 17, a Boeing 777 en route from Amsterdam to Kuala Lumpur, is shot down over eastern Ukraine, killing all 283 passengers and 15 crew on board in the deadliest civilian airliner shootdown incident.', '2014 July 23 , TransAsia Airways Flight 222, an ATR-72 en route from Kaohsiung to Penghu, Taiwan, crashes during go-around, killing 48 of the 58 people on board.', '2014 July 24 , Air Algérie Flight 5017, a chartered Swiftair McDonnell Douglas MD-83 operating for Air Algérie en route from Burkina Faso to Algiers, crashes in the northern Mali desert after disappearing from radar approximately 50 minutes after takeoff, killing all 110 passengers and six crew members on board.', '2014 August 10 , Sepahan Airlines Flight 5915, a HESA IrAn-140 (an Antonov An-140 built under license) crashes shortly after takeoff from Mehrabad International Airport, Iran, killing 39 of the 48 people on board.', '2014 October 29 , Skyway Enterprises Flight 7101, a Short 360 operating a charter flight for FedEx crashes into Maho Bay shortly after takeoff from Princess Juliana International Airport, Saint Martin. Both crew members are killed.', '2014 December 28 , Indonesia AirAsia Flight 8501, an Airbus A320 en route from Surabaya, Indonesia to Singapore, crashes into waters off Borneo, killing all 155 passengers and seven crew on board.', '2015 February 4 , TransAsia Airways Flight 235, an ATR-72, stalls on takeoff and crashes into the Keelung River in Taiwan after striking the Huandong Viaduct and a passing taxi. 43 of the 58 passengers and crew on board are killed.', '2015 March 5 , Delta Air Lines Flight 1086, a McDonnell Douglas MD-88 skids off the runway at LaGuardia Airport and crashes into a fence, coming inches from Flushing Bay. Several people are injured, but there are no fatalities.', '2015 March 24 , Germanwings Flight 9525, an Airbus A320, crashes in southern France en route from Barcelona, Spain to Düsseldorf, Germany as a result of a deliberate act by the first officer. All 144 passengers and 6 crew on board the aircraft die in the crash.', '2015 March 29 , Air Canada Flight 624, an Airbus A320, crashes short of the runway and hits power lines while landing at Stanfield International Airport, en route from Toronto. All 138 passengers and crew on board survive, with 23 treated for minor injuries.', '2015 April 13 , Carson Air Flight 66, a Swearingen Metro II crashes into a mountain en route to Prince George Airport, British Columbia. Both crew members are killed.', '2015 April 14 , Asiana Airlines Flight 162, an Airbus A320, crashes short of the runway and hits a localizer while landing at Hiroshima Airport, after en route from Seoul. All 82 passengers and crew on board survive, but 27 are injured.', '2015 April 25 , Turkish Airlines Flight 1878, an Airbus A320, is severely damaged in a landing accident at Atatürk International Airport. All 102 passengers and crew on board are evacuated without injury.', '2015 August 16 , Trigana Air Service Flight 267, an ATR-42, crashes while en route from Sentani Airport, to Oskibil Airport in the eastern Indonesian province of Papua. All 49 passengers and five crew members are killed in the crash in the worst aviation accident ever involving the ATR-42.', '2015 September 5 , Ceiba Intercontinental Airlines Flight 71, a Boeing 737-800, collides in a mid-air with a BAe 125 air ambulance operated by Senegalair over eastern Senegal. The BAe 125 crashes in the Atlantic killing all seven on board, while the 737 lands safely without any injuries to those on board.', '2015 September 8 , British Airways Flight 2276, a Boeing 777-200, aborts takeoff at McCarran International Airport following an engine fire. All 189 passengers and crew are evacuated safely.', '2015 October 2 , Aviastar Flight 7503, a DHC-6 Twin Otter, crashes on a mountain 11 minutes after take-off over Palopo, Indonesia, killing all 10 passengers and crew on board.', '2015 October 29 , Dynamic Airways Flight 405, a Boeing 767-200, erupts in flames while preparing for take-off at Fort Lauderdale-Hollywood International Airport. All 101 passengers and crew on board survive, but 21 people are injured.', '2015 October 31 , Metrojet Flight 9268, an Airbus A321, explodes in mid-air over the Sinai Peninsula due to a terrorist bomb, 23 minutes after takeoff from Sharm-El-Sheikh, killing all 224 passengers and crew on board.', '2016 January 8 , West Air Sweden Flight 294, a Bombardier CRJ200 cargo freighter, crashes while in cruise near Akkajaure in Sweden. Both crew members on board are killed.', '2016 February 2 , Daallo Airlines Flight 159, an Airbus A321, suffers an explosion shortly after taking off from Aden Adde International Airport, Somalia. Two people are injured and one, the suspected suicide bomber, is killed after falling from the aircraft.', '2016 February 24 , Tara Air Flight 193, a Viking Air-built DHC-6 Twin Otter, flies into a storm and crashes into a mountainside at Dana, Myagdi district, Nepal, killing all 23 on board.', '2016 March 19 , Flydubai Flight 981, a Boeing 737-800, crashes while landing at Rostov-on-Don, Russia, in poor weather. All 62 people on board are killed.', '2016 March 29 , EgyptAir Flight 181, an Airbus A320, is hijacked and forcibly diverted to Larnaca International Airport, Cyprus. All passengers and crew are released unharmed.', '2016 April 4 , Batik Air Flight 7703, a Boeing 737-800, collides with an ATR 42 on the runway at Halim Perdanakusma Airport in Jakarta. Both aircraft are substantially damaged. All 60 on board survive.', '2016 May 19 , EgyptAir Flight 804, an Airbus A320, crashes into the eastern Mediterranean Sea after a series of sharp descending turns. All 56 passengers and 10 crew are killed.', '2016 May 27 , Korean Air Flight 2708, a Boeing 777-300, suffers an engine failure and resulting fire while taxiing for takeoff at Haneda Airport; all 319 passengers and crew are evacuated although 12 are injured.', '2016 June 27 , Singapore Airlines Flight 368, a Boeing 777-300ER, suffers an engine fire at Singapore Changi Airport after returning due to a fuel leak. All 241 passengers and crew are unharmed.', '2016 August 3 , Emirates Flight 521, a Boeing 777-300, lands wheels-up at Dubai International Airport. Shortly after landing, the plane bursts into flames. All 300 passengers and crew escape from the aircraft unharmed; one firefighter is killed by an explosion.', '2016 August 5 , ASL Airlines Hungary Flight 7332, a Boeing 737, overruns a runway on landing at Orio al Serio International Airport; both pilots survive.', '2016 August 27 , Southwest Airlines Flight 3472, a Boeing 737, suffers an uncontained engine failure over the Gulf of Mexico causing substantial damage to the aircraft and loss of cabin pressure. The aircraft lands safely at Pensacola International Airport, there are no injuries among the 104 on board.', \"2016 October 28 , American Airlines Flight 383, a Boeing 767-300ER, suffers an uncontained engine failure and fire at Chicago O'Hare Airport. Twenty of the 170 people on board suffer injuries.\", '2016 October 28 , FedEx Express Flight 910, a McDonnell Douglas MD-10-10F, skids off the runway after the landing gear collapses on landing at Fort Lauderdale-Hollywood International Airport; the left wing is severely damaged in a post-crash fire but both pilots survive.', '2016 November 28 , LaMia Airlines Flight 2933, an Avro RJ85, crashes at Cerro Gordo en route to Medellín, Colombia. It was carrying the Brazilian football team Chapecoense. Only six survive among 77 passengers and crew.', '2016 December 7 , Pakistan International Airlines Flight 661, a ATR-42-500, crashes at Havelian while en route from Chitral to Islamabad. All 42 passengers and five crew members are killed in the accident.', '2016 December 20 , Aerosucre Flight 4544, a Boeing 727-200, crashes while failing to take off from Puerto Carreño en route to Bogota, Colombia. Only one survives of the six crew members on board.', '2016 December 23 , Afriqiyah Airways Flight 209, an Airbus A320-214, is hijacked by two Gaddafi supporters and forced to land at Malta Airport. After several hours, all passengers and crew are released and the hijackers surrender.', '2017 January 16 , Turkish Airlines Flight 6491, a Boeing 747-400F, crashes into a residential area upon attempting landing in thick fog in Bishkek, Kyrgyzstan. The four crew members and 35 people on the ground are killed.', '2017 March 28 , Peruvian Airlines Flight 112, a Boeing 737-300, is burnt out following the collapse of the landing gear at Francisco Carle Airport, Jauja. All 150 people on board survive.', '2017 May 27 , Summit Air Flight 409, a Let L-410 operating a cargo flight crashes short of Lukla Airport, Nepal in poor visibility. Two of the three crew members are killed, one of whom dies later in hospital.', '2017 July 7 , Air Canada Flight 759, an Airbus A320, nearly lands on a taxiway occupied by four jets at SFO 28R. No one is killed or injured.', '2017 September 30 , Air France Flight 66, an Airbus A380, suffers an uncontained engine failure and makes an emergency landing at Goose Bay Airport, Canada. No one is killed or injured.', '2017 December 13 , West Wind Aviation Flight 280, an ATR 42-300, crashes shortly after takeoff from Fond-du-Lac Airport, Saskatchewan, Canada. Of the 25 passengers and crew on board, all initially survive, but one passenger dies of his injuries in the hospital 12 days later.', '2018 January 13 , Pegasus Airlines Flight 8622, a Boeing 737-800 skids off the end of the runway at Trabzon Airport, Turkey and comes to rest on a steep hill. All 168 passengers and crew survive and without any injuries.']\n",
      "331\n"
     ]
    }
   ],
   "source": [
    "# TODO: Read and clean raw text file and store in clean_incidents\n",
    "\n",
    "clean_incidents = []\n",
    "\n",
    "with open (\"incidents_raw.txt\", \"r\") as text:\n",
    "    while True:\n",
    "        line = text.readline()\n",
    "        if line:\n",
    "            clean_incidents.append(line.strip(\"[edit]\\n\"))  \n",
    "        else:\n",
    "            break\n",
    "clean_incidents = clean_incidents[clean_incidents.index('1997') : ]\n",
    "new_incidents = []\n",
    "years = range(1997, 2019)\n",
    "str_years=''.join([str(a) for a in years])\n",
    "for item in clean_incidents:\n",
    "    if item in str_years:\n",
    "        year = item\n",
    "    if 'Flight' in item and (item!=''):\n",
    "        item = item.replace('–',',')\n",
    "        new_incidents.append(year +' '+ item)\n",
    "clean_incidents = new_incidents\n",
    "print(clean_incidents)\n",
    "print(len(clean_incidents))\n",
    "    \n"
   ]
  },
  {
   "cell_type": "code",
   "execution_count": 48,
   "metadata": {
    "deletable": false,
    "editable": false,
    "nbgrader": {
     "checksum": "6403fb5aa311ecd11a19a10508a81cfd",
     "grade": true,
     "grade_id": "test_incidents1",
     "locked": true,
     "points": 2,
     "schema_version": 1,
     "solution": false
    }
   },
   "outputs": [
    {
     "name": "stdout",
     "output_type": "stream",
     "text": [
      "[CIS 545 Test Cases] (2 pts)\n"
     ]
    }
   ],
   "source": [
    "# [CIS 545 Test Cases] (2 pts)\n",
    "# Very basic testing of your dataframe...\n",
    "\n",
    "if len(clean_incidents) < 330 or len(clean_incidents) > 335: #331 expected\n",
    "    raise ValueError(\"Don't have the expected number of entries\")\n",
    "\n",
    "if not clean_incidents[0].startswith('1997'):\n",
    "    raise ValueError(\"Don't have the expected start date\")\n",
    "    \n",
    "print('[CIS 545 Test Cases] (2 pts)')"
   ]
  },
  {
   "cell_type": "code",
   "execution_count": 49,
   "metadata": {
    "deletable": false,
    "editable": false,
    "nbgrader": {
     "checksum": "a13d58288c29d6139cbe8f5a8a492f3b",
     "grade": true,
     "grade_id": "test_incidents2",
     "locked": true,
     "points": 2,
     "schema_version": 1,
     "solution": false
    }
   },
   "outputs": [
    {
     "name": "stdout",
     "output_type": "stream",
     "text": [
      "[CIS 545 Test Cases] (2 pts)\n"
     ]
    }
   ],
   "source": [
    "# [CIS 545 Test Cases] (2 pts)\n",
    "# Checking the values in clean_incidents\n",
    "\n",
    "\n",
    "print('[CIS 545 Test Cases] (2 pts)')"
   ]
  },
  {
   "cell_type": "code",
   "execution_count": 50,
   "metadata": {
    "deletable": false,
    "editable": false,
    "nbgrader": {
     "checksum": "4b8ab2b22fb510fc2b0c731a34d7ae68",
     "grade": true,
     "grade_id": "test_incidents3",
     "locked": true,
     "points": 2,
     "schema_version": 1,
     "solution": false
    }
   },
   "outputs": [
    {
     "name": "stdout",
     "output_type": "stream",
     "text": [
      "[CIS 545 Test Cases] (2 pts)\n"
     ]
    }
   ],
   "source": [
    "# [CIS 545 Test Cases] (2 pts)\n",
    "# Checking the values in clean_incidents\n",
    "\n",
    "\n",
    "print('[CIS 545 Test Cases] (2 pts)')"
   ]
  },
  {
   "cell_type": "code",
   "execution_count": 51,
   "metadata": {
    "deletable": false,
    "editable": false,
    "nbgrader": {
     "checksum": "f61bd4b11f71c66c942ddb0c2578e80c",
     "grade": true,
     "grade_id": "test_incidents4",
     "locked": true,
     "points": 2,
     "schema_version": 1,
     "solution": false
    }
   },
   "outputs": [
    {
     "name": "stdout",
     "output_type": "stream",
     "text": [
      "[CIS 545 Test Cases] (2 pts)\n"
     ]
    }
   ],
   "source": [
    "# [CIS 545 Test Cases] (2 pts)\n",
    "# Checking the values in clean_incidents\n",
    "\n",
    "\n",
    "print('[CIS 545 Test Cases] (2 pts)')"
   ]
  },
  {
   "cell_type": "markdown",
   "metadata": {
    "deletable": false,
    "editable": false,
    "nbgrader": {
     "checksum": "b7609b55b932edc6e1971c97b1b03b91",
     "grade": false,
     "grade_id": "convert_overview",
     "locked": true,
     "schema_version": 1,
     "solution": false
    }
   },
   "source": [
    "Now that we have all the aircraft incidents since 1997, we need to convert them into a Pandas DataFrame. Use the empty dataframe `incidents_df`.  For each entry in clean_incidents, extract the date, airline name and flight number (only the part that comes after `Flight`, and you should remove what are called \"stop words\" like a, an, the) then store it as a new row in `incidents_df`. Set the column type of `incidents_df['Date']` to `datetime`. Drop any duplicates from `incidents_df`."
   ]
  },
  {
   "cell_type": "code",
   "execution_count": 52,
   "metadata": {},
   "outputs": [
    {
     "name": "stdout",
     "output_type": "stream",
     "text": [
      "Requirement already satisfied: nltk in /home/jovyan/.local/lib/python3.6/site-packages (3.4)\n",
      "Requirement already satisfied: six in /opt/conda/lib/python3.6/site-packages (from nltk) (1.12.0)\n",
      "Requirement already satisfied: singledispatch in /home/jovyan/.local/lib/python3.6/site-packages (from nltk) (3.4.0.3)\n"
     ]
    }
   ],
   "source": [
    "!pip install nltk --user"
   ]
  },
  {
   "cell_type": "code",
   "execution_count": 53,
   "metadata": {},
   "outputs": [
    {
     "name": "stderr",
     "output_type": "stream",
     "text": [
      "[nltk_data] Downloading package stopwords to /home/jovyan/nltk_data...\n",
      "[nltk_data]   Package stopwords is already up-to-date!\n",
      "[nltk_data] Downloading package punkt to /home/jovyan/nltk_data...\n",
      "[nltk_data]   Package punkt is already up-to-date!\n"
     ]
    }
   ],
   "source": [
    "import nltk\n",
    "nltk.download('stopwords')\n",
    "nltk.download('punkt')\n",
    "from nltk.corpus import stopwords"
   ]
  },
  {
   "cell_type": "code",
   "execution_count": 54,
   "metadata": {},
   "outputs": [
    {
     "name": "stdout",
     "output_type": "stream",
     "text": [
      "1997 January 9 , Comair Flight 3272, an Embraer EMB 120 Brasília, crashes near Ida, Michigan, during a snowstorm, killing all 29 on board.\n"
     ]
    }
   ],
   "source": [
    "print(clean_incidents[0])"
   ]
  },
  {
   "cell_type": "code",
   "execution_count": 91,
   "metadata": {
    "deletable": false,
    "nbgrader": {
     "checksum": "fd85cb6a90a99648c0abd265b17e6b7b",
     "grade": false,
     "grade_id": "convert_incidents",
     "locked": false,
     "schema_version": 1,
     "solution": true
    }
   },
   "outputs": [],
   "source": [
    "# TODO: Convert clean_incidents into dataframe incidents_df\n",
    "\n",
    "# You might find the Natural Language Toolkit (nltk) useful.\n",
    "# See https://www.nltk.org/ for details.\n",
    "#\n",
    "# The stopwords module will let you find and remove not-very-useful\n",
    "# words like articles ('the', 'a'). (We imported it earlier in the assignment)\n",
    "import re\n",
    "from nltk.tokenize import word_tokenize \n",
    "incidents_df = []\n",
    "incidents_df = pd.DataFrame(columns = ['Date', 'Airline', 'FlightNum'])\n",
    "stop_words = set(stopwords.words('english'))\n",
    "for item in clean_incidents:\n",
    "    tokens = word_tokenize(item)\n",
    "    if re.match(r'[0-9]+', tokens[0]):\n",
    "        year = tokens[0]\n",
    "    no_stopword = [w for w in tokens if w not in stop_words]\n",
    "    id_flight = no_stopword.index('Flight')\n",
    "    id_airline_name = no_stopword.index(',')\n",
    "    date=''\n",
    "    for i in range(0, id_airline_name-1):\n",
    "        date=date + no_stopword[i]+' '\n",
    "    date = date + no_stopword[id_airline_name -1]\n",
    "    if id_airline_name < 3:\n",
    "        date = year + ' ' + date\n",
    "    name = ''\n",
    "    for i in range(id_airline_name+1, id_flight-1):\n",
    "        name = name + no_stopword[i]+' '\n",
    "    name = name + no_stopword[id_flight -1]\n",
    "    if re.match(r'[0-9]*', no_stopword[id_flight + 1]):\n",
    "        flight_num = ''.join(no_stopword[id_flight + 1])\n",
    "    entity = {'Date' : date, 'Airline' : name, 'FlightNum' : flight_num}\n",
    "    incidents_df = incidents_df.append(entity, ignore_index = True)\n",
    "    \n"
   ]
  },
  {
   "cell_type": "code",
   "execution_count": 92,
   "metadata": {},
   "outputs": [
    {
     "name": "stdout",
     "output_type": "stream",
     "text": [
      "                  Date                            Airline FlightNum\n",
      "0       1997 January 9                             Comair      3272\n",
      "1        1997 March 18  Stavropolskaya Aktsionernaya Avia      1023\n",
      "2        1997 April 19         Merpati Nusantara Airlines       106\n",
      "3           1997 May 8            China Southern Airlines      3456\n",
      "4         1997 July 31                      FedEx Express        14\n",
      "5         1997 July 17                        Sempati Air       304\n",
      "6        1997 August 6                         Korean Air       801\n",
      "7       1997 August 10                   Formosa Airlines      7601\n",
      "8     1997 September 3                   Vietnam Airlines       815\n",
      "9     1997 September 6              Royal Brunei Airlines       238\n",
      "10   1997 September 26                   Garuda Indonesia       152\n",
      "11     1997 October 10              Austral Líneas Aéreas      2553\n",
      "12    1997 December 15                Tajikistan Airlines      3183\n",
      "13    1997 December 17                           Aerosvit       241\n",
      "14    1997 December 19                            SilkAir       185\n",
      "15    1997 December 28                    United Airlines       826\n",
      "16     1998 February 2                       Cebu Pacific       387\n",
      "17    1998 February 16                     China Airlines       676\n",
      "18       1998 March 22                Philippine Airlines       137\n",
      "19       1998 April 20                         Air France       422\n",
      "20         1998 May 25                                PIA       544\n",
      "21        1998 June 18                            Propair       420\n",
      "22        1998 July 30                   Proteus Airlines       706\n",
      "23      1998 August 24                     Myanma Airways       635\n",
      "24      1998 August 29                 Cubana de Aviación       389\n",
      "25    1998 September 2                           Swissair       111\n",
      "26   1998 September 25                           PauknAir      4101\n",
      "27   1998 September 29                            Lionair       602\n",
      "28    1998 December 11         Thai Airways International       261\n",
      "29    1999 February 24           China Southwest Airlines      4509\n",
      "..                 ...                                ...       ...\n",
      "301   2015 September 5    Ceiba Intercontinental Airlines        71\n",
      "302   2015 September 8                    British Airways      2276\n",
      "303     2015 October 2                           Aviastar      7503\n",
      "304    2015 October 29                    Dynamic Airways       405\n",
      "305    2015 October 31                           Metrojet      9268\n",
      "306     2016 January 8                    West Air Sweden       294\n",
      "307    2016 February 2                    Daallo Airlines       159\n",
      "308   2016 February 24                           Tara Air       193\n",
      "309      2016 March 19                           Flydubai       981\n",
      "310      2016 March 29                           EgyptAir       181\n",
      "311       2016 April 4                          Batik Air      7703\n",
      "312        2016 May 19                           EgyptAir       804\n",
      "313        2016 May 27                         Korean Air      2708\n",
      "314       2016 June 27                 Singapore Airlines       368\n",
      "315      2016 August 3                           Emirates       521\n",
      "316      2016 August 5               ASL Airlines Hungary      7332\n",
      "317     2016 August 27                 Southwest Airlines      3472\n",
      "318    2016 October 28                  American Airlines       383\n",
      "319    2016 October 28                      FedEx Express       910\n",
      "320   2016 November 28                     LaMia Airlines      2933\n",
      "321    2016 December 7    Pakistan International Airlines       661\n",
      "322   2016 December 20                          Aerosucre      4544\n",
      "323   2016 December 23                  Afriqiyah Airways       209\n",
      "324    2017 January 16                   Turkish Airlines      6491\n",
      "325      2017 March 28                  Peruvian Airlines       112\n",
      "326        2017 May 27                         Summit Air       409\n",
      "327        2017 July 7                         Air Canada       759\n",
      "328  2017 September 30                         Air France        66\n",
      "329   2017 December 13                 West Wind Aviation       280\n",
      "330    2018 January 13                   Pegasus Airlines      8622\n",
      "\n",
      "[331 rows x 3 columns]\n"
     ]
    }
   ],
   "source": [
    "print(incidents_df)"
   ]
  },
  {
   "cell_type": "code",
   "execution_count": 93,
   "metadata": {
    "deletable": false,
    "editable": false,
    "nbgrader": {
     "checksum": "1a18f8476c8a4f84903eae25fb6e0c75",
     "grade": true,
     "grade_id": "test_incidents5",
     "locked": true,
     "points": 3,
     "schema_version": 1,
     "solution": false
    }
   },
   "outputs": [
    {
     "name": "stdout",
     "output_type": "stream",
     "text": [
      "[CIS 545 Test Cases] (3 pts)\n"
     ]
    }
   ],
   "source": [
    "# [CIS 545 Test Cases] (3 pts)\n",
    "# Checking your dataframe size and shape\n",
    "\n",
    "if len(incidents_df) < 330 or len(incidents_df) > 335: \n",
    "    raise ValueError(\"Don't have the expected number of entries\")\n",
    "\n",
    "if incidents_df.shape[1] != 3:\n",
    "    raise ValueError(\"Don't have the expected number of fields\")\n",
    "\n",
    "if not ((incidents_df['Airline'] == 'Cebu Pacific') & \\\n",
    "        (incidents_df['Date'] == '1998 February 2') & \\\n",
    "        (incidents_df['FlightNum'] == '387')).any():\n",
    "    raise ValueError('You might need to clean your data a bit better')\n",
    "    \n",
    "print('[CIS 545 Test Cases] (3 pts)')"
   ]
  },
  {
   "cell_type": "code",
   "execution_count": 94,
   "metadata": {
    "deletable": false,
    "editable": false,
    "nbgrader": {
     "checksum": "294cc185b98e4471bc9d8799e03bc54d",
     "grade": true,
     "grade_id": "test_incidents6",
     "locked": true,
     "points": 2,
     "schema_version": 1,
     "solution": false
    }
   },
   "outputs": [
    {
     "name": "stdout",
     "output_type": "stream",
     "text": [
      "[CIS 545 Test Cases] (2 pts)\n"
     ]
    }
   ],
   "source": [
    "# [CIS 545 Test Cases] (2 pts)\n",
    "# We're going to be testing your data cleaning more thoroughly here\n",
    "\n",
    "\n",
    "print('[CIS 545 Test Cases] (2 pts)')"
   ]
  },
  {
   "cell_type": "code",
   "execution_count": 95,
   "metadata": {
    "deletable": false,
    "editable": false,
    "nbgrader": {
     "checksum": "2c24edc486bf67c154e2763f49c676e6",
     "grade": true,
     "grade_id": "test_incidents7",
     "locked": true,
     "points": 2,
     "schema_version": 1,
     "solution": false
    }
   },
   "outputs": [
    {
     "name": "stdout",
     "output_type": "stream",
     "text": [
      "[CIS 545 Test Cases] (2 pts)\n"
     ]
    }
   ],
   "source": [
    "# [CIS 545 Test Cases] (2 pts)\n",
    "# We're going to be testing your data cleaning more thoroughly here\n",
    "\n",
    "\n",
    "print('[CIS 545 Test Cases] (2 pts)')"
   ]
  },
  {
   "cell_type": "markdown",
   "metadata": {
    "deletable": false,
    "editable": false,
    "nbgrader": {
     "checksum": "40860929554c3f871a43e8a1fa515328",
     "grade": false,
     "grade_id": "change_date_drops",
     "locked": true,
     "schema_version": 1,
     "solution": false
    }
   },
   "source": [
    "Now, we want to change the column type and clean data a bit further"
   ]
  },
  {
   "cell_type": "code",
   "execution_count": 96,
   "metadata": {
    "deletable": false,
    "nbgrader": {
     "checksum": "bafa402b0a69b2527bdc4f6b8ac76633",
     "grade": false,
     "grade_id": "change_date",
     "locked": false,
     "schema_version": 1,
     "solution": true
    }
   },
   "outputs": [
    {
     "name": "stdout",
     "output_type": "stream",
     "text": [
      "0     1997-01-09\n",
      "1     1997-03-18\n",
      "2     1997-04-19\n",
      "3     1997-05-08\n",
      "4     1997-07-31\n",
      "5     1997-07-17\n",
      "6     1997-08-06\n",
      "7     1997-08-10\n",
      "8     1997-09-03\n",
      "9     1997-09-06\n",
      "10    1997-09-26\n",
      "11    1997-10-10\n",
      "12    1997-12-15\n",
      "13    1997-12-17\n",
      "14    1997-12-19\n",
      "15    1997-12-28\n",
      "16    1998-02-02\n",
      "17    1998-02-16\n",
      "18    1998-03-22\n",
      "19    1998-04-20\n",
      "20    1998-05-25\n",
      "21    1998-06-18\n",
      "22    1998-07-30\n",
      "23    1998-08-24\n",
      "24    1998-08-29\n",
      "25    1998-09-02\n",
      "26    1998-09-25\n",
      "27    1998-09-29\n",
      "28    1998-12-11\n",
      "29    1999-02-24\n",
      "         ...    \n",
      "301   2015-09-05\n",
      "302   2015-09-08\n",
      "303   2015-10-02\n",
      "304   2015-10-29\n",
      "305   2015-10-31\n",
      "306   2016-01-08\n",
      "307   2016-02-02\n",
      "308   2016-02-24\n",
      "309   2016-03-19\n",
      "310   2016-03-29\n",
      "311   2016-04-04\n",
      "312   2016-05-19\n",
      "313   2016-05-27\n",
      "314   2016-06-27\n",
      "315   2016-08-03\n",
      "316   2016-08-05\n",
      "317   2016-08-27\n",
      "318   2016-10-28\n",
      "319   2016-10-28\n",
      "320   2016-11-28\n",
      "321   2016-12-07\n",
      "322   2016-12-20\n",
      "323   2016-12-23\n",
      "324   2017-01-16\n",
      "325   2017-03-28\n",
      "326   2017-05-27\n",
      "327   2017-07-07\n",
      "328   2017-09-30\n",
      "329   2017-12-13\n",
      "330   2018-01-13\n",
      "Name: Date, Length: 322, dtype: datetime64[ns]\n"
     ]
    }
   ],
   "source": [
    "# TODO: Change column type of 'Date' and drop duplicates\n",
    "from datetime import datetime\n",
    "incidents_df.dropna(axis=0, how=\"any\", \\\n",
    "                 inplace=True)\n",
    "#print(incidents_df['Date'])\n",
    "for i in range(len(incidents_df['Date'])):\n",
    "    incidents_df['Date'][i] = datetime.strptime(incidents_df['Date'][i], '%Y %B %d')\n",
    "incidents_df['Date'] = pd.to_datetime(incidents_df['Date'], format = '%Y-%B-%d')\n",
    "incidents_df.drop_duplicates(inplace=True)\n",
    "print(incidents_df['Date'])"
   ]
  },
  {
   "cell_type": "code",
   "execution_count": null,
   "metadata": {
    "scrolled": true
   },
   "outputs": [],
   "source": []
  },
  {
   "cell_type": "code",
   "execution_count": 97,
   "metadata": {
    "deletable": false,
    "editable": false,
    "nbgrader": {
     "checksum": "5854a13da392e1c8af23ce50783f5c52",
     "grade": true,
     "grade_id": "test_date1",
     "locked": true,
     "points": 2,
     "schema_version": 1,
     "solution": false
    }
   },
   "outputs": [
    {
     "name": "stdout",
     "output_type": "stream",
     "text": [
      "[CIS 545 Test Cases] (2 pts)\n"
     ]
    }
   ],
   "source": [
    "# [CIS 545 Test Cases] (2 pts)\n",
    "\n",
    "\n",
    "print('[CIS 545 Test Cases] (2 pts)')"
   ]
  },
  {
   "cell_type": "markdown",
   "metadata": {
    "deletable": false,
    "editable": false,
    "nbgrader": {
     "checksum": "9affff4213c5b0b1c2a3cc2d0635572f",
     "grade": false,
     "grade_id": "final_output",
     "locked": true,
     "schema_version": 1,
     "solution": false
    }
   },
   "source": [
    "## Final Output\n",
    "\n",
    "The following cells just show what the data looks like.  You should sanity check that it makes sense."
   ]
  },
  {
   "cell_type": "code",
   "execution_count": 98,
   "metadata": {
    "deletable": false,
    "editable": false,
    "nbgrader": {
     "checksum": "e3d6cdbf5733e81ebbb0b087157f526a",
     "grade": false,
     "grade_id": "airports_head2",
     "locked": true,
     "schema_version": 1,
     "solution": false
    }
   },
   "outputs": [
    {
     "data": {
      "text/html": [
       "<div>\n",
       "<style scoped>\n",
       "    .dataframe tbody tr th:only-of-type {\n",
       "        vertical-align: middle;\n",
       "    }\n",
       "\n",
       "    .dataframe tbody tr th {\n",
       "        vertical-align: top;\n",
       "    }\n",
       "\n",
       "    .dataframe thead th {\n",
       "        text-align: right;\n",
       "    }\n",
       "</style>\n",
       "<table border=\"1\" class=\"dataframe\">\n",
       "  <thead>\n",
       "    <tr style=\"text-align: right;\">\n",
       "      <th></th>\n",
       "      <th>airport_id</th>\n",
       "      <th>airport_name</th>\n",
       "      <th>airport_city</th>\n",
       "      <th>airport_country</th>\n",
       "      <th>airport_iata</th>\n",
       "      <th>airport_icao</th>\n",
       "      <th>lat</th>\n",
       "      <th>lon</th>\n",
       "      <th>alt</th>\n",
       "      <th>timezone</th>\n",
       "      <th>dst</th>\n",
       "      <th>tz</th>\n",
       "    </tr>\n",
       "  </thead>\n",
       "  <tbody>\n",
       "    <tr>\n",
       "      <th>0</th>\n",
       "      <td>1</td>\n",
       "      <td>Goroka</td>\n",
       "      <td>Goroka</td>\n",
       "      <td>Papua New Guinea</td>\n",
       "      <td>GKA</td>\n",
       "      <td>AYGA</td>\n",
       "      <td>-6.081689</td>\n",
       "      <td>145.391881</td>\n",
       "      <td>5282</td>\n",
       "      <td>10.0</td>\n",
       "      <td>U</td>\n",
       "      <td>Pacific/Port_Moresby</td>\n",
       "    </tr>\n",
       "    <tr>\n",
       "      <th>1</th>\n",
       "      <td>2</td>\n",
       "      <td>Madang</td>\n",
       "      <td>Madang</td>\n",
       "      <td>Papua New Guinea</td>\n",
       "      <td>MAG</td>\n",
       "      <td>AYMD</td>\n",
       "      <td>-5.207083</td>\n",
       "      <td>145.788700</td>\n",
       "      <td>20</td>\n",
       "      <td>10.0</td>\n",
       "      <td>U</td>\n",
       "      <td>Pacific/Port_Moresby</td>\n",
       "    </tr>\n",
       "    <tr>\n",
       "      <th>2</th>\n",
       "      <td>3</td>\n",
       "      <td>Mount Hagen</td>\n",
       "      <td>Mount Hagen</td>\n",
       "      <td>Papua New Guinea</td>\n",
       "      <td>HGU</td>\n",
       "      <td>AYMH</td>\n",
       "      <td>-5.826789</td>\n",
       "      <td>144.295861</td>\n",
       "      <td>5388</td>\n",
       "      <td>10.0</td>\n",
       "      <td>U</td>\n",
       "      <td>Pacific/Port_Moresby</td>\n",
       "    </tr>\n",
       "    <tr>\n",
       "      <th>3</th>\n",
       "      <td>4</td>\n",
       "      <td>Nadzab</td>\n",
       "      <td>Nadzab</td>\n",
       "      <td>Papua New Guinea</td>\n",
       "      <td>LAE</td>\n",
       "      <td>AYNZ</td>\n",
       "      <td>-6.569828</td>\n",
       "      <td>146.726242</td>\n",
       "      <td>239</td>\n",
       "      <td>10.0</td>\n",
       "      <td>U</td>\n",
       "      <td>Pacific/Port_Moresby</td>\n",
       "    </tr>\n",
       "    <tr>\n",
       "      <th>4</th>\n",
       "      <td>5</td>\n",
       "      <td>Port Moresby Jacksons Intl</td>\n",
       "      <td>Port Moresby</td>\n",
       "      <td>Papua New Guinea</td>\n",
       "      <td>POM</td>\n",
       "      <td>AYPY</td>\n",
       "      <td>-9.443383</td>\n",
       "      <td>147.220050</td>\n",
       "      <td>146</td>\n",
       "      <td>10.0</td>\n",
       "      <td>U</td>\n",
       "      <td>Pacific/Port_Moresby</td>\n",
       "    </tr>\n",
       "    <tr>\n",
       "      <th>5</th>\n",
       "      <td>6</td>\n",
       "      <td>Wewak Intl</td>\n",
       "      <td>Wewak</td>\n",
       "      <td>Papua New Guinea</td>\n",
       "      <td>WWK</td>\n",
       "      <td>AYWK</td>\n",
       "      <td>-3.583828</td>\n",
       "      <td>143.669186</td>\n",
       "      <td>19</td>\n",
       "      <td>10.0</td>\n",
       "      <td>U</td>\n",
       "      <td>Pacific/Port_Moresby</td>\n",
       "    </tr>\n",
       "    <tr>\n",
       "      <th>6</th>\n",
       "      <td>7</td>\n",
       "      <td>Narsarsuaq</td>\n",
       "      <td>Narssarssuaq</td>\n",
       "      <td>Greenland</td>\n",
       "      <td>UAK</td>\n",
       "      <td>BGBW</td>\n",
       "      <td>61.160517</td>\n",
       "      <td>-45.425978</td>\n",
       "      <td>112</td>\n",
       "      <td>-3.0</td>\n",
       "      <td>E</td>\n",
       "      <td>America/Godthab</td>\n",
       "    </tr>\n",
       "    <tr>\n",
       "      <th>7</th>\n",
       "      <td>8</td>\n",
       "      <td>Nuuk</td>\n",
       "      <td>Godthaab</td>\n",
       "      <td>Greenland</td>\n",
       "      <td>GOH</td>\n",
       "      <td>BGGH</td>\n",
       "      <td>64.190922</td>\n",
       "      <td>-51.678064</td>\n",
       "      <td>283</td>\n",
       "      <td>-3.0</td>\n",
       "      <td>E</td>\n",
       "      <td>America/Godthab</td>\n",
       "    </tr>\n",
       "    <tr>\n",
       "      <th>8</th>\n",
       "      <td>9</td>\n",
       "      <td>Sondre Stromfjord</td>\n",
       "      <td>Sondrestrom</td>\n",
       "      <td>Greenland</td>\n",
       "      <td>SFJ</td>\n",
       "      <td>BGSF</td>\n",
       "      <td>67.016969</td>\n",
       "      <td>-50.689325</td>\n",
       "      <td>165</td>\n",
       "      <td>-3.0</td>\n",
       "      <td>E</td>\n",
       "      <td>America/Godthab</td>\n",
       "    </tr>\n",
       "    <tr>\n",
       "      <th>9</th>\n",
       "      <td>10</td>\n",
       "      <td>Thule Air Base</td>\n",
       "      <td>Thule</td>\n",
       "      <td>Greenland</td>\n",
       "      <td>THU</td>\n",
       "      <td>BGTL</td>\n",
       "      <td>76.531203</td>\n",
       "      <td>-68.703161</td>\n",
       "      <td>251</td>\n",
       "      <td>-4.0</td>\n",
       "      <td>E</td>\n",
       "      <td>America/Thule</td>\n",
       "    </tr>\n",
       "  </tbody>\n",
       "</table>\n",
       "</div>"
      ],
      "text/plain": [
       "   airport_id                airport_name  airport_city   airport_country  \\\n",
       "0           1                      Goroka        Goroka  Papua New Guinea   \n",
       "1           2                      Madang        Madang  Papua New Guinea   \n",
       "2           3                 Mount Hagen   Mount Hagen  Papua New Guinea   \n",
       "3           4                      Nadzab        Nadzab  Papua New Guinea   \n",
       "4           5  Port Moresby Jacksons Intl  Port Moresby  Papua New Guinea   \n",
       "5           6                  Wewak Intl         Wewak  Papua New Guinea   \n",
       "6           7                  Narsarsuaq  Narssarssuaq         Greenland   \n",
       "7           8                        Nuuk      Godthaab         Greenland   \n",
       "8           9           Sondre Stromfjord   Sondrestrom         Greenland   \n",
       "9          10              Thule Air Base         Thule         Greenland   \n",
       "\n",
       "  airport_iata airport_icao        lat         lon   alt  timezone dst  \\\n",
       "0          GKA         AYGA  -6.081689  145.391881  5282      10.0   U   \n",
       "1          MAG         AYMD  -5.207083  145.788700    20      10.0   U   \n",
       "2          HGU         AYMH  -5.826789  144.295861  5388      10.0   U   \n",
       "3          LAE         AYNZ  -6.569828  146.726242   239      10.0   U   \n",
       "4          POM         AYPY  -9.443383  147.220050   146      10.0   U   \n",
       "5          WWK         AYWK  -3.583828  143.669186    19      10.0   U   \n",
       "6          UAK         BGBW  61.160517  -45.425978   112      -3.0   E   \n",
       "7          GOH         BGGH  64.190922  -51.678064   283      -3.0   E   \n",
       "8          SFJ         BGSF  67.016969  -50.689325   165      -3.0   E   \n",
       "9          THU         BGTL  76.531203  -68.703161   251      -4.0   E   \n",
       "\n",
       "                     tz  \n",
       "0  Pacific/Port_Moresby  \n",
       "1  Pacific/Port_Moresby  \n",
       "2  Pacific/Port_Moresby  \n",
       "3  Pacific/Port_Moresby  \n",
       "4  Pacific/Port_Moresby  \n",
       "5  Pacific/Port_Moresby  \n",
       "6       America/Godthab  \n",
       "7       America/Godthab  \n",
       "8       America/Godthab  \n",
       "9         America/Thule  "
      ]
     },
     "execution_count": 98,
     "metadata": {},
     "output_type": "execute_result"
    }
   ],
   "source": [
    "airports_df.head(10)"
   ]
  },
  {
   "cell_type": "code",
   "execution_count": 99,
   "metadata": {
    "deletable": false,
    "editable": false,
    "nbgrader": {
     "checksum": "7d9ce18e14b74280115a0c4b153b6c5d",
     "grade": false,
     "grade_id": "airlines_head2",
     "locked": true,
     "schema_version": 1,
     "solution": false
    }
   },
   "outputs": [
    {
     "data": {
      "text/html": [
       "<div>\n",
       "<style scoped>\n",
       "    .dataframe tbody tr th:only-of-type {\n",
       "        vertical-align: middle;\n",
       "    }\n",
       "\n",
       "    .dataframe tbody tr th {\n",
       "        vertical-align: top;\n",
       "    }\n",
       "\n",
       "    .dataframe thead th {\n",
       "        text-align: right;\n",
       "    }\n",
       "</style>\n",
       "<table border=\"1\" class=\"dataframe\">\n",
       "  <thead>\n",
       "    <tr style=\"text-align: right;\">\n",
       "      <th></th>\n",
       "      <th>airline_id</th>\n",
       "      <th>airline_name</th>\n",
       "      <th>alias</th>\n",
       "      <th>airline_iata</th>\n",
       "      <th>airline_icao</th>\n",
       "      <th>callsign</th>\n",
       "      <th>airline_country</th>\n",
       "      <th>active</th>\n",
       "    </tr>\n",
       "  </thead>\n",
       "  <tbody>\n",
       "    <tr>\n",
       "      <th>0</th>\n",
       "      <td>1</td>\n",
       "      <td>Private flight</td>\n",
       "      <td></td>\n",
       "      <td>-</td>\n",
       "      <td></td>\n",
       "      <td></td>\n",
       "      <td></td>\n",
       "      <td>Y</td>\n",
       "    </tr>\n",
       "    <tr>\n",
       "      <th>1</th>\n",
       "      <td>2</td>\n",
       "      <td>135 Airways</td>\n",
       "      <td></td>\n",
       "      <td></td>\n",
       "      <td>GNL</td>\n",
       "      <td>GENERAL</td>\n",
       "      <td>United States</td>\n",
       "      <td>N</td>\n",
       "    </tr>\n",
       "    <tr>\n",
       "      <th>2</th>\n",
       "      <td>3</td>\n",
       "      <td>1Time Airline</td>\n",
       "      <td></td>\n",
       "      <td>1T</td>\n",
       "      <td>RNX</td>\n",
       "      <td>NEXTIME</td>\n",
       "      <td>South Africa</td>\n",
       "      <td>Y</td>\n",
       "    </tr>\n",
       "    <tr>\n",
       "      <th>3</th>\n",
       "      <td>4</td>\n",
       "      <td>2 Sqn No 1 Elementary Flying Training School</td>\n",
       "      <td></td>\n",
       "      <td></td>\n",
       "      <td>WYT</td>\n",
       "      <td></td>\n",
       "      <td>United Kingdom</td>\n",
       "      <td>N</td>\n",
       "    </tr>\n",
       "    <tr>\n",
       "      <th>4</th>\n",
       "      <td>5</td>\n",
       "      <td>213 Flight Unit</td>\n",
       "      <td></td>\n",
       "      <td></td>\n",
       "      <td>TFU</td>\n",
       "      <td></td>\n",
       "      <td>Russia</td>\n",
       "      <td>N</td>\n",
       "    </tr>\n",
       "    <tr>\n",
       "      <th>5</th>\n",
       "      <td>6</td>\n",
       "      <td>223 Flight Unit State Airline</td>\n",
       "      <td></td>\n",
       "      <td></td>\n",
       "      <td>CHD</td>\n",
       "      <td>CHKALOVSK-AVIA</td>\n",
       "      <td>Russia</td>\n",
       "      <td>N</td>\n",
       "    </tr>\n",
       "    <tr>\n",
       "      <th>6</th>\n",
       "      <td>7</td>\n",
       "      <td>224th Flight Unit</td>\n",
       "      <td></td>\n",
       "      <td></td>\n",
       "      <td>TTF</td>\n",
       "      <td>CARGO UNIT</td>\n",
       "      <td>Russia</td>\n",
       "      <td>N</td>\n",
       "    </tr>\n",
       "    <tr>\n",
       "      <th>7</th>\n",
       "      <td>8</td>\n",
       "      <td>247 Jet Ltd</td>\n",
       "      <td></td>\n",
       "      <td></td>\n",
       "      <td>TWF</td>\n",
       "      <td>CLOUD RUNNER</td>\n",
       "      <td>United Kingdom</td>\n",
       "      <td>N</td>\n",
       "    </tr>\n",
       "    <tr>\n",
       "      <th>8</th>\n",
       "      <td>9</td>\n",
       "      <td>3D Aviation</td>\n",
       "      <td></td>\n",
       "      <td></td>\n",
       "      <td>SEC</td>\n",
       "      <td>SECUREX</td>\n",
       "      <td>United States</td>\n",
       "      <td>N</td>\n",
       "    </tr>\n",
       "    <tr>\n",
       "      <th>9</th>\n",
       "      <td>10</td>\n",
       "      <td>40-Mile Air</td>\n",
       "      <td></td>\n",
       "      <td>Q5</td>\n",
       "      <td>MLA</td>\n",
       "      <td>MILE-AIR</td>\n",
       "      <td>United States</td>\n",
       "      <td>Y</td>\n",
       "    </tr>\n",
       "  </tbody>\n",
       "</table>\n",
       "</div>"
      ],
      "text/plain": [
       "   airline_id                                  airline_name alias  \\\n",
       "0           1                                Private flight         \n",
       "1           2                                   135 Airways         \n",
       "2           3                                 1Time Airline         \n",
       "3           4  2 Sqn No 1 Elementary Flying Training School         \n",
       "4           5                               213 Flight Unit         \n",
       "5           6                 223 Flight Unit State Airline         \n",
       "6           7                             224th Flight Unit         \n",
       "7           8                                   247 Jet Ltd         \n",
       "8           9                                   3D Aviation         \n",
       "9          10                                   40-Mile Air         \n",
       "\n",
       "  airline_iata airline_icao        callsign airline_country active  \n",
       "0            -                                                   Y  \n",
       "1                       GNL         GENERAL   United States      N  \n",
       "2           1T          RNX         NEXTIME    South Africa      Y  \n",
       "3                       WYT                  United Kingdom      N  \n",
       "4                       TFU                          Russia      N  \n",
       "5                       CHD  CHKALOVSK-AVIA          Russia      N  \n",
       "6                       TTF      CARGO UNIT          Russia      N  \n",
       "7                       TWF    CLOUD RUNNER  United Kingdom      N  \n",
       "8                       SEC         SECUREX   United States      N  \n",
       "9           Q5          MLA        MILE-AIR   United States      Y  "
      ]
     },
     "execution_count": 99,
     "metadata": {},
     "output_type": "execute_result"
    }
   ],
   "source": [
    "airlines_df.head(10)"
   ]
  },
  {
   "cell_type": "code",
   "execution_count": 100,
   "metadata": {
    "deletable": false,
    "editable": false,
    "nbgrader": {
     "checksum": "b9e432ac7472772ec82eeaa888206421",
     "grade": false,
     "grade_id": "routes_head2",
     "locked": true,
     "schema_version": 1,
     "solution": false
    }
   },
   "outputs": [
    {
     "data": {
      "text/html": [
       "<div>\n",
       "<style scoped>\n",
       "    .dataframe tbody tr th:only-of-type {\n",
       "        vertical-align: middle;\n",
       "    }\n",
       "\n",
       "    .dataframe tbody tr th {\n",
       "        vertical-align: top;\n",
       "    }\n",
       "\n",
       "    .dataframe thead th {\n",
       "        text-align: right;\n",
       "    }\n",
       "</style>\n",
       "<table border=\"1\" class=\"dataframe\">\n",
       "  <thead>\n",
       "    <tr style=\"text-align: right;\">\n",
       "      <th></th>\n",
       "      <th>airline</th>\n",
       "      <th>airline_id</th>\n",
       "      <th>src_iata_icao</th>\n",
       "      <th>source_id</th>\n",
       "      <th>target_iata_icao</th>\n",
       "      <th>target_id</th>\n",
       "      <th>code_share</th>\n",
       "      <th>stops</th>\n",
       "      <th>equipment</th>\n",
       "    </tr>\n",
       "  </thead>\n",
       "  <tbody>\n",
       "    <tr>\n",
       "      <th>0</th>\n",
       "      <td>2B</td>\n",
       "      <td>410</td>\n",
       "      <td>AER</td>\n",
       "      <td>2965</td>\n",
       "      <td>KZN</td>\n",
       "      <td>2990</td>\n",
       "      <td></td>\n",
       "      <td>0</td>\n",
       "      <td>CR2</td>\n",
       "    </tr>\n",
       "    <tr>\n",
       "      <th>1</th>\n",
       "      <td>2B</td>\n",
       "      <td>410</td>\n",
       "      <td>ASF</td>\n",
       "      <td>2966</td>\n",
       "      <td>KZN</td>\n",
       "      <td>2990</td>\n",
       "      <td></td>\n",
       "      <td>0</td>\n",
       "      <td>CR2</td>\n",
       "    </tr>\n",
       "    <tr>\n",
       "      <th>2</th>\n",
       "      <td>2B</td>\n",
       "      <td>410</td>\n",
       "      <td>ASF</td>\n",
       "      <td>2966</td>\n",
       "      <td>MRV</td>\n",
       "      <td>2962</td>\n",
       "      <td></td>\n",
       "      <td>0</td>\n",
       "      <td>CR2</td>\n",
       "    </tr>\n",
       "    <tr>\n",
       "      <th>3</th>\n",
       "      <td>2B</td>\n",
       "      <td>410</td>\n",
       "      <td>CEK</td>\n",
       "      <td>2968</td>\n",
       "      <td>KZN</td>\n",
       "      <td>2990</td>\n",
       "      <td></td>\n",
       "      <td>0</td>\n",
       "      <td>CR2</td>\n",
       "    </tr>\n",
       "    <tr>\n",
       "      <th>4</th>\n",
       "      <td>2B</td>\n",
       "      <td>410</td>\n",
       "      <td>CEK</td>\n",
       "      <td>2968</td>\n",
       "      <td>OVB</td>\n",
       "      <td>4078</td>\n",
       "      <td></td>\n",
       "      <td>0</td>\n",
       "      <td>CR2</td>\n",
       "    </tr>\n",
       "    <tr>\n",
       "      <th>5</th>\n",
       "      <td>2B</td>\n",
       "      <td>410</td>\n",
       "      <td>DME</td>\n",
       "      <td>4029</td>\n",
       "      <td>KZN</td>\n",
       "      <td>2990</td>\n",
       "      <td></td>\n",
       "      <td>0</td>\n",
       "      <td>CR2</td>\n",
       "    </tr>\n",
       "    <tr>\n",
       "      <th>6</th>\n",
       "      <td>2B</td>\n",
       "      <td>410</td>\n",
       "      <td>DME</td>\n",
       "      <td>4029</td>\n",
       "      <td>NBC</td>\n",
       "      <td>6969</td>\n",
       "      <td></td>\n",
       "      <td>0</td>\n",
       "      <td>CR2</td>\n",
       "    </tr>\n",
       "    <tr>\n",
       "      <th>8</th>\n",
       "      <td>2B</td>\n",
       "      <td>410</td>\n",
       "      <td>DME</td>\n",
       "      <td>4029</td>\n",
       "      <td>UUA</td>\n",
       "      <td>6160</td>\n",
       "      <td></td>\n",
       "      <td>0</td>\n",
       "      <td>CR2</td>\n",
       "    </tr>\n",
       "    <tr>\n",
       "      <th>9</th>\n",
       "      <td>2B</td>\n",
       "      <td>410</td>\n",
       "      <td>EGO</td>\n",
       "      <td>6156</td>\n",
       "      <td>KGD</td>\n",
       "      <td>2952</td>\n",
       "      <td></td>\n",
       "      <td>0</td>\n",
       "      <td>CR2</td>\n",
       "    </tr>\n",
       "    <tr>\n",
       "      <th>10</th>\n",
       "      <td>2B</td>\n",
       "      <td>410</td>\n",
       "      <td>EGO</td>\n",
       "      <td>6156</td>\n",
       "      <td>KZN</td>\n",
       "      <td>2990</td>\n",
       "      <td></td>\n",
       "      <td>0</td>\n",
       "      <td>CR2</td>\n",
       "    </tr>\n",
       "  </tbody>\n",
       "</table>\n",
       "</div>"
      ],
      "text/plain": [
       "   airline  airline_id src_iata_icao  source_id target_iata_icao  target_id  \\\n",
       "0       2B         410           AER       2965              KZN       2990   \n",
       "1       2B         410           ASF       2966              KZN       2990   \n",
       "2       2B         410           ASF       2966              MRV       2962   \n",
       "3       2B         410           CEK       2968              KZN       2990   \n",
       "4       2B         410           CEK       2968              OVB       4078   \n",
       "5       2B         410           DME       4029              KZN       2990   \n",
       "6       2B         410           DME       4029              NBC       6969   \n",
       "8       2B         410           DME       4029              UUA       6160   \n",
       "9       2B         410           EGO       6156              KGD       2952   \n",
       "10      2B         410           EGO       6156              KZN       2990   \n",
       "\n",
       "   code_share  stops equipment  \n",
       "0                  0       CR2  \n",
       "1                  0       CR2  \n",
       "2                  0       CR2  \n",
       "3                  0       CR2  \n",
       "4                  0       CR2  \n",
       "5                  0       CR2  \n",
       "6                  0       CR2  \n",
       "8                  0       CR2  \n",
       "9                  0       CR2  \n",
       "10                 0       CR2  "
      ]
     },
     "execution_count": 100,
     "metadata": {},
     "output_type": "execute_result"
    }
   ],
   "source": [
    "routes_df.head(10)"
   ]
  },
  {
   "cell_type": "code",
   "execution_count": 101,
   "metadata": {
    "deletable": false,
    "editable": false,
    "nbgrader": {
     "checksum": "ed8cfc9d74616872261ddb38efaa968d",
     "grade": false,
     "grade_id": "incidents_head2",
     "locked": true,
     "schema_version": 1,
     "solution": false
    }
   },
   "outputs": [
    {
     "data": {
      "text/html": [
       "<div>\n",
       "<style scoped>\n",
       "    .dataframe tbody tr th:only-of-type {\n",
       "        vertical-align: middle;\n",
       "    }\n",
       "\n",
       "    .dataframe tbody tr th {\n",
       "        vertical-align: top;\n",
       "    }\n",
       "\n",
       "    .dataframe thead th {\n",
       "        text-align: right;\n",
       "    }\n",
       "</style>\n",
       "<table border=\"1\" class=\"dataframe\">\n",
       "  <thead>\n",
       "    <tr style=\"text-align: right;\">\n",
       "      <th></th>\n",
       "      <th>Date</th>\n",
       "      <th>Airline</th>\n",
       "      <th>FlightNum</th>\n",
       "    </tr>\n",
       "  </thead>\n",
       "  <tbody>\n",
       "    <tr>\n",
       "      <th>0</th>\n",
       "      <td>1997-01-09</td>\n",
       "      <td>Comair</td>\n",
       "      <td>3272</td>\n",
       "    </tr>\n",
       "    <tr>\n",
       "      <th>1</th>\n",
       "      <td>1997-03-18</td>\n",
       "      <td>Stavropolskaya Aktsionernaya Avia</td>\n",
       "      <td>1023</td>\n",
       "    </tr>\n",
       "    <tr>\n",
       "      <th>2</th>\n",
       "      <td>1997-04-19</td>\n",
       "      <td>Merpati Nusantara Airlines</td>\n",
       "      <td>106</td>\n",
       "    </tr>\n",
       "    <tr>\n",
       "      <th>3</th>\n",
       "      <td>1997-05-08</td>\n",
       "      <td>China Southern Airlines</td>\n",
       "      <td>3456</td>\n",
       "    </tr>\n",
       "    <tr>\n",
       "      <th>4</th>\n",
       "      <td>1997-07-31</td>\n",
       "      <td>FedEx Express</td>\n",
       "      <td>14</td>\n",
       "    </tr>\n",
       "    <tr>\n",
       "      <th>5</th>\n",
       "      <td>1997-07-17</td>\n",
       "      <td>Sempati Air</td>\n",
       "      <td>304</td>\n",
       "    </tr>\n",
       "    <tr>\n",
       "      <th>6</th>\n",
       "      <td>1997-08-06</td>\n",
       "      <td>Korean Air</td>\n",
       "      <td>801</td>\n",
       "    </tr>\n",
       "    <tr>\n",
       "      <th>7</th>\n",
       "      <td>1997-08-10</td>\n",
       "      <td>Formosa Airlines</td>\n",
       "      <td>7601</td>\n",
       "    </tr>\n",
       "    <tr>\n",
       "      <th>8</th>\n",
       "      <td>1997-09-03</td>\n",
       "      <td>Vietnam Airlines</td>\n",
       "      <td>815</td>\n",
       "    </tr>\n",
       "    <tr>\n",
       "      <th>9</th>\n",
       "      <td>1997-09-06</td>\n",
       "      <td>Royal Brunei Airlines</td>\n",
       "      <td>238</td>\n",
       "    </tr>\n",
       "  </tbody>\n",
       "</table>\n",
       "</div>"
      ],
      "text/plain": [
       "        Date                            Airline FlightNum\n",
       "0 1997-01-09                             Comair      3272\n",
       "1 1997-03-18  Stavropolskaya Aktsionernaya Avia      1023\n",
       "2 1997-04-19         Merpati Nusantara Airlines       106\n",
       "3 1997-05-08            China Southern Airlines      3456\n",
       "4 1997-07-31                      FedEx Express        14\n",
       "5 1997-07-17                        Sempati Air       304\n",
       "6 1997-08-06                         Korean Air       801\n",
       "7 1997-08-10                   Formosa Airlines      7601\n",
       "8 1997-09-03                   Vietnam Airlines       815\n",
       "9 1997-09-06              Royal Brunei Airlines       238"
      ]
     },
     "execution_count": 101,
     "metadata": {},
     "output_type": "execute_result"
    }
   ],
   "source": [
    "incidents_df.head(10)"
   ]
  },
  {
   "cell_type": "markdown",
   "metadata": {
    "deletable": false,
    "editable": false,
    "nbgrader": {
     "checksum": "8d5cada1374b6b3f2928856299ffd0ac",
     "grade": false,
     "grade_id": "step3",
     "locked": true,
     "schema_version": 1,
     "solution": false
    }
   },
   "source": [
    "## Step 3: Making Data “Persistent”\n",
    "\n",
    "Now let’s actually save the data in a persistent way, specifically using a relational database.  For simplicity we’ll use SQLite here, but we could alternatively use a DBMS such as MySQL or PostgreSQL on the cloud (or in another Docker container).\n",
    "\n",
    "The cell below establishes a connection to an SQLite database, which will be written to the file HW1_DB in your HW1 Jupyter directory."
   ]
  },
  {
   "cell_type": "code",
   "execution_count": 102,
   "metadata": {
    "deletable": false,
    "editable": false,
    "nbgrader": {
     "checksum": "71312652d44744d492398bf73174dd87",
     "grade": false,
     "grade_id": "sqlite3",
     "locked": true,
     "schema_version": 1,
     "solution": false
    }
   },
   "outputs": [],
   "source": [
    "# sqlite3 allows for use of SQL queries in Python. Just run this cell, no edits needed!\n",
    "import sqlite3\n",
    "engine = sqlite3.connect('HW1_DB')"
   ]
  },
  {
   "cell_type": "markdown",
   "metadata": {
    "deletable": false,
    "editable": false,
    "nbgrader": {
     "checksum": "a58f5590f07e13527b3e8ccbc68ee9f1",
     "grade": false,
     "grade_id": "save_dfs",
     "locked": true,
     "schema_version": 1,
     "solution": false
    }
   },
   "source": [
    "Now save each of your DataFrames (`airlines_df`, `airports_df`, `flights_df`, `routes_df`, `incidents_df`) to the database.  To do this, call the `to_sql` method (make sure to not save the `index` column since it doesn't matter!) on the DataFrame.  Give it a table name matching the DataFrame name, and set the flag `if_exists=’replace’` in case you want to run this multiple times.\n",
    "\n",
    "Once this is all done, you can move on to Homework 1, Part 2, which will use the DataFrames saved to the SQL database."
   ]
  },
  {
   "cell_type": "code",
   "execution_count": 103,
   "metadata": {
    "deletable": false,
    "nbgrader": {
     "checksum": "b87eec6c86d8175cd3b046c0ad2e016c",
     "grade": false,
     "grade_id": "to_sql",
     "locked": false,
     "schema_version": 1,
     "solution": true
    }
   },
   "outputs": [],
   "source": [
    "# TODO: Use to_sql to save your Dataframes to the HW1_DB\n",
    "airlines_df.to_sql(\"airlines_df\", con=engine, if_exists='replace', index=False)\n",
    "airports_df.to_sql(\"airports_df\", con=engine, if_exists='replace',index=False)\n",
    "flights_df.to_sql(\"flights_df\", con=engine, if_exists='replace', index=False)\n",
    "routes_df.to_sql(\"routes_df\", con=engine, if_exists='replace', index=False)\n",
    "incidents_df.to_sql(\"incidents_df\", con=engine, if_exists='replace',  index=False)"
   ]
  },
  {
   "cell_type": "code",
   "execution_count": 104,
   "metadata": {
    "deletable": false,
    "editable": false,
    "nbgrader": {
     "checksum": "005126c946c3feba6575b50777656fbb",
     "grade": true,
     "grade_id": "test_execute",
     "locked": true,
     "points": 0,
     "schema_version": 1,
     "solution": false
    }
   },
   "outputs": [
    {
     "name": "stdout",
     "output_type": "stream",
     "text": [
      "(1, 'Goroka', 'Goroka', 'Papua New Guinea', 'GKA', 'AYGA', -6.081689, 145.391881, 5282, 10.0, 'U', 'Pacific/Port_Moresby')\n",
      "(2, 'Madang', 'Madang', 'Papua New Guinea', 'MAG', 'AYMD', -5.207083, 145.7887, 20, 10.0, 'U', 'Pacific/Port_Moresby')\n",
      "(3, 'Mount Hagen', 'Mount Hagen', 'Papua New Guinea', 'HGU', 'AYMH', -5.826789, 144.295861, 5388, 10.0, 'U', 'Pacific/Port_Moresby')\n",
      "(4, 'Nadzab', 'Nadzab', 'Papua New Guinea', 'LAE', 'AYNZ', -6.569828, 146.72624199999998, 239, 10.0, 'U', 'Pacific/Port_Moresby')\n",
      "(5, 'Port Moresby Jacksons Intl', 'Port Moresby', 'Papua New Guinea', 'POM', 'AYPY', -9.443383, 147.22005, 146, 10.0, 'U', 'Pacific/Port_Moresby')\n",
      "(6, 'Wewak Intl', 'Wewak', 'Papua New Guinea', 'WWK', 'AYWK', -3.583828, 143.669186, 19, 10.0, 'U', 'Pacific/Port_Moresby')\n",
      "(7, 'Narsarsuaq', 'Narssarssuaq', 'Greenland', 'UAK', 'BGBW', 61.160517000000006, -45.425978, 112, -3.0, 'E', 'America/Godthab')\n",
      "(8, 'Nuuk', 'Godthaab', 'Greenland', 'GOH', 'BGGH', 64.190922, -51.678064, 283, -3.0, 'E', 'America/Godthab')\n",
      "(9, 'Sondre Stromfjord', 'Sondrestrom', 'Greenland', 'SFJ', 'BGSF', 67.01696899999999, -50.689325, 165, -3.0, 'E', 'America/Godthab')\n",
      "(10, 'Thule Air Base', 'Thule', 'Greenland', 'THU', 'BGTL', 76.531203, -68.703161, 251, -4.0, 'E', 'America/Thule')\n"
     ]
    }
   ],
   "source": [
    "# Test that the data is there!\n",
    "# No points for this test case!\n",
    "\n",
    "cursor = engine.execute('select * from airports limit 1000')\n",
    "rows = cursor.fetchall()\n",
    "\n",
    "# View some data\n",
    "for i in range(10):\n",
    "    print(rows[i])\n",
    "\n",
    "if len(rows) < 1000:\n",
    "    raise ValueError('Somehow fewer than 1000 airports were written')"
   ]
  },
  {
   "cell_type": "code",
   "execution_count": null,
   "metadata": {},
   "outputs": [],
   "source": []
  },
  {
   "cell_type": "code",
   "execution_count": null,
   "metadata": {},
   "outputs": [],
   "source": []
  },
  {
   "cell_type": "code",
   "execution_count": null,
   "metadata": {},
   "outputs": [],
   "source": []
  }
 ],
 "metadata": {
  "anaconda-cloud": {},
  "kernelspec": {
   "display_name": "Python 3",
   "language": "python",
   "name": "python3"
  },
  "language_info": {
   "codemirror_mode": {
    "name": "ipython",
    "version": 3
   },
   "file_extension": ".py",
   "mimetype": "text/x-python",
   "name": "python",
   "nbconvert_exporter": "python",
   "pygments_lexer": "ipython3",
   "version": "3.6.7"
  }
 },
 "nbformat": 4,
 "nbformat_minor": 2
}
